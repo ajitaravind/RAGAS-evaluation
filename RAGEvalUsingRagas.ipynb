{
  "nbformat": 4,
  "nbformat_minor": 0,
  "metadata": {
    "colab": {
      "provenance": [],
      "authorship_tag": "ABX9TyPHJBLZpHQ0Qjd08YPoHZ6l",
      "include_colab_link": true
    },
    "kernelspec": {
      "name": "python3",
      "display_name": "Python 3"
    },
    "language_info": {
      "name": "python"
    },
    "widgets": {
      "application/vnd.jupyter.widget-state+json": {
        "89662897321b4b0d992acac5c5abaa09": {
          "model_module": "@jupyter-widgets/controls",
          "model_name": "HBoxModel",
          "model_module_version": "1.5.0",
          "state": {
            "_dom_classes": [],
            "_model_module": "@jupyter-widgets/controls",
            "_model_module_version": "1.5.0",
            "_model_name": "HBoxModel",
            "_view_count": null,
            "_view_module": "@jupyter-widgets/controls",
            "_view_module_version": "1.5.0",
            "_view_name": "HBoxView",
            "box_style": "",
            "children": [
              "IPY_MODEL_688f9b4501ca44ab9c75ff7acf36f6b7",
              "IPY_MODEL_43ca4bc4857f4a76bcdfef758cbe5611",
              "IPY_MODEL_8aff0adb8d9046dca6d360f9843afa11"
            ],
            "layout": "IPY_MODEL_6c6329994ec546399ed7af2acd3ddc55"
          }
        },
        "688f9b4501ca44ab9c75ff7acf36f6b7": {
          "model_module": "@jupyter-widgets/controls",
          "model_name": "HTMLModel",
          "model_module_version": "1.5.0",
          "state": {
            "_dom_classes": [],
            "_model_module": "@jupyter-widgets/controls",
            "_model_module_version": "1.5.0",
            "_model_name": "HTMLModel",
            "_view_count": null,
            "_view_module": "@jupyter-widgets/controls",
            "_view_module_version": "1.5.0",
            "_view_name": "HTMLView",
            "description": "",
            "description_tooltip": null,
            "layout": "IPY_MODEL_719a7aacd61f4316978c19f2e6efe6d0",
            "placeholder": "​",
            "style": "IPY_MODEL_c0d7b241f20a449eb552cf69dcd0e958",
            "value": "embedding nodes:  98%"
          }
        },
        "43ca4bc4857f4a76bcdfef758cbe5611": {
          "model_module": "@jupyter-widgets/controls",
          "model_name": "FloatProgressModel",
          "model_module_version": "1.5.0",
          "state": {
            "_dom_classes": [],
            "_model_module": "@jupyter-widgets/controls",
            "_model_module_version": "1.5.0",
            "_model_name": "FloatProgressModel",
            "_view_count": null,
            "_view_module": "@jupyter-widgets/controls",
            "_view_module_version": "1.5.0",
            "_view_name": "ProgressView",
            "bar_style": "",
            "description": "",
            "description_tooltip": null,
            "layout": "IPY_MODEL_88f2cfeaef0e4b14928b34748a8a7503",
            "max": 42,
            "min": 0,
            "orientation": "horizontal",
            "style": "IPY_MODEL_548887c271ac428791e2cea29c793ed7",
            "value": 42
          }
        },
        "8aff0adb8d9046dca6d360f9843afa11": {
          "model_module": "@jupyter-widgets/controls",
          "model_name": "HTMLModel",
          "model_module_version": "1.5.0",
          "state": {
            "_dom_classes": [],
            "_model_module": "@jupyter-widgets/controls",
            "_model_module_version": "1.5.0",
            "_model_name": "HTMLModel",
            "_view_count": null,
            "_view_module": "@jupyter-widgets/controls",
            "_view_module_version": "1.5.0",
            "_view_name": "HTMLView",
            "description": "",
            "description_tooltip": null,
            "layout": "IPY_MODEL_6a07a3049b2f425ab8f61cdc757f4325",
            "placeholder": "​",
            "style": "IPY_MODEL_14156bc8ca824792a8b04e29c36cd0ec",
            "value": " 41/42 [00:02&lt;00:00, 15.55it/s]"
          }
        },
        "6c6329994ec546399ed7af2acd3ddc55": {
          "model_module": "@jupyter-widgets/base",
          "model_name": "LayoutModel",
          "model_module_version": "1.2.0",
          "state": {
            "_model_module": "@jupyter-widgets/base",
            "_model_module_version": "1.2.0",
            "_model_name": "LayoutModel",
            "_view_count": null,
            "_view_module": "@jupyter-widgets/base",
            "_view_module_version": "1.2.0",
            "_view_name": "LayoutView",
            "align_content": null,
            "align_items": null,
            "align_self": null,
            "border": null,
            "bottom": null,
            "display": null,
            "flex": null,
            "flex_flow": null,
            "grid_area": null,
            "grid_auto_columns": null,
            "grid_auto_flow": null,
            "grid_auto_rows": null,
            "grid_column": null,
            "grid_gap": null,
            "grid_row": null,
            "grid_template_areas": null,
            "grid_template_columns": null,
            "grid_template_rows": null,
            "height": null,
            "justify_content": null,
            "justify_items": null,
            "left": null,
            "margin": null,
            "max_height": null,
            "max_width": null,
            "min_height": null,
            "min_width": null,
            "object_fit": null,
            "object_position": null,
            "order": null,
            "overflow": null,
            "overflow_x": null,
            "overflow_y": null,
            "padding": null,
            "right": null,
            "top": null,
            "visibility": "hidden",
            "width": null
          }
        },
        "719a7aacd61f4316978c19f2e6efe6d0": {
          "model_module": "@jupyter-widgets/base",
          "model_name": "LayoutModel",
          "model_module_version": "1.2.0",
          "state": {
            "_model_module": "@jupyter-widgets/base",
            "_model_module_version": "1.2.0",
            "_model_name": "LayoutModel",
            "_view_count": null,
            "_view_module": "@jupyter-widgets/base",
            "_view_module_version": "1.2.0",
            "_view_name": "LayoutView",
            "align_content": null,
            "align_items": null,
            "align_self": null,
            "border": null,
            "bottom": null,
            "display": null,
            "flex": null,
            "flex_flow": null,
            "grid_area": null,
            "grid_auto_columns": null,
            "grid_auto_flow": null,
            "grid_auto_rows": null,
            "grid_column": null,
            "grid_gap": null,
            "grid_row": null,
            "grid_template_areas": null,
            "grid_template_columns": null,
            "grid_template_rows": null,
            "height": null,
            "justify_content": null,
            "justify_items": null,
            "left": null,
            "margin": null,
            "max_height": null,
            "max_width": null,
            "min_height": null,
            "min_width": null,
            "object_fit": null,
            "object_position": null,
            "order": null,
            "overflow": null,
            "overflow_x": null,
            "overflow_y": null,
            "padding": null,
            "right": null,
            "top": null,
            "visibility": null,
            "width": null
          }
        },
        "c0d7b241f20a449eb552cf69dcd0e958": {
          "model_module": "@jupyter-widgets/controls",
          "model_name": "DescriptionStyleModel",
          "model_module_version": "1.5.0",
          "state": {
            "_model_module": "@jupyter-widgets/controls",
            "_model_module_version": "1.5.0",
            "_model_name": "DescriptionStyleModel",
            "_view_count": null,
            "_view_module": "@jupyter-widgets/base",
            "_view_module_version": "1.2.0",
            "_view_name": "StyleView",
            "description_width": ""
          }
        },
        "88f2cfeaef0e4b14928b34748a8a7503": {
          "model_module": "@jupyter-widgets/base",
          "model_name": "LayoutModel",
          "model_module_version": "1.2.0",
          "state": {
            "_model_module": "@jupyter-widgets/base",
            "_model_module_version": "1.2.0",
            "_model_name": "LayoutModel",
            "_view_count": null,
            "_view_module": "@jupyter-widgets/base",
            "_view_module_version": "1.2.0",
            "_view_name": "LayoutView",
            "align_content": null,
            "align_items": null,
            "align_self": null,
            "border": null,
            "bottom": null,
            "display": null,
            "flex": null,
            "flex_flow": null,
            "grid_area": null,
            "grid_auto_columns": null,
            "grid_auto_flow": null,
            "grid_auto_rows": null,
            "grid_column": null,
            "grid_gap": null,
            "grid_row": null,
            "grid_template_areas": null,
            "grid_template_columns": null,
            "grid_template_rows": null,
            "height": null,
            "justify_content": null,
            "justify_items": null,
            "left": null,
            "margin": null,
            "max_height": null,
            "max_width": null,
            "min_height": null,
            "min_width": null,
            "object_fit": null,
            "object_position": null,
            "order": null,
            "overflow": null,
            "overflow_x": null,
            "overflow_y": null,
            "padding": null,
            "right": null,
            "top": null,
            "visibility": null,
            "width": null
          }
        },
        "548887c271ac428791e2cea29c793ed7": {
          "model_module": "@jupyter-widgets/controls",
          "model_name": "ProgressStyleModel",
          "model_module_version": "1.5.0",
          "state": {
            "_model_module": "@jupyter-widgets/controls",
            "_model_module_version": "1.5.0",
            "_model_name": "ProgressStyleModel",
            "_view_count": null,
            "_view_module": "@jupyter-widgets/base",
            "_view_module_version": "1.2.0",
            "_view_name": "StyleView",
            "bar_color": null,
            "description_width": ""
          }
        },
        "6a07a3049b2f425ab8f61cdc757f4325": {
          "model_module": "@jupyter-widgets/base",
          "model_name": "LayoutModel",
          "model_module_version": "1.2.0",
          "state": {
            "_model_module": "@jupyter-widgets/base",
            "_model_module_version": "1.2.0",
            "_model_name": "LayoutModel",
            "_view_count": null,
            "_view_module": "@jupyter-widgets/base",
            "_view_module_version": "1.2.0",
            "_view_name": "LayoutView",
            "align_content": null,
            "align_items": null,
            "align_self": null,
            "border": null,
            "bottom": null,
            "display": null,
            "flex": null,
            "flex_flow": null,
            "grid_area": null,
            "grid_auto_columns": null,
            "grid_auto_flow": null,
            "grid_auto_rows": null,
            "grid_column": null,
            "grid_gap": null,
            "grid_row": null,
            "grid_template_areas": null,
            "grid_template_columns": null,
            "grid_template_rows": null,
            "height": null,
            "justify_content": null,
            "justify_items": null,
            "left": null,
            "margin": null,
            "max_height": null,
            "max_width": null,
            "min_height": null,
            "min_width": null,
            "object_fit": null,
            "object_position": null,
            "order": null,
            "overflow": null,
            "overflow_x": null,
            "overflow_y": null,
            "padding": null,
            "right": null,
            "top": null,
            "visibility": null,
            "width": null
          }
        },
        "14156bc8ca824792a8b04e29c36cd0ec": {
          "model_module": "@jupyter-widgets/controls",
          "model_name": "DescriptionStyleModel",
          "model_module_version": "1.5.0",
          "state": {
            "_model_module": "@jupyter-widgets/controls",
            "_model_module_version": "1.5.0",
            "_model_name": "DescriptionStyleModel",
            "_view_count": null,
            "_view_module": "@jupyter-widgets/base",
            "_view_module_version": "1.2.0",
            "_view_name": "StyleView",
            "description_width": ""
          }
        },
        "2e844bd49fae4df5bc1c37c39c09d56c": {
          "model_module": "@jupyter-widgets/controls",
          "model_name": "HBoxModel",
          "model_module_version": "1.5.0",
          "state": {
            "_dom_classes": [],
            "_model_module": "@jupyter-widgets/controls",
            "_model_module_version": "1.5.0",
            "_model_name": "HBoxModel",
            "_view_count": null,
            "_view_module": "@jupyter-widgets/controls",
            "_view_module_version": "1.5.0",
            "_view_name": "HBoxView",
            "box_style": "",
            "children": [
              "IPY_MODEL_9803787ad5d446489a7701cca9da4644",
              "IPY_MODEL_b889acf58c8d40dda73b7a72ff9dd1e6",
              "IPY_MODEL_1fd7e7fec56d4ceabf5d2b477c715cf9"
            ],
            "layout": "IPY_MODEL_bd06f7dd7bbd43299b24f6672f24af89"
          }
        },
        "9803787ad5d446489a7701cca9da4644": {
          "model_module": "@jupyter-widgets/controls",
          "model_name": "HTMLModel",
          "model_module_version": "1.5.0",
          "state": {
            "_dom_classes": [],
            "_model_module": "@jupyter-widgets/controls",
            "_model_module_version": "1.5.0",
            "_model_name": "HTMLModel",
            "_view_count": null,
            "_view_module": "@jupyter-widgets/controls",
            "_view_module_version": "1.5.0",
            "_view_name": "HTMLView",
            "description": "",
            "description_tooltip": null,
            "layout": "IPY_MODEL_e275e6c91ed84590819c39f6d631f36d",
            "placeholder": "​",
            "style": "IPY_MODEL_23e114617ca343ceab995c1da32d6211",
            "value": "Generating: 100%"
          }
        },
        "b889acf58c8d40dda73b7a72ff9dd1e6": {
          "model_module": "@jupyter-widgets/controls",
          "model_name": "FloatProgressModel",
          "model_module_version": "1.5.0",
          "state": {
            "_dom_classes": [],
            "_model_module": "@jupyter-widgets/controls",
            "_model_module_version": "1.5.0",
            "_model_name": "FloatProgressModel",
            "_view_count": null,
            "_view_module": "@jupyter-widgets/controls",
            "_view_module_version": "1.5.0",
            "_view_name": "ProgressView",
            "bar_style": "success",
            "description": "",
            "description_tooltip": null,
            "layout": "IPY_MODEL_fca6986e8adf4315bf714ddd70bb3c5d",
            "max": 2,
            "min": 0,
            "orientation": "horizontal",
            "style": "IPY_MODEL_b977afa69ba94ce88db7263acfcb6bfe",
            "value": 2
          }
        },
        "1fd7e7fec56d4ceabf5d2b477c715cf9": {
          "model_module": "@jupyter-widgets/controls",
          "model_name": "HTMLModel",
          "model_module_version": "1.5.0",
          "state": {
            "_dom_classes": [],
            "_model_module": "@jupyter-widgets/controls",
            "_model_module_version": "1.5.0",
            "_model_name": "HTMLModel",
            "_view_count": null,
            "_view_module": "@jupyter-widgets/controls",
            "_view_module_version": "1.5.0",
            "_view_name": "HTMLView",
            "description": "",
            "description_tooltip": null,
            "layout": "IPY_MODEL_aac61d30dbf94d03a93b93110f982098",
            "placeholder": "​",
            "style": "IPY_MODEL_803e1d5dc45f4727be107cb64db7965a",
            "value": " 2/2 [00:30&lt;00:00, 12.86s/it]"
          }
        },
        "bd06f7dd7bbd43299b24f6672f24af89": {
          "model_module": "@jupyter-widgets/base",
          "model_name": "LayoutModel",
          "model_module_version": "1.2.0",
          "state": {
            "_model_module": "@jupyter-widgets/base",
            "_model_module_version": "1.2.0",
            "_model_name": "LayoutModel",
            "_view_count": null,
            "_view_module": "@jupyter-widgets/base",
            "_view_module_version": "1.2.0",
            "_view_name": "LayoutView",
            "align_content": null,
            "align_items": null,
            "align_self": null,
            "border": null,
            "bottom": null,
            "display": null,
            "flex": null,
            "flex_flow": null,
            "grid_area": null,
            "grid_auto_columns": null,
            "grid_auto_flow": null,
            "grid_auto_rows": null,
            "grid_column": null,
            "grid_gap": null,
            "grid_row": null,
            "grid_template_areas": null,
            "grid_template_columns": null,
            "grid_template_rows": null,
            "height": null,
            "justify_content": null,
            "justify_items": null,
            "left": null,
            "margin": null,
            "max_height": null,
            "max_width": null,
            "min_height": null,
            "min_width": null,
            "object_fit": null,
            "object_position": null,
            "order": null,
            "overflow": null,
            "overflow_x": null,
            "overflow_y": null,
            "padding": null,
            "right": null,
            "top": null,
            "visibility": null,
            "width": null
          }
        },
        "e275e6c91ed84590819c39f6d631f36d": {
          "model_module": "@jupyter-widgets/base",
          "model_name": "LayoutModel",
          "model_module_version": "1.2.0",
          "state": {
            "_model_module": "@jupyter-widgets/base",
            "_model_module_version": "1.2.0",
            "_model_name": "LayoutModel",
            "_view_count": null,
            "_view_module": "@jupyter-widgets/base",
            "_view_module_version": "1.2.0",
            "_view_name": "LayoutView",
            "align_content": null,
            "align_items": null,
            "align_self": null,
            "border": null,
            "bottom": null,
            "display": null,
            "flex": null,
            "flex_flow": null,
            "grid_area": null,
            "grid_auto_columns": null,
            "grid_auto_flow": null,
            "grid_auto_rows": null,
            "grid_column": null,
            "grid_gap": null,
            "grid_row": null,
            "grid_template_areas": null,
            "grid_template_columns": null,
            "grid_template_rows": null,
            "height": null,
            "justify_content": null,
            "justify_items": null,
            "left": null,
            "margin": null,
            "max_height": null,
            "max_width": null,
            "min_height": null,
            "min_width": null,
            "object_fit": null,
            "object_position": null,
            "order": null,
            "overflow": null,
            "overflow_x": null,
            "overflow_y": null,
            "padding": null,
            "right": null,
            "top": null,
            "visibility": null,
            "width": null
          }
        },
        "23e114617ca343ceab995c1da32d6211": {
          "model_module": "@jupyter-widgets/controls",
          "model_name": "DescriptionStyleModel",
          "model_module_version": "1.5.0",
          "state": {
            "_model_module": "@jupyter-widgets/controls",
            "_model_module_version": "1.5.0",
            "_model_name": "DescriptionStyleModel",
            "_view_count": null,
            "_view_module": "@jupyter-widgets/base",
            "_view_module_version": "1.2.0",
            "_view_name": "StyleView",
            "description_width": ""
          }
        },
        "fca6986e8adf4315bf714ddd70bb3c5d": {
          "model_module": "@jupyter-widgets/base",
          "model_name": "LayoutModel",
          "model_module_version": "1.2.0",
          "state": {
            "_model_module": "@jupyter-widgets/base",
            "_model_module_version": "1.2.0",
            "_model_name": "LayoutModel",
            "_view_count": null,
            "_view_module": "@jupyter-widgets/base",
            "_view_module_version": "1.2.0",
            "_view_name": "LayoutView",
            "align_content": null,
            "align_items": null,
            "align_self": null,
            "border": null,
            "bottom": null,
            "display": null,
            "flex": null,
            "flex_flow": null,
            "grid_area": null,
            "grid_auto_columns": null,
            "grid_auto_flow": null,
            "grid_auto_rows": null,
            "grid_column": null,
            "grid_gap": null,
            "grid_row": null,
            "grid_template_areas": null,
            "grid_template_columns": null,
            "grid_template_rows": null,
            "height": null,
            "justify_content": null,
            "justify_items": null,
            "left": null,
            "margin": null,
            "max_height": null,
            "max_width": null,
            "min_height": null,
            "min_width": null,
            "object_fit": null,
            "object_position": null,
            "order": null,
            "overflow": null,
            "overflow_x": null,
            "overflow_y": null,
            "padding": null,
            "right": null,
            "top": null,
            "visibility": null,
            "width": null
          }
        },
        "b977afa69ba94ce88db7263acfcb6bfe": {
          "model_module": "@jupyter-widgets/controls",
          "model_name": "ProgressStyleModel",
          "model_module_version": "1.5.0",
          "state": {
            "_model_module": "@jupyter-widgets/controls",
            "_model_module_version": "1.5.0",
            "_model_name": "ProgressStyleModel",
            "_view_count": null,
            "_view_module": "@jupyter-widgets/base",
            "_view_module_version": "1.2.0",
            "_view_name": "StyleView",
            "bar_color": null,
            "description_width": ""
          }
        },
        "aac61d30dbf94d03a93b93110f982098": {
          "model_module": "@jupyter-widgets/base",
          "model_name": "LayoutModel",
          "model_module_version": "1.2.0",
          "state": {
            "_model_module": "@jupyter-widgets/base",
            "_model_module_version": "1.2.0",
            "_model_name": "LayoutModel",
            "_view_count": null,
            "_view_module": "@jupyter-widgets/base",
            "_view_module_version": "1.2.0",
            "_view_name": "LayoutView",
            "align_content": null,
            "align_items": null,
            "align_self": null,
            "border": null,
            "bottom": null,
            "display": null,
            "flex": null,
            "flex_flow": null,
            "grid_area": null,
            "grid_auto_columns": null,
            "grid_auto_flow": null,
            "grid_auto_rows": null,
            "grid_column": null,
            "grid_gap": null,
            "grid_row": null,
            "grid_template_areas": null,
            "grid_template_columns": null,
            "grid_template_rows": null,
            "height": null,
            "justify_content": null,
            "justify_items": null,
            "left": null,
            "margin": null,
            "max_height": null,
            "max_width": null,
            "min_height": null,
            "min_width": null,
            "object_fit": null,
            "object_position": null,
            "order": null,
            "overflow": null,
            "overflow_x": null,
            "overflow_y": null,
            "padding": null,
            "right": null,
            "top": null,
            "visibility": null,
            "width": null
          }
        },
        "803e1d5dc45f4727be107cb64db7965a": {
          "model_module": "@jupyter-widgets/controls",
          "model_name": "DescriptionStyleModel",
          "model_module_version": "1.5.0",
          "state": {
            "_model_module": "@jupyter-widgets/controls",
            "_model_module_version": "1.5.0",
            "_model_name": "DescriptionStyleModel",
            "_view_count": null,
            "_view_module": "@jupyter-widgets/base",
            "_view_module_version": "1.2.0",
            "_view_name": "StyleView",
            "description_width": ""
          }
        },
        "014b14ccd1bd44c299900e13a7bd59ee": {
          "model_module": "@jupyter-widgets/controls",
          "model_name": "HBoxModel",
          "model_module_version": "1.5.0",
          "state": {
            "_dom_classes": [],
            "_model_module": "@jupyter-widgets/controls",
            "_model_module_version": "1.5.0",
            "_model_name": "HBoxModel",
            "_view_count": null,
            "_view_module": "@jupyter-widgets/controls",
            "_view_module_version": "1.5.0",
            "_view_name": "HBoxView",
            "box_style": "",
            "children": [
              "IPY_MODEL_e3e6a35f4f3b44d6b5bbc1a665c0421f",
              "IPY_MODEL_4711bd7ae7cb488f91e2833a8fe5dc72",
              "IPY_MODEL_43ce032a037444dc99d94d098bf5692f"
            ],
            "layout": "IPY_MODEL_3f92b7843d934a59bb720462b0d6cf6d"
          }
        },
        "e3e6a35f4f3b44d6b5bbc1a665c0421f": {
          "model_module": "@jupyter-widgets/controls",
          "model_name": "HTMLModel",
          "model_module_version": "1.5.0",
          "state": {
            "_dom_classes": [],
            "_model_module": "@jupyter-widgets/controls",
            "_model_module_version": "1.5.0",
            "_model_name": "HTMLModel",
            "_view_count": null,
            "_view_module": "@jupyter-widgets/controls",
            "_view_module_version": "1.5.0",
            "_view_name": "HTMLView",
            "description": "",
            "description_tooltip": null,
            "layout": "IPY_MODEL_3fc67a2cdbad444eba946c76cd82f404",
            "placeholder": "​",
            "style": "IPY_MODEL_b507cd7fc5c8404991da8fd850c60de7",
            "value": "Evaluating: 100%"
          }
        },
        "4711bd7ae7cb488f91e2833a8fe5dc72": {
          "model_module": "@jupyter-widgets/controls",
          "model_name": "FloatProgressModel",
          "model_module_version": "1.5.0",
          "state": {
            "_dom_classes": [],
            "_model_module": "@jupyter-widgets/controls",
            "_model_module_version": "1.5.0",
            "_model_name": "FloatProgressModel",
            "_view_count": null,
            "_view_module": "@jupyter-widgets/controls",
            "_view_module_version": "1.5.0",
            "_view_name": "ProgressView",
            "bar_style": "success",
            "description": "",
            "description_tooltip": null,
            "layout": "IPY_MODEL_b499e4c9be0147428378f38ef0065703",
            "max": 5,
            "min": 0,
            "orientation": "horizontal",
            "style": "IPY_MODEL_10b34c01fb984795958448314d69125d",
            "value": 5
          }
        },
        "43ce032a037444dc99d94d098bf5692f": {
          "model_module": "@jupyter-widgets/controls",
          "model_name": "HTMLModel",
          "model_module_version": "1.5.0",
          "state": {
            "_dom_classes": [],
            "_model_module": "@jupyter-widgets/controls",
            "_model_module_version": "1.5.0",
            "_model_name": "HTMLModel",
            "_view_count": null,
            "_view_module": "@jupyter-widgets/controls",
            "_view_module_version": "1.5.0",
            "_view_name": "HTMLView",
            "description": "",
            "description_tooltip": null,
            "layout": "IPY_MODEL_36e8d316641144e0981b70d5b6387607",
            "placeholder": "​",
            "style": "IPY_MODEL_529af38014c843a791c0f857272f8aa2",
            "value": " 5/5 [00:04&lt;00:00,  1.11it/s]"
          }
        },
        "3f92b7843d934a59bb720462b0d6cf6d": {
          "model_module": "@jupyter-widgets/base",
          "model_name": "LayoutModel",
          "model_module_version": "1.2.0",
          "state": {
            "_model_module": "@jupyter-widgets/base",
            "_model_module_version": "1.2.0",
            "_model_name": "LayoutModel",
            "_view_count": null,
            "_view_module": "@jupyter-widgets/base",
            "_view_module_version": "1.2.0",
            "_view_name": "LayoutView",
            "align_content": null,
            "align_items": null,
            "align_self": null,
            "border": null,
            "bottom": null,
            "display": null,
            "flex": null,
            "flex_flow": null,
            "grid_area": null,
            "grid_auto_columns": null,
            "grid_auto_flow": null,
            "grid_auto_rows": null,
            "grid_column": null,
            "grid_gap": null,
            "grid_row": null,
            "grid_template_areas": null,
            "grid_template_columns": null,
            "grid_template_rows": null,
            "height": null,
            "justify_content": null,
            "justify_items": null,
            "left": null,
            "margin": null,
            "max_height": null,
            "max_width": null,
            "min_height": null,
            "min_width": null,
            "object_fit": null,
            "object_position": null,
            "order": null,
            "overflow": null,
            "overflow_x": null,
            "overflow_y": null,
            "padding": null,
            "right": null,
            "top": null,
            "visibility": null,
            "width": null
          }
        },
        "3fc67a2cdbad444eba946c76cd82f404": {
          "model_module": "@jupyter-widgets/base",
          "model_name": "LayoutModel",
          "model_module_version": "1.2.0",
          "state": {
            "_model_module": "@jupyter-widgets/base",
            "_model_module_version": "1.2.0",
            "_model_name": "LayoutModel",
            "_view_count": null,
            "_view_module": "@jupyter-widgets/base",
            "_view_module_version": "1.2.0",
            "_view_name": "LayoutView",
            "align_content": null,
            "align_items": null,
            "align_self": null,
            "border": null,
            "bottom": null,
            "display": null,
            "flex": null,
            "flex_flow": null,
            "grid_area": null,
            "grid_auto_columns": null,
            "grid_auto_flow": null,
            "grid_auto_rows": null,
            "grid_column": null,
            "grid_gap": null,
            "grid_row": null,
            "grid_template_areas": null,
            "grid_template_columns": null,
            "grid_template_rows": null,
            "height": null,
            "justify_content": null,
            "justify_items": null,
            "left": null,
            "margin": null,
            "max_height": null,
            "max_width": null,
            "min_height": null,
            "min_width": null,
            "object_fit": null,
            "object_position": null,
            "order": null,
            "overflow": null,
            "overflow_x": null,
            "overflow_y": null,
            "padding": null,
            "right": null,
            "top": null,
            "visibility": null,
            "width": null
          }
        },
        "b507cd7fc5c8404991da8fd850c60de7": {
          "model_module": "@jupyter-widgets/controls",
          "model_name": "DescriptionStyleModel",
          "model_module_version": "1.5.0",
          "state": {
            "_model_module": "@jupyter-widgets/controls",
            "_model_module_version": "1.5.0",
            "_model_name": "DescriptionStyleModel",
            "_view_count": null,
            "_view_module": "@jupyter-widgets/base",
            "_view_module_version": "1.2.0",
            "_view_name": "StyleView",
            "description_width": ""
          }
        },
        "b499e4c9be0147428378f38ef0065703": {
          "model_module": "@jupyter-widgets/base",
          "model_name": "LayoutModel",
          "model_module_version": "1.2.0",
          "state": {
            "_model_module": "@jupyter-widgets/base",
            "_model_module_version": "1.2.0",
            "_model_name": "LayoutModel",
            "_view_count": null,
            "_view_module": "@jupyter-widgets/base",
            "_view_module_version": "1.2.0",
            "_view_name": "LayoutView",
            "align_content": null,
            "align_items": null,
            "align_self": null,
            "border": null,
            "bottom": null,
            "display": null,
            "flex": null,
            "flex_flow": null,
            "grid_area": null,
            "grid_auto_columns": null,
            "grid_auto_flow": null,
            "grid_auto_rows": null,
            "grid_column": null,
            "grid_gap": null,
            "grid_row": null,
            "grid_template_areas": null,
            "grid_template_columns": null,
            "grid_template_rows": null,
            "height": null,
            "justify_content": null,
            "justify_items": null,
            "left": null,
            "margin": null,
            "max_height": null,
            "max_width": null,
            "min_height": null,
            "min_width": null,
            "object_fit": null,
            "object_position": null,
            "order": null,
            "overflow": null,
            "overflow_x": null,
            "overflow_y": null,
            "padding": null,
            "right": null,
            "top": null,
            "visibility": null,
            "width": null
          }
        },
        "10b34c01fb984795958448314d69125d": {
          "model_module": "@jupyter-widgets/controls",
          "model_name": "ProgressStyleModel",
          "model_module_version": "1.5.0",
          "state": {
            "_model_module": "@jupyter-widgets/controls",
            "_model_module_version": "1.5.0",
            "_model_name": "ProgressStyleModel",
            "_view_count": null,
            "_view_module": "@jupyter-widgets/base",
            "_view_module_version": "1.2.0",
            "_view_name": "StyleView",
            "bar_color": null,
            "description_width": ""
          }
        },
        "36e8d316641144e0981b70d5b6387607": {
          "model_module": "@jupyter-widgets/base",
          "model_name": "LayoutModel",
          "model_module_version": "1.2.0",
          "state": {
            "_model_module": "@jupyter-widgets/base",
            "_model_module_version": "1.2.0",
            "_model_name": "LayoutModel",
            "_view_count": null,
            "_view_module": "@jupyter-widgets/base",
            "_view_module_version": "1.2.0",
            "_view_name": "LayoutView",
            "align_content": null,
            "align_items": null,
            "align_self": null,
            "border": null,
            "bottom": null,
            "display": null,
            "flex": null,
            "flex_flow": null,
            "grid_area": null,
            "grid_auto_columns": null,
            "grid_auto_flow": null,
            "grid_auto_rows": null,
            "grid_column": null,
            "grid_gap": null,
            "grid_row": null,
            "grid_template_areas": null,
            "grid_template_columns": null,
            "grid_template_rows": null,
            "height": null,
            "justify_content": null,
            "justify_items": null,
            "left": null,
            "margin": null,
            "max_height": null,
            "max_width": null,
            "min_height": null,
            "min_width": null,
            "object_fit": null,
            "object_position": null,
            "order": null,
            "overflow": null,
            "overflow_x": null,
            "overflow_y": null,
            "padding": null,
            "right": null,
            "top": null,
            "visibility": null,
            "width": null
          }
        },
        "529af38014c843a791c0f857272f8aa2": {
          "model_module": "@jupyter-widgets/controls",
          "model_name": "DescriptionStyleModel",
          "model_module_version": "1.5.0",
          "state": {
            "_model_module": "@jupyter-widgets/controls",
            "_model_module_version": "1.5.0",
            "_model_name": "DescriptionStyleModel",
            "_view_count": null,
            "_view_module": "@jupyter-widgets/base",
            "_view_module_version": "1.2.0",
            "_view_name": "StyleView",
            "description_width": ""
          }
        }
      }
    }
  },
  "cells": [
    {
      "cell_type": "markdown",
      "metadata": {
        "id": "view-in-github",
        "colab_type": "text"
      },
      "source": [
        "<a href=\"https://colab.research.google.com/github/ajitaravind/RAGAS-evaluation/blob/main/RAGEvalUsingRagas.ipynb\" target=\"_parent\"><img src=\"https://colab.research.google.com/assets/colab-badge.svg\" alt=\"Open In Colab\"/></a>"
      ]
    },
    {
      "cell_type": "code",
      "execution_count": 36,
      "metadata": {
        "id": "A--K48NxZhe7"
      },
      "outputs": [],
      "source": [
        "%%capture\n",
        "pip install langchain langchain_core langchain_community ragas langchain_openai langchain_nomic langchain-cohere"
      ]
    },
    {
      "cell_type": "code",
      "source": [
        "from langchain_community.document_loaders import WebBaseLoader\n",
        "\n",
        "loader = WebBaseLoader(\"https://blog.langchain.dev/langgraph-multi-agent-workflows/\")\n",
        "docs = loader.load()"
      ],
      "metadata": {
        "id": "qVr4KXKdZo8a"
      },
      "execution_count": 37,
      "outputs": []
    },
    {
      "cell_type": "code",
      "source": [
        "from langchain.docstore.document import Document"
      ],
      "metadata": {
        "id": "w3VUEZNISTe_"
      },
      "execution_count": 38,
      "outputs": []
    },
    {
      "cell_type": "code",
      "source": [
        "def remove_unessesary_lines(docs):\n",
        "    lines = \"\"\n",
        "    for doc in docs:\n",
        "            lines += doc.page_content\n",
        "    new_lines = lines.split(\"\\n\")\n",
        "    stripped_lines = [line.strip() for line in new_lines]\n",
        "    non_empty_lines = [line for line in stripped_lines if line]\n",
        "    cleaned_content = \"\".join(non_empty_lines)\n",
        "    return cleaned_content\n",
        "\n",
        "cleaned_content = remove_unessesary_lines(docs)\n",
        "\n",
        "#converting to a Document format for embedding\n",
        "new_doc = [Document(page_content=cleaned_content,metadata =docs[0].metadata)]"
      ],
      "metadata": {
        "id": "1UolZd50RyX5"
      },
      "execution_count": 39,
      "outputs": []
    },
    {
      "cell_type": "code",
      "source": [
        "from langchain.text_splitter import RecursiveCharacterTextSplitter\n",
        "text_splitter = RecursiveCharacterTextSplitter(chunk_size=500, chunk_overlap=50)\n",
        "chunks = text_splitter.split_documents(new_doc)"
      ],
      "metadata": {
        "id": "3TjeCq_OSZFl"
      },
      "execution_count": 40,
      "outputs": []
    },
    {
      "cell_type": "code",
      "source": [
        "import os\n",
        "from google.colab import userdata\n",
        "\n",
        "os.environ[\"OPENAI_API_KEY\"] = userdata.get('OPENAI_API_KEY')\n",
        "os.environ[\"NOMIC_API_KEY\"] = userdata.get('NOMIC_API_KEY')\n",
        "os.environ[\"COHERE_API_KEY\"] = userdata.get('COHERE_API_KEY')"
      ],
      "metadata": {
        "id": "3Vj6qF1ibmTe"
      },
      "execution_count": 41,
      "outputs": []
    },
    {
      "cell_type": "code",
      "source": [
        "# RAGAS expects a file_name dict as key\n",
        "for document in chunks:\n",
        "    document.metadata['file_name'] = document.metadata['source']"
      ],
      "metadata": {
        "id": "CJ4UhA8Mb1y2"
      },
      "execution_count": 42,
      "outputs": []
    },
    {
      "cell_type": "code",
      "source": [
        "from ragas.testset.generator import TestsetGenerator\n",
        "from ragas.testset.evolutions import simple, reasoning, multi_context\n",
        "from langchain_openai import ChatOpenAI\n",
        "from langchain_nomic.embeddings import NomicEmbeddings\n",
        "from langchain_cohere import ChatCohere"
      ],
      "metadata": {
        "id": "8wKZGZafb4EQ"
      },
      "execution_count": 43,
      "outputs": []
    },
    {
      "cell_type": "code",
      "source": [
        "generator_llm = ChatOpenAI(model=\"gpt-3.5-turbo-16k\")\n",
        "critic_llm = ChatCohere()\n",
        "embeddings = NomicEmbeddings(model=\"nomic-embed-text-v1.5\")"
      ],
      "metadata": {
        "id": "cQysCvvWb6wK"
      },
      "execution_count": 44,
      "outputs": []
    },
    {
      "cell_type": "code",
      "source": [
        "generator = TestsetGenerator.from_langchain(\n",
        "    generator_llm,\n",
        "    critic_llm,\n",
        "    embeddings\n",
        ")"
      ],
      "metadata": {
        "id": "0_y2t-nJcGoT"
      },
      "execution_count": 45,
      "outputs": []
    },
    {
      "cell_type": "code",
      "source": [
        "os.environ[\"LANGCHAIN_TRACING_V2\"] = \"true\"\n",
        "os.environ[\"LANGCHAIN_PROJECT\"] = \"ragaseval\"\n",
        "os.environ[\"LANGCHAIN_ENDPOINT\"] = \"https://api.smith.langchain.com\"\n",
        "os.environ[\"LANGCHAIN_API_KEY\"] = userdata.get('LANGCHAIN_API_KEY')"
      ],
      "metadata": {
        "id": "NDC2wQowTF1e"
      },
      "execution_count": 46,
      "outputs": []
    },
    {
      "cell_type": "code",
      "source": [
        "testset = generator.generate_with_langchain_docs(chunks, test_size=2, distributions={simple: 0.5, reasoning: 0.25, multi_context: 0.25})"
      ],
      "metadata": {
        "colab": {
          "base_uri": "https://localhost:8080/",
          "height": 104,
          "referenced_widgets": [
            "89662897321b4b0d992acac5c5abaa09",
            "688f9b4501ca44ab9c75ff7acf36f6b7",
            "43ca4bc4857f4a76bcdfef758cbe5611",
            "8aff0adb8d9046dca6d360f9843afa11",
            "6c6329994ec546399ed7af2acd3ddc55",
            "719a7aacd61f4316978c19f2e6efe6d0",
            "c0d7b241f20a449eb552cf69dcd0e958",
            "88f2cfeaef0e4b14928b34748a8a7503",
            "548887c271ac428791e2cea29c793ed7",
            "6a07a3049b2f425ab8f61cdc757f4325",
            "14156bc8ca824792a8b04e29c36cd0ec",
            "2e844bd49fae4df5bc1c37c39c09d56c",
            "9803787ad5d446489a7701cca9da4644",
            "b889acf58c8d40dda73b7a72ff9dd1e6",
            "1fd7e7fec56d4ceabf5d2b477c715cf9",
            "bd06f7dd7bbd43299b24f6672f24af89",
            "e275e6c91ed84590819c39f6d631f36d",
            "23e114617ca343ceab995c1da32d6211",
            "fca6986e8adf4315bf714ddd70bb3c5d",
            "b977afa69ba94ce88db7263acfcb6bfe",
            "aac61d30dbf94d03a93b93110f982098",
            "803e1d5dc45f4727be107cb64db7965a"
          ]
        },
        "id": "8wLH0OtCcIwU",
        "outputId": "a233cff9-1d82-4428-b82d-181f378ad6de"
      },
      "execution_count": 47,
      "outputs": [
        {
          "output_type": "display_data",
          "data": {
            "text/plain": [
              "embedding nodes:   0%|          | 0/42 [00:00<?, ?it/s]"
            ],
            "application/vnd.jupyter.widget-view+json": {
              "version_major": 2,
              "version_minor": 0,
              "model_id": "89662897321b4b0d992acac5c5abaa09"
            }
          },
          "metadata": {}
        },
        {
          "output_type": "stream",
          "name": "stderr",
          "text": [
            "WARNING:ragas.testset.docstore:Filename and doc_id are the same for all nodes.\n"
          ]
        },
        {
          "output_type": "display_data",
          "data": {
            "text/plain": [
              "Generating:   0%|          | 0/2 [00:00<?, ?it/s]"
            ],
            "application/vnd.jupyter.widget-view+json": {
              "version_major": 2,
              "version_minor": 0,
              "model_id": "2e844bd49fae4df5bc1c37c39c09d56c"
            }
          },
          "metadata": {}
        },
        {
          "output_type": "stream",
          "name": "stderr",
          "text": [
            "WARNING:ragas.executor:max retries exceeded for SimpleEvolution(generator_llm=LangchainLLMWrapper(run_config=RunConfig(timeout=60, max_retries=15, max_wait=90, max_workers=16, exception_types=<class 'openai.RateLimitError'>)), docstore=InMemoryDocumentStore(splitter=<langchain_text_splitters.base.TokenTextSplitter object at 0x7e7a19cbafb0>, nodes=[Node(page_content='LangGraph: Multi-Agent WorkflowsSkip to contentBy LangChainRelease NotesCase StudiesLangChainGitHubDocsSign inSubscribeLangGraph: Multi-Agent WorkflowsBy LangChain6 min readJan 23, 2024LinksPython ExamplesJS ExamplesYouTubeLast week we highlighted LangGraph - a new package (available in both Python and JS) to better enable creation of LLM workflows containing cycles, which are a critical component of most agent runtimes. As a part of the launch, we highlighted two simple runtimes: one that is', metadata={'source': 'https://blog.langchain.dev/langgraph-multi-agent-workflows/', 'title': 'LangGraph: Multi-Agent Workflows', 'language': 'en', 'file_name': 'https://blog.langchain.dev/langgraph-multi-agent-workflows/'}, doc_id='b15f9889-237d-4b42-b28a-5979569f5f14', wins=4), Node(page_content='we highlighted two simple runtimes: one that is the equivalent of the AgentExecutor in langchain, and a second that was a version of that aimed at message passing and chat models.Today, we\\'re excited to highlight a second set of use cases for langgraph - multi-agent workflows. In this blog we will cover:What does \"multi-agent\" mean?Why are \"multi-agent\" workflows interesting?Three concrete examples of using LangGraph for multi-agent workflowsTwo examples of third-party applications built on top', metadata={'source': 'https://blog.langchain.dev/langgraph-multi-agent-workflows/', 'title': 'LangGraph: Multi-Agent Workflows', 'language': 'en', 'file_name': 'https://blog.langchain.dev/langgraph-multi-agent-workflows/'}, doc_id='ee57b68f-fdbf-4d4e-a012-01ab41c166cc', wins=3), Node(page_content='examples of third-party applications built on top of LangGraph using multi-agent workflows (GPT-Newspaper and CrewAI)Comparison to other frameworks (Autogen and CrewAI)What is \"multi-agent\"?ðŸ’¡When we are talking about \"multi-agent\", we are talking about multiple independent actors powered by language models connected in a specific way.Each agent can have its own prompt, LLM, tools, and other custom code to best collaborate with the other agents. That means there are two main considerations', metadata={'source': 'https://blog.langchain.dev/langgraph-multi-agent-workflows/', 'title': 'LangGraph: Multi-Agent Workflows', 'language': 'en', 'file_name': 'https://blog.langchain.dev/langgraph-multi-agent-workflows/'}, doc_id='7bdd7bba-39ca-4b4d-abde-8aecf5f58b07', wins=3), Node(page_content=\"That means there are two main considerations when thinking about different multi-agent workflows:What are the multiple independent agents?How are those agents connected?This thinking lends itself incredibly well to a graph representation, such as that provided by langgraph. In this approach, each agent is a node in the graph, and their connections are represented as an edge. The control flow is managed by edges, and they communicate by adding to the graph's state.Note: a very related concept\", metadata={'source': 'https://blog.langchain.dev/langgraph-multi-agent-workflows/', 'title': 'LangGraph: Multi-Agent Workflows', 'language': 'en', 'file_name': 'https://blog.langchain.dev/langgraph-multi-agent-workflows/'}, doc_id='dc321d28-6a0a-481b-b18f-752d0e4c7d27', wins=3), Node(page_content='to the graph\\'s state.Note: a very related concept here is the concept of state machines, which we explicitly called out as a category of cognitive architectures. When viewed in this way, the independent agent nodes become the states, and how those agents are connected is the transition matrices. Since a state machine can be viewed as a labeled, directed graph, we will think of these things in the same way.Benefits of multi-agent designs\"If one agent can\\'t work well, then why is multi-agent', metadata={'source': 'https://blog.langchain.dev/langgraph-multi-agent-workflows/', 'title': 'LangGraph: Multi-Agent Workflows', 'language': 'en', 'file_name': 'https://blog.langchain.dev/langgraph-multi-agent-workflows/'}, doc_id='30df4734-0c41-4c09-81cb-7c14d6ec73cc', wins=1), Node(page_content='agent can\\'t work well, then why is multi-agent useful?\"Grouping tools/responsibilities can give better results. An agent is more likely to succeed on a focused task than if it has to select from dozens of tools.Separate prompts can give better results. Each prompt can have its own instructions and few-shot examples. Each agent could even be powered by a separate fine-tuned LLM!Helpful conceptual model to develop. You can evaluate and improve each agent individually without breaking the larger', metadata={'source': 'https://blog.langchain.dev/langgraph-multi-agent-workflows/', 'title': 'LangGraph: Multi-Agent Workflows', 'language': 'en', 'file_name': 'https://blog.langchain.dev/langgraph-multi-agent-workflows/'}, doc_id='afcb343b-0a8c-4fba-836d-a8e3084ab467', wins=2), Node(page_content=\"agent individually without breaking the larger application. Multi-agent designs allow you to divide complicated problems into tractable units of work that can be targeted by specialized agents and LLM programs.Multi-agent examplesWe've added three separate example of multi-agent workflows to the langgraph repo. Each of these has slightly different answers for the above two questions, which we will go over when we highlight the examples. It's important to note that these three examples are only\", metadata={'source': 'https://blog.langchain.dev/langgraph-multi-agent-workflows/', 'title': 'LangGraph: Multi-Agent Workflows', 'language': 'en', 'file_name': 'https://blog.langchain.dev/langgraph-multi-agent-workflows/'}, doc_id='f5636177-473e-4589-b9ac-d25ab7f23b90', wins=2), Node(page_content='to note that these three examples are only a few of the possible examples we could highlight - there are almost assuredly other examples out there and we look forward to seeing what the community comes up with!Multi Agent CollaborationCode links:PythonJSIn this example, the different agents collaborate on a shared scratchpad of messages. This means that all the work either of them do is visible to the other. This has the benefit that other agents can see all the individual steps done. This has', metadata={'source': 'https://blog.langchain.dev/langgraph-multi-agent-workflows/', 'title': 'LangGraph: Multi-Agent Workflows', 'language': 'en', 'file_name': 'https://blog.langchain.dev/langgraph-multi-agent-workflows/'}, doc_id='db222c84-0c63-4dc4-b8c2-df99f6056a16', wins=2), Node(page_content='can see all the individual steps done. This has the downside that sometimes is it overly verbose and unnecessary to pass ALL this information along, and sometimes only the final answer from an agent is needed. We call this collaboration because of the shared nature the scratchpad.What are the multiple independent agents?In this case, the independent agents are actually just a single LLM call. Specifically, they are a specific prompt template (to format inputs in a specific way with a specific', metadata={'source': 'https://blog.langchain.dev/langgraph-multi-agent-workflows/', 'title': 'LangGraph: Multi-Agent Workflows', 'language': 'en', 'file_name': 'https://blog.langchain.dev/langgraph-multi-agent-workflows/'}, doc_id='88978e60-8ce3-4ce4-85f6-e50d5efcfc07', wins=8), Node(page_content='format inputs in a specific way with a specific system message) plus an LLM call.How are those agents connected?Here is a visualization of how these agents are connected:The main thing controlling the state transitions is the router, but it is a rule-based router and so is rather quite simple. Basically, after each LLM call it looks at the output. If a tool is invoked, then it calls that tool. If no tool is called and the LLM responds \"FINAL ANSWER\" then it returns to the user. Otherwise (if no', metadata={'source': 'https://blog.langchain.dev/langgraph-multi-agent-workflows/', 'title': 'LangGraph: Multi-Agent Workflows', 'language': 'en', 'file_name': 'https://blog.langchain.dev/langgraph-multi-agent-workflows/'}, doc_id='70f03f63-2f8e-4766-aac0-18dae78332b0', wins=2), Node(page_content='then it returns to the user. Otherwise (if no tool is called and the LLM does not respond \"FINAL ANSWER\") then it goes to the other LLM.Agent SupervisorExamples:PythonJSIn this example, multiple agents are connected, but compared to above they do NOT share a shared scratchpad. Rather, they have their own independent scratchpads, and then their final responses are appended to a global scratchpad.What are the multiple independent agents?In this case, the independent agents are a LangChain agent.', metadata={'source': 'https://blog.langchain.dev/langgraph-multi-agent-workflows/', 'title': 'LangGraph: Multi-Agent Workflows', 'language': 'en', 'file_name': 'https://blog.langchain.dev/langgraph-multi-agent-workflows/'}, doc_id='7aaee10d-9103-4a02-b930-eed092d262b8', wins=3), Node(page_content=\"video to walk through these three examples. Hopefully this helps makes these complex topics a little easier to understand!Third Party ApplicationsAs part of this launch, we're also excited to highlight a few applications built on top of LangGraph that utilize the concept of multiple agents.GPT-NewspaperThis is a new project by the minds by GPT-Researcher. GPT-Newspaper is an innovative autonomous agent designed to create personalized newspapers tailored to user preferences. GPT Newspaper\", metadata={'source': 'https://blog.langchain.dev/langgraph-multi-agent-workflows/', 'title': 'LangGraph: Multi-Agent Workflows', 'language': 'en', 'file_name': 'https://blog.langchain.dev/langgraph-multi-agent-workflows/'}, doc_id='17b3d0d0-8fde-4a5f-a079-aa2f886c2da5', wins=2), Node(page_content='tailored to user preferences. GPT Newspaper revolutionizes the way we consume news by leveraging the power of AI to curate, write, design, and edit content based on individual tastes and interests. The architecture consists of six specialized sub-agents. There is one key step - a writer <> critique loop which adds in a helpful cycle.Crew AI exampleJoao Moura put together a great example of using CrewAI\\xa0with LangChain and LangGraph to automate the process of automatically checking emails and', metadata={'source': 'https://blog.langchain.dev/langgraph-multi-agent-workflows/', 'title': 'LangGraph: Multi-Agent Workflows', 'language': 'en', 'file_name': 'https://blog.langchain.dev/langgraph-multi-agent-workflows/'}, doc_id='371b65c6-1ecb-4561-ac80-fd4ff74864cb', wins=7), Node(page_content='the process of automatically checking emails and creating drafts. CrewAI orchestrates autonomous AI agents, enabling them to collaborate and execute complex tasks efficiently.The graph in this example looks like the below:He also worked on a fantastic YouTube video showing this in action.Other FrameworksLangGraph is not the first framework to support multi-agent workflows. Most of the difference between these frameworks largely lies in the mental models and concepts they', metadata={'source': 'https://blog.langchain.dev/langgraph-multi-agent-workflows/', 'title': 'LangGraph: Multi-Agent Workflows', 'language': 'en', 'file_name': 'https://blog.langchain.dev/langgraph-multi-agent-workflows/'}, doc_id='b2e456cd-fd54-4818-8d6e-9dbc31f66e60', wins=3), Node(page_content='lies in the mental models and concepts they introduce.AutogenAutogen emerged as perhaps the first multi-agent framework. The biggest difference in mental model between LangGraph and Autogen is in construction of the agents. LangGraph prefers an approach where you explicitly define different agents and transition probabilities, preferring to represent it as a graph. Autogen frames it more as a \"conversation\". We believe that this \"graph\" framing makes it more intuitive and provides better', metadata={'source': 'https://blog.langchain.dev/langgraph-multi-agent-workflows/', 'title': 'LangGraph: Multi-Agent Workflows', 'language': 'en', 'file_name': 'https://blog.langchain.dev/langgraph-multi-agent-workflows/'}, doc_id='8662bfe5-77b5-49ce-89e4-48a3bb73542f', wins=4), Node(page_content='makes it more intuitive and provides better developer experience for constructing more complex and opinionated workflows where you really want to control the transition probabilities between nodes. It also supports workflows that aren\\'t explicitly captured by \"conversations.\"Another key difference between Autogen and LangGraph is that LangGraph is fully integrated into the LangChain ecosystem, meaning you take fully advantage of all the LangChain integrations and LangSmith', metadata={'source': 'https://blog.langchain.dev/langgraph-multi-agent-workflows/', 'title': 'LangGraph: Multi-Agent Workflows', 'language': 'en', 'file_name': 'https://blog.langchain.dev/langgraph-multi-agent-workflows/'}, doc_id='18cef0c6-4685-44cf-9279-8c978f638db5', wins=4), Node(page_content='of all the LangChain integrations and LangSmith observability.CrewAIAnother key framework we want to highlight is CrewAI. CrewAI has emerged recently as a popular way to create multi-agent \"teams\". Compared to LangGraph, CrewAI is a higher-level framework. In fact, we are actively working with the CrewAI team to integration LangGraph into CrewAI! We think CrewAI has arrived at an awesome higher level DevEx and we want to support that.TagsBy LangChainJoin our newsletterUpdates from the LangChain', metadata={'source': 'https://blog.langchain.dev/langgraph-multi-agent-workflows/', 'title': 'LangGraph: Multi-Agent Workflows', 'language': 'en', 'file_name': 'https://blog.langchain.dev/langgraph-multi-agent-workflows/'}, doc_id='693286ee-9480-404b-a68d-ef6087255c58', wins=1), Node(page_content='our newsletterUpdates from the LangChain team and communityEnter your emailSubscribeProcessing your application...Success! Please check your inbox and click the link to confirm your subscription.Sorry, something went wrong. Please try again.You might also likeReflection Agentsagents6 min readPlan-and-Execute AgentsBy LangChain5 min read[Week of 2/19] LangChain Release NotesBy LangChain1 min readRakuten Group builds with LangChain and LangSmith to deliver premium products for its business', metadata={'source': 'https://blog.langchain.dev/langgraph-multi-agent-workflows/', 'title': 'LangGraph: Multi-Agent Workflows', 'language': 'en', 'file_name': 'https://blog.langchain.dev/langgraph-multi-agent-workflows/'}, doc_id='5682978d-5554-4832-9d54-e63a63e0eddb', wins=2), Node(page_content='to deliver premium products for its business clients and employeesBy LangChain3 min read[Week of 2/5] LangChain Release NotesBy LangChain4 min readLangChain Partners with CommandBar on their Copilot User AssistantBy LangChain2 min readSign upÂ© LangChain Blog 2024', metadata={'source': 'https://blog.langchain.dev/langgraph-multi-agent-workflows/', 'title': 'LangGraph: Multi-Agent Workflows', 'language': 'en', 'file_name': 'https://blog.langchain.dev/langgraph-multi-agent-workflows/'}, doc_id='69d87c59-9ed5-4f3c-9f41-8a5460310089')], node_embeddings_list=[[-0.009155273, 0.027572632, -0.17370605, -0.049987793, 8.761883e-06, -0.101867676, -0.041809082, -0.016082764, 0.004676819, 0.0068244934, -0.018539429, 0.02331543, 0.08831787, 0.014320374, -0.012451172, -0.059783936, -0.00111866, -0.025863647, 0.002948761, 0.0051116943, -0.005508423, -0.013008118, 0.021957397, -0.070007324, 0.071899414, 0.030700684, 0.013092041, -0.047698975, -0.05834961, -0.033203125, 0.018432617, 0.023406982, -0.023529053, -0.08642578, -0.038391113, -0.099243164, 0.058807373, -0.018066406, -0.030044556, 0.050048828, 0.0061836243, 0.035736084, 0.020492554, -0.027023315, 0.070251465, -0.015991211, 0.014373779, 0.035217285, 0.052001953, -0.026947021, 0.025680542, 0.002199173, -0.008659363, 0.026229858, 0.09063721, 0.09637451, -0.0039367676, -0.0050086975, 0.0016965866, -0.021820068, 0.088256836, 0.054382324, -0.056549072, 0.078308105, 0.028564453, -0.025680542, -0.049591064, 0.026153564, -0.017364502, -0.032806396, 0.031433105, 0.017684937, 0.06359863, 0.022964478, -0.0146102905, 0.0020656586, -0.04196167, -0.0078125, 0.015357971, 0.05041504, 0.0023975372, 0.025894165, 0.028945923, -0.018661499, 0.045440674, 0.008987427, -0.03729248, -0.0015640259, -0.08074951, 0.06149292, -4.1604042e-05, -0.00052022934, -0.017120361, -0.022079468, -0.12646484, 0.050628662, -0.015205383, 0.01966858, -0.053497314, -0.030578613, -0.061553955, -0.022277832, 0.009651184, 0.0019359589, 0.03857422, 0.014137268, -0.045318604, -0.015777588, -0.041625977, -0.009437561, 0.0075798035, 0.042999268, -0.028640747, 0.018218994, -0.018875122, -0.044830322, 0.08502197, -0.007724762, 0.048797607, 0.05368042, 0.005882263, -0.011528015, 0.007911682, 0.03277588, 0.0034618378, 0.017349243, -0.03665161, -0.0031166077, -0.0009937286, -0.035491943, 0.01940918, -0.0018520355, -0.053222656, 0.019058228, -0.0107803345, 0.09033203, -0.064819336, -0.0015039444, 0.005432129, -0.0037517548, 0.070373535, -0.017074585, 0.00881958, 0.00642395, -0.015472412, -0.035064697, -0.007461548, -0.016052246, -0.034240723, 0.018707275, -0.01524353, -0.009712219, 0.00592041, 0.0440979, 0.009399414, 0.00042319298, -0.018081665, 0.02658081, 0.021362305, 0.026062012, 0.025115967, -0.024246216, -0.019119263, 0.038879395, -0.072143555, -0.070373535, 0.07299805, 0.027542114, 0.0045928955, 0.062561035, -0.05999756, -0.06781006, -0.041229248, 0.007247925, 0.026107788, -0.00045490265, 0.05529785, -0.023712158, 0.029342651, -0.009979248, 0.016433716, -0.0647583, 0.025024414, -0.02116394, -0.024475098, -0.0033073425, -0.01033783, -0.023269653, -0.009048462, -0.04736328, 0.013053894, 0.03414917, -0.025222778, -0.0423584, -0.041625977, -0.03744507, 0.013748169, -0.03778076, 0.023620605, -0.03604126, -0.009506226, 0.02407837, -0.10974121, 0.028427124, -0.062438965, 0.06060791, -0.03527832, 0.038360596, 0.017990112, -0.019622803, 0.073913574, -0.0039978027, -0.0021896362, -0.0043945312, 0.0054016113, 0.017944336, -0.031677246, -0.0059661865, -0.0054359436, -0.011497498, 0.0758667, 0.016571045, -0.022033691, 0.009559631, 0.038879395, 0.008460999, -0.018615723, -0.01537323, -0.028381348, 0.003314972, -0.04321289, -0.072753906, 0.027069092, -0.017822266, 0.007736206, -0.019500732, 0.022247314, 0.042236328, 0.00982666, 0.016204834, 0.021606445, 0.012084961, -0.03378296, 0.0068740845, -0.023529053, 0.04019165, 0.018203735, -0.021560669, 0.013389587, 0.09033203, 0.007709503, -0.03338623, 0.026168823, -0.0036830902, 0.051727295, -0.0101623535, 0.011894226, -0.0019216537, 0.02468872, -0.01612854, 0.024856567, 0.017364502, 0.02861023, -0.029342651, 0.0022239685, -0.080322266, 0.004173279, -0.02192688, 0.012748718, 0.00041484833, 0.013374329, 0.01398468, -0.018341064, 0.016220093, -0.025436401, 0.041534424, -0.0032997131, -0.018615723, -0.01966858, 0.0013961792, 0.012321472, -0.07312012, -0.023742676, 0.03540039, -0.05178833, 0.027618408, 0.03579712, -0.011260986, 0.02305603, -0.02041626, 0.029647827, -0.015686035, -0.02078247, 0.0149383545, -0.0075798035, -0.047424316, 0.074645996, -0.034179688, 0.023773193, -0.0435791, 0.02784729, 0.03390503, 0.066711426, 0.07208252, 0.017929077, -0.026947021, 0.032073975, -0.036834717, 0.032440186, 0.016555786, -0.027175903, 0.0013713837, -0.03945923, 0.055480957, -0.035217285, 0.04928589, 0.046875, 0.01928711, 0.052246094, -0.04937744, -4.082918e-05, -0.017074585, -0.008155823, -0.032806396, -0.00062561035, 0.03869629, 0.0075798035, -0.0037250519, 0.008544922, -0.011581421, 0.005569458, 0.016220093, 0.023605347, -0.042510986, -0.0093307495, -0.016464233, -0.019195557, 0.0030918121, 0.009536743, 0.0020065308, 0.09307861, -0.0015068054, 0.019638062, -0.010902405, -0.029953003, -0.0058250427, -0.016036987, -0.035827637, 0.02571106, -0.006412506, -0.057403564, 0.035186768, -0.045135498, -0.0036315918, 0.024612427, -0.07513428, 0.027236938, 0.012199402, 0.020950317, -0.025161743, 0.014465332, -0.016860962, 0.015388489, 0.0037059784, 0.0026741028, 0.015777588, 0.045288086, 0.049041748, 0.081726074, 0.0016546249, 0.031097412, -0.00472641, -0.028213501, 0.036193848, -0.012840271, 0.014274597, -0.120910645, -0.0029277802, -0.068115234, -0.00024223328, 0.0154418945, -0.00472641, 0.05770874, 0.030548096, -0.0135269165, -0.03390503, 0.015838623, -0.0037784576, 0.015777588, 0.026947021, 0.0075187683, -0.0017604828, -0.09350586, 0.035583496, 0.019317627, -0.016342163, 0.041503906, 0.040283203, 0.032409668, 0.036071777, -0.024475098, -0.049560547, 0.004650116, -0.014663696, 0.014045715, 0.016601562, -0.0072669983, -0.042419434, 0.03778076, 0.004383087, 0.04800415, 0.009056091, 0.034729004, 0.0019760132, 0.015563965, 0.0001026988, 0.03616333, -0.019760132, -0.044921875, 0.06921387, -0.01234436, 0.040863037, 0.011375427, 0.028945923, 0.0053901672, -0.018951416, 0.044769287, 0.06744385, -0.034454346, -0.06512451, -0.03286743, 0.03857422, 0.03314209, -0.01158905, -0.022064209, 0.001748085, 0.054107666, 0.01524353, 0.0022068024, 0.037261963, 0.06439209, -0.06768799, -0.029846191, -0.035949707, 0.013420105, 0.05230713, 0.016723633, -0.030319214, -0.06439209, -0.012687683, -0.025360107, 0.053497314, -0.039398193, 0.03326416, 0.09899902, -0.012374878, 0.01828003, 0.0009717941, -0.0030918121, 0.036895752, 0.0107421875, 0.02192688, -0.000767231, -0.003129959, -0.013160706, -0.023910522, -0.014045715, -0.011169434, 0.007873535, 0.06945801, -0.018569946, -0.0022258759, 0.0037059784, -0.01725769, 0.019454956, -0.02861023, -0.038269043, 0.02217102, 0.010269165, -0.009109497, 0.034729004, -0.025222778, -0.06188965, -0.037322998, 0.020446777, 0.00042414665, -0.0075302124, -0.045013428, 0.05126953, -0.0029506683, 0.043945312, 0.040618896, -0.009269714, 0.030792236, -0.029525757, -0.029205322, 0.0010852814, -0.00060129166, 0.037261963, 0.011375427, 0.021240234, 0.07147217, -0.0063552856, -0.026550293, 0.027572632, -0.016296387, 0.0070228577, -0.051879883, -0.022338867, 0.018188477, 0.01158905, 0.01763916, 0.0018978119, 0.041503906, 0.062805176, -0.05996704, 0.046539307, -0.007183075, -0.034362793, 0.027008057, -0.0025520325, -0.0011863708, -0.014015198, 0.025421143, -0.025650024, 0.006816864, 0.010681152, -0.030670166, 0.005332947, -0.008613586, -0.0015382767, -0.0007991791, 0.00843811, -0.0011320114, 0.036315918, -0.047027588, -0.03955078, 0.025894165, 0.02178955, 0.02407837, -0.0044555664, -0.012168884, -0.021591187, -0.00724411, 0.039245605, -0.0070381165, 0.00233078, 0.041168213, -0.011016846, -0.08123779, 0.058929443, -0.070617676, -0.0016536713, -0.054351807, -0.0031089783, -0.078186035, 0.021224976, -0.02468872, -0.016143799, -0.041168213, 0.021713257, -0.0076942444, 0.036621094, 0.0052871704, 0.009399414, -0.045928955, 0.0027256012, -0.002943039, 0.021209717, 0.052093506, -0.0118255615, -0.020126343, 0.030441284, 0.037261963, 0.0042800903, -0.0033035278, 0.040740967, -0.01574707, -0.047454834, -0.019195557, -0.02684021, -0.048950195, 0.012748718, 0.0013179779, -0.018249512, -0.0023117065, -0.05984497, -0.032165527, 0.04019165, -0.016921997, -0.022537231, 0.010887146, 0.029205322, -0.020706177, -0.010284424, 0.031982422, -0.05392456, -0.0066184998, 0.015655518, -0.033935547, -0.011642456, 0.041290283, 0.050445557, -0.049102783, -0.013259888, 0.040740967, -0.040039062, 0.04537964, 0.00015330315, -0.044769287, 0.0031051636, -0.014526367, 0.029281616, 0.013504028, 0.042510986, -0.028076172, 0.01802063, -0.01209259, -0.0057640076, -0.07318115, -0.043029785, -0.047302246, 0.050231934, -0.025558472, 0.012062073, 0.012466431, -0.065979004, -0.0019435883, -0.016860962, 0.04574585, -0.03643799, 0.0026874542, -0.070373535, -0.052368164, -0.057861328, 0.030471802, -0.06732178, 0.00023579597, 0.05609131, 0.020339966, 0.033111572, -0.011604309, -0.018981934, 0.021392822, 0.052337646, -0.029067993, 0.022338867, 0.040161133, -0.00018393993, -0.03286743, 0.053771973, 0.08709717, 0.061431885, -0.013923645, -0.0032100677, -0.00051403046, 0.026123047, -0.022888184, -0.06121826, -0.013458252, -0.032318115, 0.011123657, 0.0010156631, -0.040374756, 0.026168823, -0.014709473, -0.0010871887, 0.013412476, -0.04269409, -0.051086426, -0.02696228, 0.002199173, 0.00042653084, -0.0077056885, -0.0158844, 0.058410645, 0.04421997, 0.018615723, 0.014137268, 0.014816284, -9.775162e-06, -0.023040771, 0.012191772, -0.033935547, -0.004371643, -0.04812622, 0.015457153, -0.0041542053, -0.013076782, -0.051757812, -0.019744873, -0.009986877, 0.030319214, -0.03616333, 0.0118255615, 0.001964569, -0.0110321045, -0.006996155, -0.03262329, 0.06549072, -0.0039520264, 0.036499023, -0.04095459, 0.0826416, 0.0037059784, -0.0076026917, 0.018798828, 0.005065918, 0.020950317, -0.054016113, -0.06329346, 0.06744385, -0.017822266, 0.05404663, -0.008110046, 0.031051636, -0.015586853, -0.06109619, 0.003124237, 0.004245758, 0.04360962, -0.015686035, -0.05618286, -0.033813477, -0.020980835, -0.030883789, 0.056274414, -0.057250977, -0.0059547424, 0.023544312, 0.0231781, -0.006198883, -0.066467285, 0.08441162, -0.05014038, -0.009681702, -0.047027588, -0.0093307495, 0.0025730133, -0.01751709, -0.016723633, 0.04724121, 0.013847351, 0.031799316, 0.006679535, -0.0016889572, -0.027023315, 0.030014038, 0.028762817, -0.037872314, -0.0056419373, 0.028823853, 0.0048675537, -0.016052246, -0.046539307, -0.002609253, -0.027145386, 0.093811035, 0.11352539, 0.03451538, -0.0056648254, 0.019927979, 0.018722534, -0.0021038055, -0.033050537, -0.009246826, -0.042266846, -0.027023315], [-0.01411438, 0.02923584, -0.16003418, -0.0234375, 0.04034424, -0.09869385, -0.031188965, -0.000641346, 0.007873535, 0.022781372, -0.053009033, 0.0022792816, 0.074035645, 0.03866577, -0.009925842, -0.060516357, 0.01386261, -0.02178955, -0.005504608, 0.024047852, -0.017181396, -0.028518677, 0.031707764, -0.060028076, 0.052093506, 0.021530151, 0.0018491745, -0.03503418, -0.09649658, -0.06451416, 0.018981934, 0.031982422, 0.0029621124, -0.061676025, -0.043182373, -0.09802246, 0.03768921, 0.025344849, -0.02885437, 0.026748657, 0.0034542084, 0.039031982, 0.0046424866, -0.0317688, 0.0635376, -0.033325195, 0.012481689, 0.019638062, 0.042175293, -0.06109619, 0.038726807, -0.013946533, -0.01751709, 0.028060913, 0.07476807, 0.06640625, -0.023742676, 4.249811e-05, 0.013931274, -0.027420044, 0.08728027, 0.03781128, -0.025802612, 0.06774902, 0.03125, -0.012001038, -0.041625977, 0.030166626, 0.008155823, -0.037475586, 0.029754639, 0.018936157, 0.06341553, 0.03994751, -1.0251999e-05, 0.009185791, -0.03213501, -0.013252258, 0.010429382, 0.052703857, 0.009208679, -0.00466156, 0.024810791, -0.012680054, 0.004432678, 0.004383087, -0.03918457, -0.012969971, -0.07788086, 0.07989502, 0.006904602, 0.006198883, 0.0016851425, -0.009185791, -0.14538574, 0.038726807, -0.037200928, 0.022354126, -0.046966553, -0.019424438, -0.07696533, 0.0001424551, 0.020706177, 0.018127441, 0.047698975, 0.026733398, -0.046661377, 0.006275177, -0.03555298, 0.020477295, -0.022949219, 0.04135132, -0.046783447, 0.017349243, -0.02468872, -0.03338623, 0.060516357, -0.014053345, 0.04248047, 0.045013428, 0.03338623, -0.015899658, 0.024551392, 0.015792847, 0.0033130646, 0.023635864, -0.021347046, 0.0007839203, -0.026229858, -0.030685425, 0.0056114197, -0.015296936, -0.019195557, 0.016311646, -0.005882263, 0.09185791, -0.080078125, -0.009246826, 0.000177145, -0.018051147, 0.06719971, -0.021697998, 0.014701843, -0.019241333, -0.037902832, -0.05001831, -0.019378662, -0.01134491, -0.041229248, 0.03363037, -0.007083893, 0.0045547485, 0.016082764, 0.08111572, 0.012969971, 0.030899048, -0.027297974, 0.008552551, 0.008674622, 0.036132812, 0.04473877, -0.033172607, -0.005622864, 0.045654297, -0.050079346, -0.062561035, 0.08276367, 0.007858276, 0.0010938644, 0.052124023, -0.04156494, -0.05505371, -0.033050537, 0.0040130615, 0.028625488, -0.01335907, 0.07904053, -0.026855469, 0.0082473755, -0.005050659, 0.0074806213, -0.07165527, -0.0019283295, -0.035583496, 0.00983429, -0.010620117, -0.0018730164, -0.03652954, -0.015731812, -0.04156494, 0.01927185, 0.013023376, -0.018371582, -0.020431519, -0.05505371, -0.0501709, -0.00712204, -0.015350342, 0.020568848, -0.017837524, -0.008666992, 0.015838623, -0.091430664, 0.04458618, -0.04058838, 0.041137695, -0.031951904, 0.023635864, 0.030532837, -0.033691406, 0.085510254, -0.012748718, -0.0037345886, 0.0063171387, -0.015777588, 0.019943237, -0.01902771, -0.011375427, -0.027511597, -0.02267456, 0.04660034, -0.010391235, -0.012573242, -0.00028538704, 0.012168884, -0.0016784668, -0.03829956, -0.0010080338, -0.038635254, 0.00093364716, -0.028915405, -0.06945801, 0.05130005, 0.009399414, 0.003583908, -0.026290894, 0.027893066, 0.06427002, 0.009468079, 0.04611206, 0.024673462, 0.006652832, -0.048614502, 0.014053345, -0.008926392, 0.01411438, 0.004333496, -0.011016846, 0.008026123, 0.087524414, -0.02746582, -0.02407837, 0.023025513, -0.016143799, 0.06274414, -0.034729004, 0.014556885, 0.017166138, 0.029678345, 0.0070991516, 0.042510986, 0.02268982, 0.021148682, -0.02168274, 0.02218628, -0.10699463, 0.027053833, -0.0052986145, 0.026626587, 0.002407074, -0.006679535, 0.012702942, -0.026611328, 0.0317688, -0.027801514, 0.04458618, 0.0035076141, -0.03439331, -0.014556885, 0.0065574646, -0.021957397, -0.067871094, -0.047210693, 0.032806396, -0.028793335, 0.02192688, 0.053710938, -0.009422302, -0.008094788, 0.0025539398, 0.024032593, -0.015029907, -0.018493652, 0.010818481, -0.019134521, -0.056884766, 0.0385437, -0.038635254, 0.034729004, -0.033203125, -0.0006914139, 0.0037193298, 0.077941895, 0.079833984, 0.0184021, -0.012992859, 0.0158844, -0.018936157, 0.031433105, 0.0022296906, -0.018615723, 0.023101807, -0.053344727, 0.054473877, -0.03277588, 0.021102905, 0.04727173, 0.024032593, 0.03805542, -0.038085938, -0.005756378, -0.006755829, 0.0018177032, -0.022354126, 0.016418457, 0.03765869, 0.008354187, 0.0025405884, -0.0017967224, -0.015617371, -0.0030212402, -0.0003476143, 0.0032253265, -0.03253174, 0.0019321442, -0.020126343, -0.018539429, 0.0010690689, 0.0033283234, -0.024414062, 0.09863281, -0.01939392, 0.008857727, -0.015625, -0.044433594, -0.02619934, -0.0058021545, -0.026351929, 0.0340271, -0.0050315857, -0.0690918, 0.037231445, -0.045288086, 0.020965576, 0.00011765957, -0.06951904, 0.038635254, 0.019180298, 0.0005221367, -0.00907135, 0.037628174, -0.0149002075, 0.014015198, 0.007217407, 0.020019531, 0.019317627, 0.04220581, 0.049591064, 0.06896973, 0.0034675598, 0.04458618, -0.015960693, -0.025375366, 0.026397705, -0.00015544891, 0.011451721, -0.103027344, -0.0055274963, -0.06378174, 0.015266418, 0.04248047, 0.010383606, 0.028198242, 0.023620605, -0.026428223, -0.043914795, 0.004337311, 0.0006504059, 0.0001718998, 0.01940918, -0.018569946, 0.005382538, -0.059936523, 0.03527832, 0.03338623, -0.027359009, 0.019882202, 0.0110321045, 0.038726807, 0.04815674, -0.039520264, -0.070739746, 0.010314941, -0.013290405, -0.0036754608, 0.01802063, -0.0042266846, -0.016906738, 0.029830933, 0.0061035156, 0.029830933, 0.011108398, 0.025375366, -0.022720337, 0.017196655, -0.009185791, 0.049926758, -0.01486969, -0.05758667, 0.051116943, 0.020187378, 0.02104187, 0.01071167, 0.018005371, 0.018310547, -0.01134491, 0.0362854, 0.06506348, -0.04510498, -0.05517578, -0.056884766, 0.03161621, 0.0362854, 0.0021915436, -0.03567505, 0.005104065, 0.06488037, 0.034729004, 0.014511108, 0.058685303, 0.062927246, -0.034606934, -0.034118652, -0.03286743, 0.009994507, 0.026275635, 0.047912598, -0.042144775, -0.07434082, -0.023834229, -0.029190063, 0.0574646, -0.04937744, 0.028076172, 0.0848999, -0.020568848, 0.023330688, -0.007167816, 0.0055236816, 0.04510498, -0.011436462, 0.026428223, -0.012557983, 0.011817932, 0.015670776, -0.016021729, -0.008872986, -0.019851685, 0.03652954, 0.08416748, -0.026733398, 0.005382538, -0.0076446533, 0.006225586, 0.032958984, -0.028137207, -0.04953003, 0.032287598, 0.014144897, 0.007205963, 0.01411438, -0.01713562, -0.061920166, -0.044708252, -0.006931305, -0.008491516, 0.00522995, -0.042388916, 0.053253174, 0.004016876, 0.03475952, 0.024795532, -0.004928589, 0.016738892, -0.0345459, -0.04107666, -0.028793335, 0.014770508, 0.03353882, -0.0099487305, 0.018478394, 0.04095459, -0.019561768, -0.048828125, 0.028411865, -0.004840851, -0.015449524, -0.09118652, -0.022369385, 0.0053596497, 0.03050232, -0.00945282, -0.027282715, 0.04135132, 0.05984497, -0.026626587, 0.03488159, -0.0017309189, -0.057250977, 0.029251099, -0.011512756, 0.00024151802, -0.020904541, 0.02468872, -0.02748108, -0.0047340393, 0.04373169, -0.031982422, 0.004360199, 0.020217896, 0.00894165, 0.024795532, -0.0055389404, 0.030548096, 0.034210205, -0.05154419, -0.045928955, 0.024551392, 0.037841797, 0.027511597, 0.007045746, 0.006187439, -0.01864624, -0.010574341, 0.035858154, 0.017669678, 0.0066871643, 0.054382324, 0.0056381226, -0.070617676, 0.070129395, -0.07904053, -0.030914307, -0.07293701, 0.04336548, -0.039245605, 0.002916336, -0.025543213, -0.0039711, -0.026290894, -0.013999939, -0.012138367, 0.0619812, -0.0067977905, -0.0037231445, -0.0491333, 0.007270813, 0.022506714, 0.019699097, 0.045928955, -0.015716553, -0.023269653, 0.028823853, 0.032562256, 0.022857666, 0.015571594, 0.019180298, -0.026748657, -0.060638428, -0.016937256, -0.016937256, -0.070739746, 0.015808105, -0.008865356, 0.00207901, 0.0052108765, -0.045837402, -0.054595947, 0.048858643, -0.015563965, -0.025344849, 0.0128479, 0.020736694, -0.032104492, 0.0018167496, 0.033172607, -0.036834717, 0.0038070679, -0.0042266846, -0.048461914, -0.0039901733, 0.04296875, 0.041168213, -0.04626465, -0.022033691, 0.05758667, -0.027572632, 0.029083252, -0.0050735474, -0.064941406, -0.0045166016, -0.005203247, 0.011878967, 0.009338379, 0.035705566, -0.029464722, -0.0018882751, -0.03616333, 0.019638062, -0.05218506, -0.031433105, -0.055480957, 0.049072266, -0.018920898, 0.013473511, 0.01663208, -0.060516357, -0.02319336, -0.021774292, 0.040924072, -0.027511597, 0.0028839111, -0.04815674, -0.060516357, -0.05493164, 0.017105103, -0.062469482, 0.028198242, 0.02255249, 0.03488159, 0.018585205, -0.009590149, -0.012931824, 0.034088135, 0.06536865, -0.019760132, 0.024353027, 0.076049805, -0.0053710938, -0.017196655, 0.04458618, 0.08734131, 0.062164307, -0.002822876, -0.012901306, 0.005744934, 0.008110046, 0.008148193, -0.07458496, -0.0063819885, -0.009086609, -0.0036811829, -0.00349617, -0.030349731, 0.02633667, -0.02456665, 0.030838013, -0.014167786, -0.03564453, -0.026504517, -0.025268555, -0.01890564, -0.01499176, -0.024536133, 0.0015764236, 0.037841797, 0.019897461, 0.040161133, -0.0001513958, 0.018600464, -0.00070142746, -0.0026493073, 0.033111572, -0.041992188, -0.00774765, -0.05316162, 0.015838623, 0.02708435, -0.03729248, -0.04852295, -0.004142761, -0.019241333, 0.052459717, -0.046051025, -0.021255493, 0.009025574, -0.0022144318, 0.0016422272, -0.018936157, 0.07562256, -0.010124207, 0.033813477, -0.022583008, 0.056793213, 0.018005371, 0.0006427765, 0.020507812, 0.0004196167, 0.045043945, -0.032104492, -0.038513184, 0.09375, -0.008468628, 0.047302246, -0.035339355, 0.0077552795, -0.028457642, -0.037353516, 0.011291504, -0.029785156, 0.038269043, -0.01071167, -0.05795288, -0.037261963, -0.031082153, -0.0013389587, 0.05392456, -0.053222656, -0.0026054382, 0.027130127, 0.023986816, -0.022491455, -0.07067871, 0.08465576, -0.03186035, -0.032104492, -0.027175903, -0.01574707, -0.021728516, -0.02041626, -0.019714355, 0.048919678, 0.013946533, 0.053009033, -0.00046229362, 0.010467529, -0.01739502, 0.037841797, 0.017547607, -0.015350342, 0.012832642, 0.048309326, 0.016494751, -0.019195557, -0.03353882, -0.011741638, -0.01285553, 0.08630371, 0.117370605, 0.03591919, -0.025604248, 0.03137207, 0.003293991, -0.024429321, -0.028640747, -0.0045547485, -0.03137207, -0.026855469], [-0.022903442, 0.037322998, -0.17211914, -0.005619049, 0.031341553, -0.047668457, -0.04647827, -0.026367188, -0.003572464, 0.012069702, -0.014602661, -0.0058898926, 0.06921387, 0.0012702942, -0.012161255, -0.053771973, 0.012611389, 0.00058603287, -0.011940002, 0.053771973, -0.015777588, -0.023605347, 0.035064697, -0.05456543, 0.04928589, -0.018920898, 0.005695343, -0.018722534, -0.06427002, -0.056732178, 0.008239746, 0.015159607, -0.01121521, -0.07330322, -0.043151855, -0.09869385, 0.040893555, 0.045776367, -0.053131104, 0.034729004, -0.0064315796, 0.03817749, -0.0047912598, -0.016738892, 0.043151855, -0.034088135, 0.03366089, 0.0016918182, 0.05267334, -0.0690918, 0.036224365, -0.0012731552, -0.022476196, -0.014060974, 0.055755615, 0.033996582, -0.030090332, 0.019989014, 0.0044898987, -0.03665161, 0.078308105, 0.058410645, -0.06744385, 0.08227539, 0.047912598, -0.04522705, -0.049987793, 0.039489746, 0.018722534, -0.050964355, 0.0014514923, 0.010658264, 0.08746338, 0.05899048, -0.01713562, -0.020645142, -0.04751587, -4.9352646e-05, 0.0037956238, 0.062042236, 0.06512451, -0.007205963, 0.045898438, -0.0024642944, 0.015777588, -0.013420105, -0.017166138, 0.0012607574, -0.078186035, 0.11248779, 0.030044556, 0.0046806335, 0.010108948, -0.020431519, -0.11846924, 0.03488159, -0.060668945, 0.0022258759, -0.04537964, -0.025222778, -0.07525635, 0.020080566, 0.0045166016, -0.005569458, 0.028442383, 0.010391235, -0.025024414, 0.022491455, -0.023590088, 0.022109985, -0.010360718, 0.02267456, -0.006465912, 0.0048179626, -0.0041503906, -0.064941406, 0.06866455, -0.050323486, 0.031799316, 0.024795532, -0.004459381, -0.028137207, -0.02027893, 0.036743164, -0.0012550354, 0.03387451, -0.026489258, 0.008483887, -0.025863647, -0.048339844, 0.013282776, -0.016296387, -0.0050697327, 0.0025100708, 0.002532959, 0.10449219, -0.1003418, 0.006465912, 0.008682251, 0.021972656, 0.050323486, -0.019317627, -0.0027561188, -0.028808594, 0.0011558533, -0.044555664, 6.967783e-05, 0.011650085, -0.04751587, 0.058776855, 0.026000977, 0.007980347, 0.0132369995, 0.03552246, 0.048675537, 0.003484726, -0.042144775, -0.003238678, 0.034729004, -0.002046585, 0.043792725, -0.025054932, -0.013381958, 0.06555176, -0.022476196, -0.032196045, 0.05130005, 0.039916992, 0.007396698, 0.06112671, -0.03314209, -0.039031982, -0.034118652, -0.0064315796, 0.040618896, -0.018035889, 0.051818848, -0.049987793, 0.0054473877, -0.012084961, 0.010856628, -0.050476074, -0.025436401, -0.009613037, 0.0026493073, -0.014122009, -0.016555786, -0.04888916, 0.0020542145, -0.04058838, 0.002609253, 0.03857422, -0.003917694, -0.017105103, -0.055908203, -0.033416748, 0.01373291, 0.0042419434, 0.017471313, -0.039215088, -0.04837036, 0.014770508, -0.07922363, 0.027069092, -0.032592773, 0.04598999, -0.03439331, 0.040740967, 0.014373779, -0.032440186, 0.06390381, -0.014450073, 0.00356102, 0.010902405, 0.011703491, 0.002166748, -0.012016296, -0.013221741, -0.00712204, -0.018615723, 0.030258179, 0.031280518, -0.021224976, -0.03326416, 0.012908936, 0.0066986084, -0.053863525, 0.017745972, -0.036315918, 0.025680542, -0.0018177032, -0.06707764, 0.01965332, 0.004081726, 0.0140686035, 0.0042762756, 0.0038318634, 0.07110596, 0.014129639, 0.04852295, 0.0037441254, 0.015930176, -0.0121536255, 0.0074882507, -0.016693115, -0.010414124, 0.009407043, -0.015823364, 0.016098022, 0.07788086, -0.034240723, -0.012718201, 0.010475159, 0.014259338, 0.032989502, -0.031982422, 0.008529663, 0.019073486, 0.034240723, 0.010665894, 0.043395996, 0.001241684, 0.019042969, -0.012336731, 0.02456665, -0.07879639, 0.01828003, 0.0024814606, 0.020492554, 0.017486572, 0.010322571, 0.024215698, -0.011566162, 0.025344849, -0.031173706, 0.050689697, 0.010276794, -0.040893555, -0.026000977, 0.021514893, -0.013618469, -0.07098389, -0.04626465, 0.002483368, -0.007621765, 0.02357483, 0.051574707, 0.0010700226, -0.0061187744, -0.004837036, 0.025360107, -0.017990112, -0.0022411346, 0.008415222, -0.039031982, -0.040374756, 0.061401367, -0.018203735, 0.035339355, -0.020736694, -0.0062179565, 0.0052986145, 0.08105469, 0.062805176, 0.031051636, -0.04147339, 0.025054932, -0.03982544, 0.038085938, 0.0015773773, -0.027038574, 0.028015137, -0.034606934, 0.034240723, -0.046325684, 0.01134491, 0.053344727, 0.0069503784, 0.049438477, -0.004299164, -0.0074806213, -0.015960693, -0.017654419, -0.061187744, 0.0009050369, 0.068237305, -0.008331299, -0.004722595, 0.010421753, -0.035888672, 0.0017900467, 0.02407837, 0.00207901, -0.032928467, 0.021408081, -0.00054359436, 0.004108429, 0.00415802, 0.015975952, 0.016281128, 0.08502197, -0.029327393, 0.020568848, -0.047821045, -0.042144775, -0.032073975, 0.0052490234, 0.0075645447, 0.030944824, 0.0007638931, -0.055358887, 0.023834229, -0.035125732, 0.0026550293, 0.009429932, -0.055847168, 0.043640137, 0.024154663, 0.008049011, 0.008766174, 0.055267334, -0.00020074844, 0.000790596, 0.008659363, 0.01889038, 0.02772522, 0.06878662, 0.035614014, 0.04888916, -0.017196655, 0.022384644, -0.0059509277, -0.014694214, 0.037506104, -0.0008802414, -0.0053253174, -0.09307861, -0.035614014, -0.070617676, -0.0044403076, 0.03186035, 0.0050239563, 0.022613525, 0.021774292, 0.016342163, -0.018447876, -0.013534546, -0.024719238, 0.028442383, -0.00022470951, -0.039764404, -0.017425537, -0.075805664, 0.038238525, 0.019226074, -0.0010251999, 0.022232056, 0.01663208, 0.059143066, 0.049194336, -0.058532715, -0.08087158, 0.0063323975, -0.038757324, 0.0029640198, -0.0011205673, -0.016799927, -0.029159546, -0.017837524, -0.011749268, 0.025466919, 0.03744507, 0.017532349, -0.0013380051, 0.031799316, 0.00566864, 0.013977051, 0.0014457703, -0.07745361, 0.02557373, 0.033325195, 0.03704834, 0.018661499, 0.014175415, -0.0020923615, 0.00017309189, 0.033813477, 0.07635498, -0.026260376, -0.05706787, -0.018997192, 0.035736084, 0.017669678, -0.022659302, -0.0181427, 0.0012464523, 0.03677368, 0.040985107, 0.035003662, 0.053588867, 0.05557251, -0.02243042, -0.04156494, -0.031951904, 0.029586792, 0.0713501, 0.049346924, -0.018478394, -0.08428955, 0.013160706, -0.03201294, 0.010223389, -0.027572632, 0.02859497, 0.07659912, -0.015213013, 0.0075263977, -0.0031261444, 0.023971558, 0.016937256, 0.0049705505, -0.002904892, -0.026473999, 0.036956787, 0.042053223, -0.020385742, -0.027633667, -0.018463135, 0.0065307617, 0.056396484, -0.029769897, 0.013336182, -0.0017824173, 0.018707275, -0.0072250366, -0.021713257, -0.03781128, 0.024047852, 0.03778076, 0.013381958, 0.038848877, -0.022781372, -0.06335449, -0.04421997, -0.017669678, -0.0045928955, 0.010543823, -0.03253174, 0.048431396, -0.017807007, 0.029083252, 0.010498047, 0.007232666, -0.019927979, -0.043060303, -0.0236969, -0.022537231, 0.017303467, 0.042022705, -0.011985779, 0.022216797, 0.03869629, -0.026992798, -0.01914978, 0.037506104, -0.009086609, 0.0017719269, -0.07751465, -0.028747559, 0.052001953, 0.024902344, -0.028289795, -0.034088135, 0.0259552, 0.039031982, -0.05014038, 0.068603516, 0.017410278, -0.060516357, 0.02331543, -0.0053520203, -0.013244629, -0.0040397644, -0.009147644, -0.039642334, 0.013305664, 0.03744507, 0.002281189, 0.014793396, -0.0028858185, 0.011100769, 0.027679443, -0.015045166, 0.008232117, 0.017700195, -0.03567505, -0.056121826, 0.018737793, 0.06652832, 0.03665161, -0.00642395, 0.022567749, 0.010070801, -0.010787964, 0.023742676, -0.000685215, 0.006641388, 0.037231445, 0.01940918, -0.051605225, 0.0871582, -0.0947876, -0.031829834, -0.04421997, 0.052368164, -0.070495605, -0.010597229, -0.022766113, 0.010276794, -0.030258179, 0.010108948, -0.009735107, 0.07147217, -0.027679443, 0.00737381, -0.027069092, -0.016601562, 0.006839752, 0.008361816, 0.038116455, -0.019515991, -0.045318604, 0.024169922, 0.024612427, -0.0064964294, 0.00491333, 0.009796143, -0.004299164, -0.058380127, -0.0067634583, 0.005722046, -0.0736084, 0.037475586, -0.01461792, 0.0035362244, 0.012237549, -0.06762695, -0.046539307, 0.023345947, -0.026794434, -0.03302002, 0.028747559, 0.0065689087, -0.021697998, -0.0121536255, 0.009887695, -0.038360596, 0.0067481995, 0.01260376, -0.04269409, -0.005428314, 0.018753052, 0.030517578, -0.043945312, -0.0002605915, 0.06201172, -0.014083862, 0.031234741, -0.004016876, -0.060058594, 0.024719238, 0.009101868, 0.00945282, -0.0063476562, 0.043151855, -0.041137695, -0.010498047, -0.036956787, 0.019226074, -0.03540039, -0.019012451, -0.08239746, 0.034942627, -0.05456543, 0.011703491, 0.02444458, -0.08093262, -0.019515991, -0.010322571, 0.04171753, -0.019088745, 0.005882263, -0.052886963, -0.053009033, -0.05706787, 0.018112183, -0.042816162, 0.008995056, 0.046783447, 0.0513916, 0.0007815361, -0.00970459, -0.0035324097, 0.010093689, 0.089538574, 0.0052948, -0.005355835, 0.03488159, 0.022247314, -0.020904541, 0.029571533, 0.05444336, 0.032073975, -0.004383087, 0.008293152, 0.015396118, 0.012466431, -0.014785767, -0.053649902, 0.004508972, -0.019638062, 0.010429382, 0.013473511, 0.017929077, 0.024093628, 0.012565613, 0.026794434, -0.008430481, -0.061676025, -0.014907837, 0.007858276, 0.0034103394, -0.018600464, -0.016098022, 0.009849548, 0.05154419, 0.047454834, 0.03074646, 0.0112838745, 0.005756378, -0.0010728836, -0.014602661, 0.04449463, -0.047302246, -0.019485474, -0.064819336, 0.04788208, 0.03466797, -0.0368042, -0.0836792, -0.030654907, -0.018066406, 0.03930664, -0.0099105835, -0.018737793, 0.0043754578, -0.015220642, 0.015281677, -0.026763916, 0.08276367, -0.0023765564, 0.039215088, 0.0056419373, 0.052734375, 0.024169922, -0.002779007, 0.02519226, -0.01084137, 0.047912598, -0.046173096, -0.04586792, 0.079711914, -0.0022506714, 0.05593872, -0.039031982, 0.0016736984, -0.06451416, -0.06359863, -0.002456665, -0.049438477, 0.07373047, -0.038116455, -0.06604004, -0.036499023, -0.0028057098, -0.005393982, 0.05215454, -0.045013428, -0.0006198883, 0.026931763, 0.00207901, -0.025344849, -0.06762695, 0.06097412, -0.028579712, -0.018066406, -0.015014648, -0.056121826, -0.01777649, -0.019470215, -0.010955811, 0.03793335, 0.010276794, 0.044281006, -0.008781433, 0.02192688, -0.033325195, 0.035125732, 0.013420105, -0.0020256042, 0.00070619583, 0.05706787, 0.036956787, -0.026504517, -0.02859497, -0.0061302185, -0.028823853, 0.072387695, 0.111328125, 0.04144287, -0.02722168, 0.000562191, 0.008735657, -0.06365967, -0.045410156, -0.018295288, -0.03768921, -0.020645142], [-0.006412506, 0.03314209, -0.19055176, -0.00447464, 0.05255127, -0.06185913, -0.028305054, -0.02218628, 0.038085938, 0.010673523, -0.013717651, 0.020706177, 0.09161377, 0.018676758, 0.027404785, -0.030593872, -0.013977051, -0.01058197, 0.016448975, 0.013244629, -0.024642944, -0.024673462, 0.03463745, -0.039245605, 0.042755127, 0.009262085, 0.002155304, -0.070739746, -0.083984375, -0.031799316, 0.009986877, 0.017364502, 0.004169464, -0.09967041, -0.05822754, -0.06878662, 0.05206299, 0.026473999, 0.005996704, 0.028366089, -0.011192322, 0.023544312, -0.020874023, -0.06213379, 0.03213501, -0.017669678, 0.030853271, 0.0077056885, 0.043762207, -0.004108429, 0.039642334, 0.023132324, -0.016479492, 0.017852783, 0.04345703, 0.049926758, 0.004989624, 0.016845703, 0.020614624, -0.043151855, 0.06384277, 0.045715332, -0.02279663, 0.07696533, 0.0574646, -0.033966064, -0.07122803, 0.04626465, -0.009117126, -0.006801605, 0.019973755, -0.014846802, 0.09869385, 0.039794922, -0.0135650635, 0.028961182, -0.021636963, 0.008865356, -0.002483368, 0.021606445, 0.054382324, 0.013442993, 0.03552246, -0.04156494, 0.04727173, 0.027954102, -0.03012085, -0.039489746, -0.08087158, 0.08099365, 0.014595032, -0.011192322, 0.029342651, 0.007820129, -0.10644531, 0.02798462, -0.049102783, 0.019302368, -0.031707764, -0.050445557, -0.0725708, 0.02067566, -0.029373169, -0.03741455, 0.04296875, 0.018920898, -0.0345459, 0.008865356, -0.012054443, 0.011985779, -0.035980225, 0.007156372, -0.024673462, 0.05001831, 0.0052833557, -0.053619385, 0.08679199, -0.055023193, 0.049621582, 0.002943039, 0.0055351257, -0.03237915, 0.011146545, 0.032165527, 0.02456665, 0.020462036, -0.005962372, 0.0010824203, -0.013122559, -0.042419434, -0.0095825195, -0.044067383, 0.007045746, 0.008895874, -0.03857422, 0.050994873, -0.09875488, -0.022399902, 0.009567261, 0.023864746, 0.06427002, 0.009635925, -0.025253296, -0.044036865, -0.019104004, -0.022583008, 0.0012197495, -0.027770996, -0.0289917, 0.004383087, 0.028747559, 0.0546875, -0.042419434, 0.030441284, 0.013900757, -0.027145386, -0.005508423, -0.012664795, 0.015007019, 0.0013456345, 0.042510986, -0.03692627, 0.011932373, 0.023895264, -0.031585693, -0.078186035, 0.07104492, 0.0010509491, 0.02444458, 0.058166504, -0.02708435, -0.042388916, -0.0597229, 0.025115967, 0.044891357, -0.011550903, 0.05886841, -0.0501709, 0.028884888, -0.012565613, 0.0061569214, -0.03112793, 0.026321411, -0.02279663, 0.028381348, -0.004032135, -0.0066375732, -0.035125732, 0.0007944107, -0.06341553, -0.005382538, 0.023513794, -0.012016296, -0.06341553, -0.011802673, -0.041412354, 0.013000488, -0.030212402, 0.009742737, -0.053771973, -0.0154953, 0.013633728, -0.068847656, 0.03201294, -0.041046143, 0.059783936, -0.038848877, 0.05545044, 0.027389526, -0.0181427, 0.07489014, -0.0069389343, -8.7320805e-05, -0.002565384, -0.007671356, -0.025314331, 0.017166138, 0.0026931763, -0.033721924, -0.041412354, 0.016937256, -0.009140015, 0.010604858, -0.019439697, 0.0135269165, -0.00422287, -0.03765869, -0.009895325, -0.03692627, 0.009933472, -0.011192322, -0.038085938, 0.03112793, -0.003665924, -0.007270813, -0.019241333, 0.044281006, 0.07409668, 0.021881104, 0.028671265, 0.04360962, -0.008224487, -0.0071525574, 0.007385254, -0.041809082, 0.027145386, 0.019821167, -0.0051345825, 0.0003619194, 0.06378174, 0.01020813, -0.020385742, 0.00019943714, 0.020401001, 0.03692627, -0.018951416, 0.014472961, 0.0026435852, 0.00894165, -0.014274597, 0.017227173, -0.0054016113, 0.039031982, -0.032958984, -0.012199402, -0.07446289, 0.030685425, -0.022613525, -0.0020160675, -0.02166748, -0.01184845, 0.005054474, -0.03488159, 0.046844482, -0.003921509, 0.037078857, 0.013977051, -0.02973938, -0.047454834, 0.039489746, -0.010498047, -0.026473999, -0.07183838, 0.020126343, -0.024459839, 0.018875122, 0.074401855, 0.013160706, -0.01675415, 0.016571045, 0.031799316, 0.0019989014, 0.0016641617, 0.029693604, -0.028442383, -0.041412354, 0.08178711, -0.026382446, 0.018585205, -0.031188965, -0.013404846, 0.034851074, 0.06097412, 0.07183838, 0.045928955, -0.015113831, -0.0065727234, -0.02532959, 0.018844604, -0.009086609, -0.011566162, 0.007587433, -0.02519226, 0.040649414, -0.041229248, 0.05114746, 0.025650024, 0.022232056, 0.06567383, -0.015853882, -0.029708862, -0.0058784485, 0.0016555786, -0.019073486, -0.012229919, 0.022918701, -0.0070114136, -0.000192523, 0.0040779114, 0.009208679, -0.011451721, 0.04147339, 0.016357422, -0.042053223, -0.015464783, -0.024383545, -0.016845703, -0.021835327, 0.018936157, -0.0007381439, 0.074401855, -0.038970947, -0.012435913, -0.06744385, -0.019042969, 0.0049438477, -0.01096344, -0.01576233, 0.025909424, -0.02507019, -0.05090332, 0.041046143, -0.049621582, 0.008659363, 0.011741638, -0.075927734, 0.023361206, 0.024520874, -0.016525269, 0.0340271, 0.021240234, -0.0033435822, -0.020736694, -0.016464233, -0.002357483, -0.0008687973, 0.038146973, 0.02192688, 0.064208984, -0.013160706, 0.02784729, 0.0012245178, -0.029830933, 0.042175293, -0.009239197, -0.011047363, -0.085510254, -0.0052757263, -0.068847656, 0.031021118, 0.019042969, 0.03488159, 0.014015198, 0.047180176, 0.00459671, 0.015350342, 0.003818512, -0.015510559, 0.0041503906, 0.017730713, -0.032196045, -0.012496948, -0.05154419, 0.00045990944, 0.03866577, -0.0076904297, 0.021072388, 0.028549194, 0.040893555, 0.044433594, -0.0075531006, -0.07696533, 0.0018405914, -0.044433594, 0.016448975, 0.042053223, -0.02558899, -0.04019165, 0.020248413, -0.00349617, 0.02027893, 0.042144775, 0.014030457, -0.042755127, 0.02809143, -0.0067863464, 0.05505371, 0.0014533997, -0.074157715, 0.038757324, 0.04043579, 0.03567505, 0.0071258545, 0.021240234, 0.03164673, 0.020126343, 0.025650024, 0.047790527, -0.051208496, -0.052856445, -0.018966675, 0.04916382, 0.032470703, -0.0045280457, -0.048095703, 0.01084137, 0.04458618, 0.029144287, -0.005332947, 0.04937744, 0.041809082, -0.03491211, -0.04650879, -0.044647217, 0.027008057, 0.074035645, 0.017730713, -0.008926392, -0.093933105, -0.010009766, -0.053375244, 0.029449463, -0.016983032, 0.018844604, 0.091796875, -0.013465881, 0.025970459, -0.008705139, 0.008682251, 0.014533997, 0.015670776, 0.021209717, -0.027404785, 0.016052246, -0.0045776367, -0.024276733, -0.009986877, 0.0178833, 0.017150879, 0.055908203, -0.00504303, 0.02168274, 0.016159058, 0.029541016, 0.02079773, -0.032684326, -0.03353882, 0.013137817, 0.05529785, 0.01826477, 0.020874023, -0.0154418945, -0.0736084, -0.052947998, 0.004135132, 0.0095825195, 0.0024719238, -0.028564453, 0.016159058, -0.008522034, 0.02798462, 0.03933716, 0.00086164474, 0.02670288, -0.05026245, -0.054534912, -0.032348633, 0.011985779, 0.034484863, -0.02078247, -0.002521515, 0.058258057, -0.033355713, -0.03955078, 0.041046143, 0.015541077, 0.0061798096, -0.09716797, -0.032043457, 0.025909424, 0.005771637, -0.019165039, 0.0074768066, 0.045135498, 0.025421143, -0.05001831, 0.02027893, -0.016998291, -0.060180664, 0.041290283, 0.025772095, 0.015060425, -0.030929565, 0.0011844635, -0.07446289, 0.025024414, -0.0025997162, -0.01612854, 0.027267456, 0.015640259, 0.00207901, 0.048187256, -0.019927979, 0.029510498, 0.021453857, -0.049041748, -0.019714355, 0.03652954, 0.04714966, 0.03213501, 0.009384155, 0.02418518, 0.0035133362, 0.011787415, 0.036621094, 0.02519226, 0.018188477, 0.043121338, 0.021362305, -0.042907715, 0.054260254, -0.06402588, -0.0104522705, -0.046661377, 0.00894928, -0.059326172, 0.02319336, -0.020904541, 0.0012578964, 0.0035209656, 0.015060425, 0.012825012, 0.039093018, -0.010650635, 0.0004916191, -0.03591919, 0.025314331, 0.03955078, 0.009422302, 0.028060913, -0.022155762, -0.07550049, 0.03677368, 0.017959595, -0.021224976, 0.028945923, 0.013191223, -0.023254395, -0.06298828, -0.017593384, -0.0021686554, -0.04156494, -0.015853882, 0.01071167, 0.026504517, 0.035583496, -0.08502197, -0.055267334, 0.036590576, -0.012268066, -0.010787964, 0.014953613, -0.0048713684, -0.023162842, -0.007827759, 0.035125732, -0.028213501, -0.01260376, -8.165836e-05, -0.012931824, -0.017318726, 0.025985718, 0.028060913, -0.029785156, -0.010261536, 0.051818848, 0.006652832, 0.026626587, -0.030929565, -0.07293701, 0.016677856, 0.016571045, 0.043182373, -0.011581421, 0.0657959, -0.013473511, -0.010650635, -0.04534912, -0.004852295, -0.066345215, -0.0690918, -0.07940674, 0.042388916, -0.022262573, 0.06616211, 0.01977539, -0.057495117, -0.055267334, -0.017074585, 0.053344727, -0.029220581, 0.0019168854, -0.04397583, -0.038635254, -0.028503418, -0.0066108704, -0.055786133, 0.025497437, 0.045928955, 0.05239868, 0.018814087, -3.8266182e-05, -0.027145386, 0.033935547, 0.059539795, -0.042999268, 0.033935547, 0.06298828, -0.0049743652, -0.031799316, 0.033935547, 0.08673096, 0.048858643, -0.013175964, -0.013961792, -0.019241333, 0.0132751465, -0.0107421875, -0.049224854, -0.011413574, -0.024414062, 0.00079774857, -0.008804321, 0.0011854172, 0.02305603, -0.024169922, 0.02760315, -0.0034236908, -0.07244873, -0.023544312, -0.033843994, -0.015640259, 0.0037784576, 0.008155823, 0.0008201599, 0.051971436, 0.030548096, 0.06341553, 0.025924683, 0.026885986, 0.018447876, 0.016799927, 0.07128906, -0.038848877, -0.017669678, -0.02519226, 0.02154541, -0.00071668625, -0.02558899, -0.0736084, -0.023406982, -0.015945435, 0.06161499, -0.022857666, -0.030807495, 0.012916565, 0.010391235, 0.008605957, -0.048553467, 0.066711426, 0.028411865, 0.015052795, -0.01020813, 0.06161499, -0.018859863, -0.00048351288, 0.015792847, -0.0071105957, 0.036987305, -0.025497437, -0.03314209, 0.064086914, 0.012535095, 0.058410645, -0.05734253, 1.513958e-05, -0.041778564, -0.052764893, -0.019424438, 0.019378662, 0.043914795, -0.022247314, -0.06762695, -0.0061302185, -0.009895325, -0.0061416626, 0.076538086, -0.052246094, -0.030441284, 0.02394104, 0.0034542084, -0.018447876, -0.0715332, 0.04660034, -0.021072388, -0.03250122, -0.022460938, -0.026031494, -0.008049011, -0.03656006, -0.015159607, 0.011291504, 0.00019288063, 0.04977417, -0.012367249, -0.021102905, -0.010787964, 0.023803711, -0.0024929047, -0.0013551712, 0.019927979, 0.030319214, -0.005279541, -0.043182373, -0.018737793, -0.008285522, -0.043395996, 0.05734253, 0.10284424, 0.043548584, 0.0014696121, -0.017868042, -0.0025997162, -0.011528015, -0.051940918, -0.014305115, -0.06677246, -0.024612427], [-0.026428223, 0.07171631, -0.16137695, -0.011184692, 0.07312012, -0.028274536, 0.012825012, 0.015991211, 0.05218506, 0.003868103, -0.011367798, 0.013671875, 0.10699463, 0.021865845, -0.012039185, -0.042022705, -0.027038574, 0.02432251, 0.025650024, 0.02684021, -0.031173706, -0.03515625, -0.024963379, -0.042022705, 0.049804688, 0.021713257, 0.0063095093, -0.064575195, -0.0234375, -0.0008597374, 0.025756836, -0.027008057, 0.005268097, -0.08526611, -0.053009033, -0.06707764, 0.06323242, 0.0335083, 0.011764526, -0.022476196, -0.012893677, 0.010353088, -0.033111572, -0.08917236, 0.068237305, 0.01159668, 0.056152344, -0.00029969215, 0.047058105, -0.018356323, 0.059051514, -0.003967285, 0.023269653, -0.0079956055, 0.08068848, 0.015556335, -0.020339966, 0.011550903, 0.055877686, -0.05569458, 0.0552063, 0.045043945, -0.025665283, 0.0715332, 0.06854248, -0.012207031, -0.06011963, 0.080200195, -0.007335663, 0.009666443, 0.011367798, 0.0022449493, 0.06768799, 0.04147339, 0.005870819, 0.045288086, -0.016418457, -0.002653122, -0.0034866333, 0.04336548, 0.048828125, -0.064575195, 0.048706055, -0.054016113, 0.045837402, 0.046203613, -0.02557373, -8.332729e-05, -0.050689697, 0.06298828, -0.0061035156, 0.00058841705, 0.032592773, 0.037628174, -0.101623535, 0.021530151, -0.039916992, -0.01436615, -0.02508545, -0.038146973, -0.07543945, -0.005542755, -0.0074653625, -0.051757812, 0.053375244, 0.013572693, -0.040039062, -0.0071525574, -0.025238037, 0.052978516, -0.064453125, -0.005268097, -0.053100586, 0.049987793, -0.02520752, -0.029464722, 0.08404541, -0.056274414, 0.041534424, -0.0017929077, 0.013763428, -0.007247925, 0.009178162, 0.028518677, 0.005252838, 0.045959473, -0.02684021, -0.0011320114, -0.0047416687, -0.04824829, -0.0046157837, -0.035369873, -0.0020885468, 0.015914917, -0.030914307, 0.08416748, -0.08892822, -0.038024902, 0.0010194778, 0.039245605, 0.03894043, 0.006855011, -0.02468872, -0.01651001, 0.015365601, -0.022232056, -0.00066137314, -0.01083374, -0.036743164, 0.022003174, 0.037963867, 0.0418396, -0.023849487, -0.017669678, 0.016830444, -0.03515625, 0.017028809, 0.011161804, 0.02078247, 0.004676819, 0.05203247, 0.00217247, -0.022567749, 0.030853271, -0.018157959, -0.0793457, 0.07208252, -0.0016098022, 0.016693115, 0.035247803, -0.03918457, -0.011520386, -0.03363037, 0.03717041, 0.07086182, -0.019073486, 0.026367188, -0.058288574, 0.02507019, -0.046722412, 0.009811401, -0.023956299, 0.037597656, 0.0014505386, 0.01524353, -0.0023212433, -0.01586914, -0.007080078, -0.060516357, -0.053497314, 0.02168274, 0.02947998, -0.00415802, -0.050079346, -0.028945923, -0.05267334, 0.030136108, -0.010520935, 0.035736084, -0.061340332, -0.028503418, 0.006439209, -0.07141113, 0.02999878, -0.033966064, 0.04638672, -0.029815674, 0.040008545, -0.0023155212, -0.03894043, 0.05783081, -0.01374054, -0.003320694, 0.00894928, -0.013397217, -0.009773254, -0.0052604675, -0.044525146, -0.0064849854, 0.0045928955, 0.0045433044, -0.010734558, 0.020462036, 0.0071907043, 0.009338379, 0.02293396, -0.04547119, -0.0033035278, -0.02178955, 0.03326416, -0.03137207, -0.049316406, 0.049743652, -0.021575928, 0.027709961, 0.003376007, 0.023208618, 0.06652832, 0.016235352, 0.011993408, 0.034729004, 0.01247406, 0.0079422, -0.0042419434, -0.044708252, -0.006126404, -0.0034275055, -0.025634766, 0.008300781, 0.06524658, 0.009628296, 0.010108948, -0.012481689, -0.0035858154, 0.04067993, -0.040618896, -0.0037384033, 0.009208679, 0.021087646, -0.0013532639, 0.013694763, -0.030670166, 0.020095825, -0.041412354, -0.003440857, -0.066711426, 0.02458191, -0.052764893, -0.030685425, -0.014312744, -0.0368042, 0.035247803, -0.0017557144, 0.03652954, 0.0018692017, 0.028762817, 0.0029411316, -0.014587402, -0.011222839, -0.0019798279, -0.04196167, -0.027770996, -0.05630493, 0.0015077591, -0.0013217926, 0.012680054, 0.04373169, 0.047973633, -0.00022256374, 0.03189087, 0.028625488, 0.021316528, 0.017440796, 0.012451172, 0.0012464523, -0.005344391, 0.04824829, -0.045135498, 0.009719849, -0.022445679, -0.030853271, 0.028915405, 0.0725708, 0.032714844, 0.023361206, 0.012969971, -0.027236938, -0.012481689, 0.0039634705, 0.0034713745, -0.056884766, -0.0061416626, -0.033691406, -0.003850937, -0.06210327, 0.042022705, 0.022460938, 0.027694702, 0.08154297, -0.0069236755, -0.0012617111, -0.016143799, -0.0143966675, -0.042266846, 0.017044067, 0.055999756, 0.008720398, 0.0042915344, -0.0010662079, -0.0031089783, 0.041290283, 0.029769897, 0.007171631, -0.035858154, -0.05630493, -0.038391113, -0.039855957, 0.0034561157, 0.011703491, -0.0024852753, 0.056396484, -0.03945923, -0.017028809, -0.05117798, -0.041381836, 0.006072998, -0.029907227, -0.0070152283, 0.0058403015, -0.030151367, -0.06915283, 0.044891357, -0.035247803, 0.0135269165, -0.03152466, -0.05343628, 0.020477295, 0.019439697, -0.0021915436, 0.03656006, 0.032165527, 0.016052246, -0.025543213, -0.03918457, 0.0062789917, 0.038208008, 0.01675415, 0.015556335, 0.0791626, -0.01209259, -0.005622864, 0.007896423, -0.004261017, 0.047302246, -0.026855469, 0.006023407, -0.06488037, -0.023956299, -0.05593872, 0.023361206, 0.016921997, 0.016067505, 0.013343811, 0.030273438, 0.009132385, 0.0062828064, -0.00034165382, -0.025497437, -0.019882202, 0.041259766, -0.020401001, -0.014854431, -0.068603516, -0.037200928, 0.046173096, 0.04220581, 0.033081055, 0.014259338, 0.059051514, 0.027404785, -0.0262146, -0.051330566, -0.007446289, -0.029067993, 0.014221191, -0.0001578331, -0.034301758, -0.04901123, 0.022232056, -0.0099487305, 0.0038795471, 0.03427124, 0.011474609, -0.042236328, 0.013542175, 0.018707275, 0.027404785, 0.01600647, -0.045806885, 0.05569458, 0.016967773, 0.04562378, -0.005592346, 0.041534424, 0.023757935, 0.033721924, 0.026428223, 0.056427002, -0.032470703, -0.061828613, -0.0010461807, 0.044891357, -0.010795593, -0.0035381317, -0.038604736, 0.014343262, -0.009376526, 0.040039062, -0.015380859, 0.044891357, 0.039855957, -0.0262146, -0.03338623, -0.019042969, 0.01940918, 0.08782959, 0.021911621, -0.008781433, -0.10089111, -0.013977051, -0.078186035, 0.051849365, 0.010910034, -0.0022335052, 0.06274414, -0.048706055, 0.024993896, 0.0028057098, 0.015182495, 0.057495117, 0.01247406, 0.006515503, -0.045196533, 0.012359619, -0.016143799, -0.005645752, -0.0052452087, 0.014801025, 0.0018482208, 0.05407715, -0.006160736, 0.024795532, 0.0090408325, 0.012359619, 0.007095337, -0.019104004, -0.016311646, -0.011886597, 0.045806885, 0.058685303, -0.0032138824, -0.0026073456, -0.026000977, -0.052856445, 0.022903442, 0.022857666, 0.0072250366, -0.027389526, 0.0041046143, -0.037475586, 0.07196045, 0.021728516, -0.023651123, -0.01789856, -0.040222168, -0.04437256, -0.03942871, 0.015045166, 0.030532837, -0.017227173, 0.014709473, 0.04901123, -0.029403687, -0.0058135986, 0.02609253, -0.0024375916, 0.07116699, -0.109069824, -0.020248413, 0.042877197, 0.004878998, 0.0041275024, 0.014221191, 0.049804688, 0.018051147, -0.05029297, 0.00522995, -0.012611389, -0.045654297, 0.008331299, 0.015991211, -0.006225586, -0.021438599, -0.045562744, -0.08392334, 0.020568848, 0.013633728, -0.010467529, 0.032714844, 0.008087158, 0.014129639, 0.04611206, -0.010032654, 0.024642944, -0.0024337769, -0.03945923, -0.033447266, 0.011703491, 0.045166016, 0.029190063, -0.011024475, -0.010688782, 0.010734558, 0.019836426, 0.05130005, 0.00093078613, -0.013008118, 0.020004272, 0.009399414, -0.032287598, 0.011604309, -0.044891357, -0.024902344, -0.04550171, 0.022262573, -0.01940918, -0.0011053085, -0.00894928, 0.01751709, 0.018753052, 0.017547607, 0.048217773, 0.06976318, 0.010009766, 0.042022705, -0.0011768341, -0.016021729, 0.0317688, 0.035308838, 0.044921875, 0.029785156, -0.07067871, 0.026885986, 0.018081665, -0.04852295, -0.0064086914, 0.006454468, -0.038604736, -0.056365967, -0.015533447, 0.005924225, -0.076293945, 0.009170532, 0.0041122437, 0.016616821, 0.02760315, -0.07800293, -0.05026245, 0.04055786, -0.0076904297, -0.035186768, 0.019042969, 0.0017967224, -0.042175293, -0.015670776, 0.03189087, -0.030395508, -0.008834839, -0.023361206, -0.040863037, 0.0146484375, 0.027038574, 0.016052246, -0.006565094, 0.0031223297, 0.11791992, -0.020614624, 0.02192688, -0.0021686554, -0.06933594, 0.0055732727, 0.007286072, 0.026611328, -0.00085639954, 0.062072754, -0.018814087, 0.04284668, -0.04031372, -0.06591797, -0.027145386, -0.038269043, -0.057525635, 0.048461914, -0.029418945, 0.050201416, 0.043304443, -0.045013428, -0.060058594, 0.05014038, 0.073791504, -0.030395508, -0.023803711, -0.037017822, -0.03289795, -0.0069999695, 0.014335632, -0.04510498, 0.028198242, 0.050201416, 0.032348633, -0.0047302246, 0.0044898987, -0.039855957, -0.0029621124, 0.05456543, -0.009056091, 0.03265381, 0.06774902, 0.017303467, -0.03062439, 0.059661865, 0.093566895, -0.0012636185, -0.02319336, -0.02217102, -0.013008118, 0.031921387, -0.015960693, -0.006542206, -0.04699707, -0.016021729, 0.01020813, 0.014472961, 0.012130737, -0.015716553, -0.021224976, 0.020736694, -0.0035629272, -0.06707764, -0.017333984, 0.022613525, -0.03704834, -0.021896362, -0.029785156, 0.007335663, 0.038024902, 0.018707275, 0.040161133, 0.0023078918, -0.022399902, 0.00491333, -0.014953613, 0.06945801, -0.023468018, -0.04824829, 0.0030918121, 0.045959473, -0.0033817291, -0.015533447, -0.07885742, -0.0043792725, -0.07861328, 0.032226562, -0.017959595, -0.025100708, 0.022567749, 0.011566162, 0.02947998, -0.039520264, 0.06585693, -0.009147644, 0.027404785, 0.0078048706, 0.058288574, -0.0068511963, 0.008033752, -0.019638062, -0.009925842, 0.021408081, -0.0076828003, -0.031982422, 0.036315918, 0.009117126, 0.0625, -0.061523438, -0.014572144, -0.037719727, -0.047058105, -0.008926392, 0.019729614, 0.033813477, -0.019943237, -0.06335449, 0.0038108826, -0.02708435, -0.018127441, 0.064453125, -0.037750244, -0.0038452148, 0.0034484863, 0.0061454773, -0.017593384, -0.08203125, 0.0574646, -0.017929077, -0.024902344, -0.024047852, -0.018463135, 0.0037212372, -0.013977051, -0.04748535, -0.0070495605, 0.015457153, 0.014884949, 0.011810303, -0.026672363, -0.034606934, 0.020080566, 0.008964539, -0.0027103424, -0.01928711, 0.0011844635, -0.020889282, -0.028518677, -0.035614014, 0.028549194, 0.010795593, 0.039276123, 0.11352539, 0.034210205, 0.023071289, -0.025375366, 0.011451721, -0.01687622, -0.072631836, -0.020507812, -0.06542969, -0.037200928], [-0.018859863, 0.040100098, -0.15820312, 0.0033931732, 0.07385254, -0.030197144, 0.017837524, -0.0044937134, 0.024749756, -0.01247406, -0.016616821, 0.004360199, 0.0692749, 0.035003662, 0.0014839172, -0.033050537, 0.018997192, -0.036224365, 0.010971069, 0.061279297, -0.007873535, -0.062347412, 0.025436401, -0.06878662, 0.007850647, 0.021072388, 0.0018014908, -0.02482605, -0.045196533, -0.027328491, 0.028579712, 0.005794525, -0.0012617111, -0.08380127, -0.049865723, -0.053131104, 0.068115234, 0.051818848, -0.008758545, -0.018997192, 0.015052795, 0.021255493, 0.0041160583, -0.081848145, 0.057403564, -0.056793213, 0.07647705, 0.0046463013, 0.037322998, -0.056884766, 0.06298828, -0.064941406, 0.008880615, 0.0055770874, 0.111206055, 0.03225708, -0.027832031, 0.01524353, 0.049072266, -0.048065186, 0.08166504, 0.030639648, -0.064697266, 0.0635376, 0.039733887, -0.02545166, -0.029434204, 0.044403076, -0.0044670105, -0.042297363, 0.01524353, -0.020050049, 0.07623291, 0.05368042, -0.04510498, 0.04626465, -0.047027588, 0.023483276, -0.0066337585, 0.036132812, 0.069885254, -0.031219482, 0.039886475, -0.011276245, 0.033721924, 0.003917694, -0.022399902, -0.028625488, -0.044189453, 0.082214355, 0.01424408, 0.039489746, 0.03564453, 0.042816162, -0.11968994, 0.04776001, -0.046539307, -0.018341064, -0.04058838, -0.01890564, -0.0625, 0.021514893, 0.0015554428, -0.00052785873, 0.02494812, 0.036010742, -0.030914307, 0.03878784, -0.04434204, 0.029327393, -0.042175293, 0.032592773, -0.044921875, 0.0012359619, -0.02861023, -0.031555176, 0.070739746, -0.046966553, 0.009109497, -0.007671356, 0.005657196, -0.007545471, 0.019699097, 0.00881958, 0.0051345825, 0.038330078, -0.01033783, 0.016983032, 0.0037174225, -0.0309906, -0.018859863, -0.023834229, -0.017486572, -0.0206604, 0.0082092285, 0.09320068, -0.09802246, -0.015357971, 0.01763916, 0.025009155, 0.060577393, 0.0053367615, -0.0049591064, -0.029266357, -0.03741455, -0.05065918, -0.028808594, 0.0075302124, -0.06085205, 0.056396484, 0.011070251, 0.016967773, 0.014533997, 0.03378296, 0.0262146, -0.0069084167, -0.016174316, -0.0076179504, 0.022216797, -0.022705078, 0.055633545, -0.033325195, -0.037109375, 0.049041748, -0.017990112, -0.011512756, 0.037384033, 0.018005371, 0.026809692, 0.051086426, -0.012611389, -0.04534912, -0.007167816, 0.012145996, 0.048980713, -0.010345459, 0.0848999, -0.025543213, 0.0048713684, -0.03125, 0.0154953, -0.0491333, -0.005844116, -0.029556274, 0.008293152, 0.0036964417, 0.027008057, -0.028442383, -0.039520264, -0.054504395, 0.015586853, 0.009841919, -0.0012989044, -0.025848389, -0.031585693, -0.05996704, 0.011543274, -0.032714844, -1.3828278e-05, -0.026885986, -0.040008545, -0.0040130615, -0.059387207, 0.020889282, -0.025970459, 0.030227661, -0.04977417, 0.04727173, 0.016784668, -0.060150146, 0.07409668, -0.006462097, 0.007019043, 0.01184082, -0.03817749, -0.0184021, -0.0057792664, 0.0057792664, -0.03677368, 0.03353882, -0.014549255, 0.01134491, -0.0064315796, -0.0149383545, 0.010017395, 0.037261963, -0.03515625, 0.009635925, -0.066833496, 0.013664246, -0.033325195, -0.0574646, 0.06341553, 0.022857666, 0.0028896332, -0.017730713, 0.025009155, 0.052246094, 0.015792847, 0.06161499, -0.0061836243, -0.0043945312, -0.008926392, -0.008651733, -0.03744507, -0.010429382, 0.0016775131, -0.01512146, 0.014663696, 0.06536865, -0.010795593, 0.010475159, 0.0069847107, -0.017333984, 0.01134491, -0.025009155, 0.0022468567, 0.045654297, 0.02520752, 0.022857666, 0.011505127, 0.024368286, 0.030319214, 0.0041389465, 0.0067863464, -0.05267334, 0.010650635, 0.009353638, 0.00073099136, -0.006214142, -0.0022277832, 0.027297974, 0.023254395, 0.027420044, -0.02053833, 0.029632568, 0.008346558, -0.03048706, 0.0066452026, -0.0026187897, -0.021072388, -0.043823242, -0.056610107, -0.0068244934, 0.012542725, 0.043518066, 0.049468994, 0.008232117, -0.01689148, -0.003250122, -0.0033073425, 0.008018494, 0.008117676, -0.002521515, -0.003479004, -0.020858765, 0.06518555, -0.05419922, 0.006996155, -0.030075073, -0.01689148, 0.05871582, 0.05038452, 0.057037354, 0.011695862, 0.007156372, 0.017578125, -0.021484375, 0.022766113, -0.017837524, -0.02178955, 0.03878784, -0.046844482, 0.02999878, -0.052642822, 0.042938232, 0.06121826, 0.018585205, 0.042938232, -0.013793945, 0.005542755, -0.019241333, -0.033935547, -0.049987793, 0.03503418, 0.07672119, 0.019226074, -0.004306793, -0.009788513, 0.010795593, 0.020843506, 0.038024902, -0.0010709763, -0.019042969, -0.030883789, -0.027252197, -0.011329651, -0.032043457, -0.0015487671, 0.011672974, 0.05847168, -0.011054993, -0.0006337166, -0.04849243, -0.05368042, -0.010757446, -0.030517578, 0.0015497208, 0.02420044, 0.009361267, -0.07373047, 0.021438599, -0.054840088, 0.036590576, -0.0007624626, -0.054504395, 0.025650024, 0.06695557, -0.028808594, 0.033477783, 0.035614014, 0.021331787, -0.007129669, -0.022109985, 0.015960693, 0.042053223, 0.050231934, 0.0149002075, 0.02053833, -0.014434814, 0.01725769, -0.00756073, -0.0029029846, 0.041107178, 0.0073394775, 0.024673462, -0.055389404, -0.03186035, -0.037902832, -0.019165039, 0.056762695, 0.0066223145, -0.03692627, -0.0066223145, 0.022766113, -0.003818512, 0.0033302307, -0.039978027, -0.013870239, 0.029190063, -0.056854248, -0.01638794, -0.07531738, 0.03527832, 0.0209198, -0.02305603, 0.02734375, 0.002155304, 0.05810547, 0.054351807, -0.04776001, -0.085876465, -0.006614685, 0.0049095154, 0.022842407, 0.012489319, -0.039764404, -0.010498047, 0.0027542114, 0.005420685, 0.028884888, 0.022659302, -0.019042969, -0.019256592, 0.017074585, 0.018737793, 0.0206604, 0.010643005, -0.04776001, 0.04159546, 0.04446411, 0.05001831, -0.008323669, -0.006378174, -0.005645752, 0.021896362, 0.026367188, 0.062805176, -0.017333984, -0.08312988, -0.0262146, 0.052978516, 0.0023078918, -0.04510498, -0.022583008, -0.0107803345, 0.024871826, 0.040374756, 0.028121948, 0.08898926, 0.031799316, -0.00868988, -0.04196167, -0.033813477, 0.025665283, 0.060058594, 0.051330566, -0.010856628, -0.09942627, -0.041503906, -0.058441162, 0.023147583, 0.028427124, -0.018051147, 0.066223145, -0.022125244, 0.028945923, 0.0061836243, 0.034851074, 0.05239868, 0.007205963, 0.0006632805, -0.02166748, 0.027023315, 0.028305054, -0.020843506, 0.0032978058, -0.0029087067, -0.008422852, 0.077941895, -0.028884888, 0.028747559, 0.006095886, 0.016342163, 0.0015382767, -0.06878662, -0.04989624, 0.010612488, 0.029693604, 0.04473877, 0.024047852, -0.02935791, -0.02456665, -0.036499023, 0.0009975433, 0.011413574, -0.0062446594, -0.018508911, 0.058441162, -0.027755737, 0.05316162, 0.03213501, -0.007045746, -0.06707764, -0.03527832, -0.007820129, -0.009635925, 0.022903442, 0.023757935, -0.03111267, 0.045013428, 0.012756348, -0.06555176, -0.042633057, 0.00491333, -0.03213501, 0.0107803345, -0.12634277, -0.012672424, 0.044189453, -0.0045661926, -0.022491455, 0.011123657, 0.042633057, 0.052246094, -0.041046143, 0.038848877, 0.018295288, -0.07385254, 0.05038452, 0.0035171509, 0.016113281, -0.029510498, -0.045898438, -0.052642822, 0.008926392, -0.012702942, -0.005908966, 0.0058135986, 0.024429321, 0.05117798, 0.05041504, -0.009239197, 0.0335083, 0.05203247, -0.02758789, -0.064697266, -0.016952515, 0.008598328, 0.02709961, 0.015159607, 0.010574341, 0.025878906, -0.0012407303, 0.03930664, -0.008811951, -0.024612427, 0.03289795, 0.03353882, -0.019165039, 0.045898438, -0.011924744, -0.053894043, -0.05328369, 0.022399902, -0.025665283, -0.038146973, 0.0047569275, 0.014411926, -0.0082092285, 0.0067367554, 0.013366699, 0.05883789, -0.005420685, 0.0071105957, -0.06149292, -0.039398193, 0.040283203, 0.0012998581, 0.045013428, -0.004108429, -0.053863525, 0.02734375, 0.029052734, 0.023468018, -0.01134491, 0.017318726, -0.033966064, -0.0619812, -0.013511658, 0.00333786, -0.07434082, 0.0011520386, 0.022125244, 0.036193848, 0.023376465, -0.05316162, -0.042053223, 0.0725708, -0.052978516, -0.009597778, 0.02722168, 0.04385376, -0.032806396, -0.012611389, 0.023254395, -0.0070648193, -0.023620605, -0.036346436, -0.04385376, 0.01222229, 0.028518677, 0.025100708, 0.0051879883, 0.014335632, 0.09112549, -0.022842407, 0.0020141602, 0.004524231, -0.033691406, -0.00730896, 0.03338623, 0.010681152, 0.02545166, 0.046691895, -0.006877899, 0.028305054, -0.008514404, 0.01184082, -0.036346436, -0.029418945, -0.04840088, 0.033203125, -0.04324341, -0.0016727448, 0.01777649, -0.064941406, -0.05380249, 0.022323608, 0.04248047, 0.0031795502, -0.0018320084, -0.06854248, -0.011001587, -0.07141113, 0.0015182495, -0.071777344, 0.023651123, -0.0019702911, 0.062316895, -0.009002686, -0.013008118, -0.021560669, 0.023483276, 0.054504395, -0.004737854, 0.032714844, 0.07269287, 0.003824234, -0.037506104, 0.0463562, 0.060943604, 0.0049095154, 0.0027561188, -0.0021343231, 0.0079956055, 9.071827e-05, -0.018859863, -0.064331055, -0.007507324, 0.0071754456, 0.020553589, -0.020523071, 0.021621704, 0.002855301, 0.0030899048, 0.014122009, -0.019241333, -0.045074463, -0.026901245, 0.018005371, -0.016113281, -0.008651733, -0.054748535, 0.036010742, 0.02508545, 0.0026931763, 0.016983032, 0.0041122437, 0.021591187, -0.01033783, -0.042297363, 0.045074463, -0.024307251, -0.044891357, -0.033050537, 0.025543213, -0.019195557, -0.03060913, -0.0680542, -0.015586853, -0.045654297, 0.017623901, -0.022460938, -0.019943237, 0.0065307617, 0.013420105, 0.03186035, -0.0048217773, 0.059509277, -0.040985107, 0.0011062622, 0.015052795, 0.048431396, 0.002380371, 0.01890564, 0.011512756, 0.0034770966, 0.014778137, -0.025665283, -0.023834229, 0.07421875, 0.008987427, 0.039642334, -0.04269409, 0.008842468, -0.029785156, -0.009353638, 0.010871887, -0.037994385, 0.06695557, -0.011062622, -0.04776001, -0.032714844, -0.016235352, -0.038848877, 0.06713867, -0.05355835, 0.0010595322, -0.004497528, -0.010902405, -0.050689697, -0.07269287, 0.06036377, -0.00088357925, -0.021759033, -0.029953003, -0.0037956238, -0.04888916, 0.011138916, -0.010643005, 0.018600464, -0.005207062, 0.049713135, -0.017105103, -0.002090454, -0.055480957, 0.030044556, 0.04055786, -0.00061416626, -0.043762207, 0.0032539368, -0.03479004, -0.007221222, -0.022323608, -0.0035247803, -0.003332138, 0.02368164, 0.09918213, 0.0262146, -0.00043964386, -0.009742737, 0.00069618225, -0.033966064, -0.03488159, -0.025970459, -0.05130005, -0.049224854], [-0.007858276, 0.050842285, -0.15905762, -0.012367249, 0.040802002, -0.052490234, -0.014137268, -0.0008234978, 0.019714355, 0.0028839111, -0.024108887, -0.022735596, 0.07836914, 0.0063705444, -0.014389038, -0.03805542, 0.0054893494, -0.05355835, 0.0056533813, 0.033050537, -0.010002136, -0.0046539307, 0.009155273, -0.07501221, 0.040618896, -0.008384705, 0.0043640137, -0.04107666, -0.08477783, -0.07086182, 0.016357422, 0.009864807, 0.009338379, -0.09399414, -0.03503418, -0.08166504, 0.06341553, 0.039123535, -0.014213562, -0.0033893585, 0.012680054, 0.016220093, -0.01285553, -0.056610107, 0.063964844, -0.04498291, 0.04510498, -0.018966675, 0.05038452, -0.0524292, 0.08673096, -0.02116394, 0.0004389286, 0.019088745, 0.045684814, 0.04788208, -0.027496338, 0.0060653687, 0.027542114, -0.033935547, 0.0748291, 0.07086182, -0.045135498, 0.08001709, 0.032470703, -0.027297974, -0.05645752, 0.05596924, -0.0055999756, -0.05279541, 0.028717041, 0.011985779, 0.055633545, 0.03213501, -0.023254395, 0.023422241, -0.016143799, 0.021102905, 0.00013303757, 0.041625977, -0.0035820007, 0.009117126, 0.02130127, -1.3828278e-05, 0.051330566, 0.02571106, -0.022918701, -0.02381897, -0.08392334, 0.07751465, 0.014030457, 0.010322571, 0.017059326, 0.022155762, -0.13305664, 0.025909424, -0.035339355, 0.005016327, -0.05493164, -0.02708435, -0.06402588, 0.023666382, 0.012794495, -0.012794495, 0.030456543, 0.016494751, -0.004558563, 0.038269043, -0.04107666, 0.021026611, -0.0368042, 0.012962341, -0.037017822, 0.042144775, -0.010879517, -0.03353882, 0.10949707, -0.037750244, 0.014091492, 0.026443481, -0.03060913, -0.02305603, 0.006137848, -0.0020217896, -0.023239136, 0.023162842, -0.010269165, 0.023025513, -0.0017166138, -0.038085938, 0.01146698, -0.020339966, -0.0368042, 0.0046195984, -0.0044670105, 0.06707764, -0.076049805, 0.003753662, -0.0043411255, 0.0003607273, 0.053588867, -0.017532349, -0.021697998, -0.0016345978, -0.016525269, -0.052459717, -0.014640808, 0.010345459, -0.04159546, 0.062927246, 0.009963989, 0.007724762, 0.01687622, 0.047607422, 0.026428223, -0.0007724762, -0.034851074, 0.026779175, 0.00012898445, 0.0037956238, 0.02659607, -0.031982422, -0.04397583, 0.0602417, -0.02772522, -0.023895264, 0.05319214, 0.023620605, 0.042510986, 0.05645752, -0.033843994, -0.04058838, -0.037719727, 0.01398468, 0.05795288, -0.0103302, 0.08477783, -0.04748535, 0.0052871704, -0.010910034, 0.014297485, -0.05508423, 0.002029419, -0.019317627, -0.006477356, -0.02406311, 0.027816772, -0.046844482, -0.021560669, -0.04626465, 0.025680542, 0.06451416, -0.00217247, -0.052703857, -0.051361084, -0.03692627, 0.018829346, -0.019821167, -7.5638294e-05, -0.03543091, -0.010063171, 0.0039596558, -0.09307861, 0.044036865, -0.034851074, 0.046661377, -0.04977417, 0.049316406, 0.017578125, -0.05633545, 0.0647583, -0.024749756, 0.023025513, 0.011734009, -0.011917114, 0.007286072, -0.02029419, -0.013427734, -0.047973633, -0.0068511963, 0.026794434, 0.02998352, -0.035583496, -0.0034923553, 0.023376465, 0.027648926, -0.029281616, 0.00573349, -0.033416748, 0.005630493, -0.04498291, -0.06842041, 0.050048828, 0.0033035278, 0.022903442, -0.01084137, -0.0011692047, 0.06890869, 0.014228821, 0.023864746, 0.040008545, 0.010253906, -0.017501831, 0.003068924, -0.016708374, -0.0134887695, 0.017547607, -0.025970459, 0.021347046, 0.07122803, 0.0074920654, -0.042999268, 0.035247803, -0.02684021, 0.024353027, -0.012802124, 0.010147095, 0.011749268, 0.04055786, 0.0011577606, 0.02166748, 0.02458191, 0.03161621, 0.007419586, -0.00035429, -0.08477783, 0.027923584, -0.022872925, 0.0019550323, 0.013053894, -0.0077590942, 0.024398804, 0.010276794, 0.042755127, -0.027420044, 0.040863037, 0.024902344, -0.020965576, -0.011390686, 0.034240723, 0.024429321, -0.08117676, -0.05014038, 0.037200928, 0.010505676, 0.015182495, 0.04510498, -0.006340027, -0.0010099411, -0.014015198, 0.007045746, -0.016921997, 0.005088806, 0.0033054352, -0.00687027, -0.0309906, 0.060668945, -0.04434204, 0.002796173, -0.03503418, -0.011657715, 0.0051841736, 0.09588623, 0.045562744, -0.005832672, -0.0018920898, 0.02784729, -0.019638062, 0.00712204, -0.016494751, -0.021591187, 0.0073051453, -0.039489746, 0.050872803, -0.0463562, 0.03717041, 0.06463623, 0.0073509216, 0.06567383, -0.04534912, -0.005596161, -0.019195557, -8.827448e-05, -0.052215576, 0.0095825195, 0.048706055, -0.0012130737, -0.011505127, 0.008201599, -0.011627197, 0.009933472, 0.04284668, -0.005001068, -0.04360962, -0.020355225, -0.011528015, -0.011711121, -0.0057640076, 0.032043457, -0.0032787323, 0.1048584, -0.028030396, 0.0206604, -0.05847168, -0.029174805, -0.03918457, 0.010124207, -0.0074806213, 0.034484863, -0.0070533752, -0.04168701, 0.03591919, -0.04107666, 0.008293152, 0.007637024, -0.060058594, 0.024505615, 0.04727173, 0.0053100586, 0.00365448, 0.048583984, -0.0033473969, -0.010902405, -0.0071868896, 0.031280518, 0.0049438477, 0.061431885, 0.020843506, 0.05871582, -0.016647339, 0.029586792, 0.009643555, -0.006008148, 0.033355713, 0.0023498535, 0.02406311, -0.08746338, -0.007167816, -0.0574646, 0.0061073303, 0.037628174, 0.006793976, -0.00012624264, 0.0066108704, -0.008422852, -0.01965332, -0.0020503998, -0.028793335, 0.002822876, 0.01108551, -0.026779175, 0.00014650822, -0.06585693, 0.032043457, 0.022216797, -0.018493652, 0.016326904, -0.0030574799, 0.02960205, 0.04031372, -0.035858154, -0.07128906, 0.011695862, -0.002248764, -0.00070142746, -0.005756378, -0.033050537, -0.030807495, -0.005203247, 0.027664185, 0.039886475, 0.026046753, 0.033111572, -0.020889282, 0.01576233, 0.004764557, 0.0063819885, -0.0046310425, -0.068115234, 0.068237305, 0.03857422, 0.034851074, -0.017181396, 0.030578613, 0.0018844604, -0.02178955, 0.037261963, 0.066101074, -0.032043457, -0.0927124, -0.038085938, 0.046539307, 0.014572144, -0.02217102, -0.018753052, -0.015655518, 0.037384033, 0.033294678, 0.0049476624, 0.0541687, 0.03955078, -0.009117126, -0.033172607, -0.016586304, 0.029052734, 0.05319214, 0.049713135, -0.03881836, -0.09100342, 0.00096416473, -0.052703857, 0.06085205, -0.041412354, -0.0035495758, 0.08673096, -0.039245605, 0.010932922, -0.03149414, 0.036590576, 0.05432129, 0.016860962, -0.005760193, -0.017120361, 0.03048706, -0.0067825317, -0.02947998, -0.0065841675, -0.012016296, 0.009254456, 0.05795288, -0.040100098, 0.018066406, -0.0025253296, 0.0027160645, 0.0060768127, -0.029891968, -0.037261963, 0.010314941, 0.026275635, 0.012168884, 0.01838684, -0.04019165, -0.048797607, -0.04360962, 0.012016296, 0.001493454, 0.014678955, -0.049102783, 0.044647217, -0.0017747879, 0.044525146, 0.022842407, -0.021438599, -0.023620605, -0.05166626, -0.033813477, -0.010047913, 0.04525757, 0.032409668, -0.03945923, 0.05532837, 0.030044556, -0.03363037, -0.037902832, 0.04135132, -0.020568848, 0.008872986, -0.095947266, -0.030792236, 0.035614014, 0.006137848, 0.00466156, -0.00030064583, 0.039093018, 0.043823242, -0.05432129, 0.035095215, 0.0184021, -0.07397461, 0.014015198, 0.00010341406, -0.0010929108, -0.031829834, 0.0005750656, -0.022720337, -0.0069274902, 0.010795593, -0.008323669, 0.030853271, 0.029342651, 0.0012083054, 0.04727173, -0.015075684, 0.04574585, 0.015304565, -0.036712646, -0.03933716, -0.004962921, 0.032104492, 0.021148682, -0.003238678, 0.007007599, 0.045196533, -0.014823914, 0.040771484, -0.003862381, 0.012031555, 0.026901245, 0.025558472, -0.05142212, 0.044067383, -0.07940674, -0.024612427, -0.04699707, 0.03567505, -0.064086914, -0.02861023, -0.03527832, 0.0112838745, -0.020019531, 0.0075683594, 0.008888245, 0.035339355, -0.031173706, 0.010749817, -0.03149414, -0.026367188, 0.013214111, 0.019256592, 0.044921875, -0.0009460449, -0.044525146, 0.038024902, 0.019134521, 0.03378296, 0.009963989, 0.03967285, -0.029663086, -0.0647583, 0.010902405, -0.017211914, -0.064331055, -0.002199173, 0.012168884, 0.0028362274, 0.04043579, -0.061920166, -0.051086426, 0.066467285, -0.041107178, -0.03543091, 0.013511658, 0.024353027, -0.009002686, 0.007980347, 0.024795532, -0.030471802, 0.003545761, -0.0034008026, -0.032440186, 0.004760742, 0.031829834, 0.022033691, -0.024307251, 0.00017595291, 0.08685303, -0.035095215, 0.02848816, 0.008811951, -0.040130615, -0.012702942, 0.0006661415, 0.005542755, 0.006713867, 0.053222656, -0.02885437, 0.009002686, -0.022354126, 0.004043579, -0.05709839, -0.05441284, -0.05480957, 0.044433594, -0.023483276, -0.0037651062, 0.03744507, -0.07159424, -0.022033691, 0.0340271, 0.043884277, 0.0058937073, 0.026107788, -0.01940918, -0.030029297, -0.05279541, 0.016586304, -0.083496094, 0.025558472, 0.024459839, 0.04159546, -0.0010471344, -0.0027580261, -0.01789856, 0.025756836, 0.061798096, 0.018157959, 0.027252197, 0.066833496, 0.008575439, -0.02720642, 0.06378174, 0.076538086, 0.033935547, -0.026657104, 0.0033721924, 0.0340271, 0.018569946, -0.008079529, -0.073913574, -0.013175964, -0.0027446747, 0.024383545, 0.02104187, -0.013626099, 0.0048217773, -0.0027065277, 0.029403687, 0.00187397, -0.04196167, -0.030838013, -0.0067329407, -0.012016296, -0.01965332, -0.0154800415, 0.011238098, 0.023620605, 0.036743164, 0.029403687, 0.011711121, -0.0023059845, 0.012779236, -0.020004272, 0.029586792, -0.049743652, -0.024749756, -0.04437256, 0.023208618, 0.038757324, -0.021224976, -0.052856445, -0.016067505, -0.022567749, 0.039123535, -0.007385254, -0.031021118, 0.00699234, 0.0009021759, 0.0055160522, -0.028625488, 0.07861328, -0.0015821457, 0.04196167, 0.013671875, 0.038024902, 0.024978638, -0.010002136, 0.011024475, -0.0054893494, 0.02822876, -0.048797607, -0.018569946, 0.08441162, -0.007858276, 0.037628174, -0.05734253, 0.0063171387, -0.054351807, -0.03466797, -0.0082473755, -0.04562378, 0.061187744, -0.0016355515, -0.047332764, -0.03656006, -0.01638794, -0.017929077, 0.05645752, -0.0574646, -0.0045928955, 0.021713257, 0.029342651, -0.038757324, -0.062072754, 0.070739746, -0.012512207, -0.016525269, -0.03994751, -0.032165527, -0.018112183, -0.02947998, -0.019134521, 0.016433716, 0.0013828278, 0.041015625, -0.008277893, -0.016906738, -0.053100586, 0.04171753, 0.024337769, -0.02708435, -0.01751709, 0.02973938, -0.0004439354, -0.028167725, -0.028518677, -0.017196655, -0.00023424625, 0.07220459, 0.104003906, 0.041107178, -0.0027770996, -0.006248474, -0.010917664, -0.031173706, -0.029281616, -0.015541077, -0.05883789, -0.027618408], [-0.014511108, 0.05126953, -0.15246582, -0.017730713, 0.066711426, -0.030197144, -0.002861023, -1.4364719e-05, 0.014030457, -0.010353088, -0.026565552, 0.021957397, 0.047912598, 0.03744507, -0.033325195, -0.04244995, 0.023544312, -0.012710571, 0.0017738342, 0.060546875, -0.03050232, -0.03552246, -0.009597778, -0.03643799, 0.06976318, -0.003660202, -0.00187397, -0.015357971, -0.086364746, -0.034057617, -0.008033752, -0.005706787, -0.0016946793, -0.06896973, -0.039855957, -0.03274536, 0.06390381, -0.008239746, -0.02293396, 0.041137695, -0.007209778, 0.0637207, -0.013160706, -0.044311523, 0.054748535, -0.041992188, 0.042053223, -0.045532227, 0.044311523, -0.041656494, 0.034942627, -0.00674057, -0.0056991577, 0.006958008, 0.10192871, 0.035980225, -0.001540184, -0.0054244995, 0.055664062, -0.028198242, 0.08270264, 0.05291748, -0.00982666, 0.07745361, 0.09075928, -0.03201294, -0.042938232, 0.06213379, -0.0046043396, -0.010147095, 0.0049819946, 0.031799316, 0.06359863, 0.027755737, -0.04324341, 0.0158844, -0.007133484, -0.00466156, -0.0039024353, 0.04650879, 0.041625977, -0.034240723, 0.0007710457, 0.0020866394, 0.052246094, -0.015808105, -0.033966064, -0.0009288788, -0.07055664, 0.088134766, -0.010795593, -0.014839172, 0.016448975, 0.016555786, -0.089538574, 0.04953003, -0.02368164, 0.010955811, -0.025115967, -0.031463623, -0.05038452, 0.0044555664, 0.021942139, -0.03161621, 0.018966675, 0.034057617, -0.007972717, 0.01689148, -0.03225708, 0.010353088, -0.04019165, -0.01399231, -0.045837402, 0.025299072, 0.008911133, -0.090270996, 0.05633545, -0.04159546, 0.0046958923, 0.03149414, 0.001991272, -0.052734375, 0.0017662048, 0.052246094, 0.031097412, 0.015686035, -0.011230469, -0.013137817, -0.0022888184, -0.068603516, -0.0027713776, -0.0020427704, -0.03668213, 0.00021398067, -0.011054993, 0.047424316, -0.08850098, -0.040039062, 0.011383057, -0.0042304993, 0.048187256, 0.003768921, -0.030838013, -0.029220581, 0.025558472, -0.08227539, -0.020370483, -0.003610611, -0.026123047, 0.029724121, 0.02897644, 0.03527832, -0.00030064583, 0.014923096, 0.0063171387, -0.016555786, -0.039794922, -0.052337646, 0.018203735, 0.038024902, 0.05001831, -0.022583008, -0.014350891, 0.05001831, -0.046325684, -0.022994995, 0.049835205, -0.0025844574, 0.036346436, 0.041870117, -0.025802612, -0.04928589, -0.037322998, 0.01776123, 0.036193848, 0.0005645752, 0.04724121, -0.05886841, -0.004096985, 0.014083862, 0.011665344, -0.04550171, 0.041412354, 0.017333984, -0.024093628, 0.013648987, -0.015991211, -0.041809082, -0.06390381, -0.07147217, -0.011741638, -0.0014801025, -0.028381348, -0.05432129, -0.032989502, -0.03869629, 0.020385742, 0.011940002, 0.06506348, -0.047027588, -0.0016965866, 0.009819031, -0.07080078, 0.044128418, -0.045013428, 0.060150146, -0.016159058, 0.03753662, -0.0096588135, -0.04611206, 0.06518555, -0.03552246, -0.034301758, 0.014816284, -0.0010662079, 0.019592285, -0.020217896, -0.000521183, -0.047912598, 0.009147644, 0.030136108, 0.021270752, -0.0009803772, -0.06213379, -0.0019292831, 0.008560181, -0.045837402, -0.0014543533, -0.049621582, 0.011886597, -0.009796143, -0.062927246, 0.005393982, -0.016784668, -0.0014829636, 0.01638794, 0.021560669, 0.04360962, -0.013504028, 0.028778076, 0.034851074, -0.03894043, 0.0059318542, 0.0037193298, -0.029693604, 0.043792725, 0.028930664, -0.02128601, 0.020599365, 0.08270264, -0.012611389, -0.009735107, 0.036102295, 0.0070343018, 0.025497437, -0.019088745, 0.022857666, 0.00969696, 0.046447754, -0.049072266, 0.03125, -0.0014286041, 0.0004427433, 0.022201538, 0.017364502, -0.07678223, 0.03289795, -0.0060577393, 0.015220642, -0.004688263, -0.024978638, 0.03704834, -0.005973816, 0.0065612793, -0.023757935, 0.037353516, 0.024963379, -0.0032615662, 0.0072746277, 0.05316162, -0.02848816, -0.025222778, -0.030838013, 0.017288208, -0.014511108, 0.003107071, -0.008415222, -0.009269714, 0.008804321, -0.0019893646, 0.02279663, -0.024169922, -0.007083893, 0.001499176, -0.00033807755, -0.0009918213, 0.107421875, -0.018478394, 0.025939941, -0.021499634, 0.011398315, 0.033691406, 0.08459473, 0.055725098, 0.04135132, 0.0033893585, 0.01852417, -0.018753052, 0.008476257, 0.02420044, -0.028778076, -0.005256653, -0.009506226, 0.026229858, -0.06359863, 0.06085205, 0.049682617, 0.023880005, 0.02079773, -0.009033203, 0.0026226044, -0.0071907043, -0.011428833, -0.04373169, 0.017242432, 0.084350586, -0.018753052, 0.021362305, 0.004852295, 0.00058698654, -0.009994507, 0.045898438, 0.030776978, -0.027313232, -0.034240723, -0.019729614, -0.02557373, 0.010864258, -0.008369446, 0.047546387, 0.10321045, -0.040496826, 0.0006341934, -0.077697754, -0.0034923553, -0.010414124, 0.027862549, -0.011489868, 0.035461426, 0.014198303, -0.052490234, 0.011497498, -0.011077881, -0.012504578, 0.00907135, -0.036071777, 0.002784729, 0.002664566, -0.0004029274, 0.016159058, 0.0690918, 0.0021038055, 0.00945282, -0.06262207, 0.0064582825, 0.032104492, 0.07647705, -0.018096924, 0.0579834, 0.005493164, 0.01586914, 0.019989014, -0.01210022, 0.009124756, 0.017044067, -0.013160706, -0.08239746, -0.0501709, -0.05218506, 0.048828125, 0.016799927, 0.03793335, -0.03326416, 0.029724121, 0.036895752, 0.018951416, 0.015151978, -0.001449585, 0.032440186, -0.0019702911, -0.018478394, -0.017425537, -0.05819702, 0.05493164, 0.03756714, 0.008644104, 0.03111267, 0.030136108, 0.032196045, 0.028640747, -0.04953003, -0.06756592, -0.008766174, -0.030532837, 0.0018444061, 0.010612488, -0.027160645, -0.0154953, 0.048919678, -0.033325195, 0.04006958, 0.036132812, -0.0039787292, 0.012680054, -0.022979736, -0.009017944, 0.035064697, 0.03955078, -0.050994873, 0.038024902, -0.01184082, 0.035003662, -0.029174805, 0.031341553, 0.022766113, 0.01525116, 0.02645874, 0.05709839, -0.00058984756, -0.10076904, -0.034942627, 0.04675293, 0.0085372925, -0.012481689, -0.06439209, 0.0058250427, 0.02809143, 0.0128479, -0.019989014, 0.06768799, 0.05142212, -0.020889282, -0.01802063, -0.039916992, 0.033477783, 0.11193848, 0.07159424, -0.028900146, -0.09490967, 0.017990112, -0.049102783, 0.042663574, -0.00069618225, 0.01889038, 0.07519531, -0.028961182, -0.0104904175, -0.010505676, -0.020248413, 0.018722534, -0.008605957, 0.010192871, -0.018051147, 0.017547607, 0.016403198, -0.035064697, 0.014846802, -0.023071289, 0.01776123, 0.08013916, 0.0022583008, 0.03744507, -0.006175995, 0.019317627, 0.015975952, -0.01612854, -0.011764526, 0.013061523, 0.038604736, 0.025146484, 0.010467529, -0.010726929, -0.01398468, -0.07849121, 0.008972168, 0.0085372925, 0.013702393, -0.006061554, 0.031951904, -0.014533997, 0.06365967, 0.02557373, 0.009254456, 0.0014944077, -0.06488037, -0.058410645, -0.05355835, 0.020874023, 0.020217896, 0.017089844, 0.045440674, 0.026138306, -0.031463623, -0.014160156, 0.015609741, -0.001244545, 0.00041675568, -0.09790039, -0.012382507, 0.02670288, -0.02861023, -0.006702423, -0.023651123, 0.03741455, 0.028137207, -0.02848816, 0.029800415, -0.024505615, -0.093566895, 0.014785767, 0.015045166, 0.011703491, -0.041809082, -0.0066986084, -0.029785156, 0.018676758, 0.015640259, 0.027801514, 0.012992859, 0.019805908, -0.010108948, 0.04324341, -0.0014009476, 0.0079956055, 0.0038375854, -0.0692749, -0.05117798, 0.015213013, 0.01939392, 0.024642944, 0.013404846, 0.010574341, 0.038238525, -0.0085372925, 0.0049324036, -0.0073394775, 0.0065574646, -0.009757996, 0.015213013, -0.070495605, 0.09185791, -0.045288086, 1.7285347e-05, -0.01473999, 0.044830322, -0.044555664, -0.007522583, -0.0007839203, 0.019622803, -0.026504517, 0.02507019, 0.012939453, 0.050842285, 0.023590088, 0.0068244934, -0.0042877197, -0.03729248, -0.025726318, 0.027297974, 0.033996582, -0.027801514, -0.07507324, 0.02810669, 0.004764557, 0.005680084, 0.021408081, 0.019134521, -0.0010967255, -0.04324341, -0.0009083748, 0.025039673, -0.054504395, -0.020385742, 0.029052734, 0.0002799034, 0.03353882, -0.027374268, -0.047943115, 0.040527344, -0.030303955, -0.033447266, 5.531311e-05, 0.010795593, -0.010192871, 0.0055274963, 0.0016975403, -0.01146698, -0.012283325, 0.004173279, -0.0090789795, -0.0015525818, 0.012680054, 0.056671143, 0.0035762787, -0.028930664, 0.08392334, -0.017623901, 0.0008878708, -0.00642395, -0.021331787, 0.010818481, 0.017608643, 0.006023407, 0.0039596558, 0.05166626, -0.039611816, 0.035736084, -0.057403564, -0.011184692, -0.06262207, -0.025939941, -0.07507324, 0.044799805, -0.028961182, 0.018188477, -0.013366699, -0.055877686, -0.024627686, -0.005016327, 0.045440674, -0.025863647, 0.046966553, -0.06793213, -0.018859863, -0.078125, 0.023040771, -0.021026611, 0.019699097, 0.014533997, 0.06439209, 0.04248047, -0.018569946, -0.0006132126, 0.028717041, 0.05734253, -0.035583496, 0.037506104, 0.057037354, -0.021713257, -0.052856445, 0.0552063, 0.04736328, -0.023956299, 0.018203735, -0.0034122467, 0.0009446144, 0.017852783, -0.042907715, -0.0703125, -0.01637268, -0.034362793, 0.009254456, -0.033050537, 0.020202637, -0.01637268, -0.0041007996, 0.01399231, 0.01210022, -0.09100342, -0.028533936, 0.014564514, 0.0048065186, -0.0073051453, -0.027801514, -0.0015535355, 0.00843811, 0.029953003, 0.009757996, -0.011421204, -0.02772522, 0.021133423, -0.039855957, 0.030883789, -0.016296387, -0.009757996, -0.03564453, 0.028701782, -0.02406311, -0.059753418, -0.091796875, -0.030426025, -0.070739746, 0.032318115, -0.031311035, 0.0014944077, 0.014160156, 0.0115356445, 0.014671326, -0.042297363, 0.088012695, -0.011665344, 0.05709839, 0.026626587, 0.033111572, -0.030258179, -0.011100769, -0.021591187, -0.008590698, -9.381771e-05, -0.06201172, -0.013931274, 0.029953003, 0.007827759, 0.028182983, -0.046142578, 0.03817749, -0.05609131, -0.035461426, -0.0149383545, 0.0005750656, 0.0619812, -0.015640259, -0.0635376, -0.025039673, -0.029754639, -0.033996582, 0.042297363, -0.067993164, 0.03012085, 0.0073013306, 0.05142212, -0.014450073, -0.055023193, 0.07092285, -0.009780884, -0.006778717, -0.03656006, -0.02268982, -0.023162842, -0.010948181, -0.0146484375, -0.0063591003, 0.007133484, 0.022720337, -0.028320312, 0.016952515, -0.020339966, 0.02432251, 0.011230469, -0.0115356445, 0.0030021667, 0.003396988, -0.018157959, 0.014427185, 0.01146698, 0.037139893, -0.01398468, 0.07672119, 0.061553955, 0.03668213, 0.009223938, -0.024551392, 0.005130768, -0.04119873, -0.045043945, -0.02168274, -0.05886841, -0.02810669], [0.006729126, 0.036743164, -0.17285156, -0.0002462864, 0.040161133, -0.0093688965, -0.018539429, 0.01927185, 0.0026836395, -0.010864258, -0.042663574, -0.023864746, 0.07183838, 0.016403198, -0.03164673, -0.066589355, 0.031143188, -0.0413208, 0.011505127, 0.044525146, -0.049926758, -0.031280518, -0.026382446, -0.03994751, 0.048217773, -0.02079773, -0.011375427, -0.009269714, -0.04714966, -0.032684326, 0.018615723, -0.011520386, 0.045837402, -0.060333252, -0.047698975, -0.041229248, 0.08129883, 0.025650024, -0.0647583, 0.011131287, -0.01965332, 0.053222656, 0.0025863647, -0.06640625, 0.07067871, -0.023101807, 0.030914307, -0.0088272095, 0.07305908, -0.04751587, 0.06262207, -0.032989502, 0.027862549, -0.010787964, 0.07366943, 0.04815674, -0.021697998, 0.007083893, 0.045562744, 0.0118637085, 0.055908203, 0.03942871, -0.04345703, 0.084106445, 0.06976318, -0.042938232, -0.033355713, 0.048919678, -0.03036499, -0.044647217, 0.011062622, -0.0027713776, 0.06274414, 0.043518066, -0.061798096, 0.034332275, 0.0021305084, 0.023132324, 0.007972717, 0.020477295, 0.049804688, -0.05142212, 0.02017212, -0.018173218, 0.05014038, -0.0034866333, -0.03366089, 0.02619934, -0.042877197, 0.08325195, -0.0068855286, 0.017684937, 0.0071640015, 0.028533936, -0.094177246, 0.014022827, -0.044952393, 0.0061416626, -0.0014619827, -0.033416748, -0.050689697, 0.021026611, -0.014656067, -0.06390381, 0.057525635, 0.031341553, -0.023742676, -0.0057296753, -0.015701294, -0.01309967, -0.011054993, 0.01449585, -0.036132812, 0.012611389, 0.0099105835, -0.07672119, 0.08441162, -0.019622803, 0.037719727, 0.0052986145, -0.0032539368, -0.078552246, 0.022613525, 0.037597656, 0.009124756, 0.011238098, 0.026367188, 0.011291504, -0.0115356445, -0.05532837, -0.017288208, -0.0043029785, -0.021713257, -0.014770508, 0.017364502, 0.030944824, -0.07495117, -0.02130127, 0.024902344, 0.038848877, 0.054992676, 0.0064353943, -0.027404785, -0.04852295, -0.0027389526, -0.061706543, 0.017227173, -0.040863037, -0.018569946, 0.03881836, 0.05340576, 0.028717041, 0.0051345825, 0.003025055, 0.006614685, -0.0095825195, 0.010765076, -0.026977539, 0.027618408, 0.00053977966, 0.080200195, -0.023254395, -0.0011672974, 0.049682617, -0.02154541, -0.021087646, 0.042266846, 0.001666069, 0.06048584, 0.040161133, -0.029663086, -0.03375244, 0.00017595291, 0.021499634, 0.054748535, 0.009857178, 0.045288086, -0.0715332, -0.0030822754, -0.019836426, 0.014167786, -0.0473938, 0.027694702, -0.0026512146, -0.0034275055, 0.009979248, -0.011184692, -0.046813965, -0.003929138, -0.0871582, -0.0023384094, -9.0420246e-05, -0.0053596497, -0.06463623, 0.001876831, -0.035461426, 0.008926392, -0.00012540817, 0.033843994, -0.010108948, -0.021408081, 0.028213501, -0.08276367, 0.018249512, -0.053833008, 0.058166504, -0.0077056885, 0.025253296, -0.014717102, -0.016067505, 0.070739746, 0.0049095154, -0.0059661865, 0.0056533813, -0.014099121, -0.027496338, -0.01335144, -0.01737976, -0.045410156, -0.0008401871, 0.025543213, 0.045654297, 0.012107849, -0.068359375, -0.009094238, 0.015975952, -0.029403687, 0.014320374, -0.026657104, 0.008117676, -0.024765015, -0.09033203, 0.033355713, -0.010322571, -0.0061302185, 0.010375977, -0.0036182404, 0.046875, -0.028961182, 0.04864502, 0.025909424, -0.05130005, 0.024383545, -0.015731812, -0.06500244, 0.035308838, 0.038391113, -0.016174316, 0.0064849854, 0.073913574, -0.027893066, 0.009643555, 0.0047836304, -0.0047683716, 0.01461792, -0.026947021, -0.0061073303, 0.01713562, 0.0040245056, -0.03250122, 0.015975952, -0.0010480881, 0.07128906, 0.009933472, -0.0077285767, -0.084472656, 0.016647339, 0.019088745, 0.015113831, -0.020355225, -0.018615723, 0.040252686, 0.021484375, 0.02670288, 0.023071289, 0.039916992, 0.00014805794, -0.04058838, 0.009170532, 0.05255127, -0.016098022, -0.03768921, -0.051940918, -0.0032806396, 0.0057678223, 0.025314331, 0.01159668, -0.0068740845, -0.032989502, -0.014099121, 0.012550354, -0.01852417, 0.01247406, 0.0036258698, -0.008323669, 0.005268097, 0.09051514, -0.02545166, 0.0068511963, -0.011909485, 0.012046814, 0.044189453, 0.07836914, 0.04663086, 0.016708374, 0.005958557, 0.0066833496, -0.030700684, 0.023605347, 0.004047394, -0.024291992, 0.009384155, -0.030532837, 0.044708252, -0.101257324, 0.06866455, 0.06365967, 0.006134033, 0.02104187, 0.023162842, -0.023651123, -0.009529114, -0.027359009, -0.03744507, 0.015472412, 0.05053711, -0.005218506, -0.0020160675, -0.016601562, -0.026809692, -0.00289917, 0.0848999, 0.0019245148, -0.016052246, -0.007041931, -0.034576416, -0.0524292, -0.046142578, -0.014411926, 0.010055542, 0.087646484, -0.029800415, 0.045562744, -0.058654785, -0.04638672, 0.0043754578, 0.015174866, -0.03741455, 0.026657104, 0.0056533813, -0.04498291, 0.033294678, -0.021484375, 0.01651001, 0.0062026978, -0.036621094, 0.003124237, 0.01864624, 0.0060310364, 0.04360962, 0.05621338, 0.009361267, 0.004016876, -0.070251465, 0.011352539, 0.024871826, 0.05206299, -0.013595581, 0.048858643, 0.009002686, -0.02658081, 0.022064209, -0.003868103, 0.051330566, 0.031707764, 0.0063667297, -0.06719971, -0.044525146, -0.050628662, 0.028152466, 0.039978027, 0.015777588, -0.058380127, 0.03237915, 0.01309967, 0.018051147, 0.012512207, -0.027282715, 0.0013456345, -0.019500732, -0.011512756, -0.022857666, -0.06542969, 0.027130127, 0.02142334, 0.0103302, 0.063964844, 0.0066223145, 0.0473938, 0.031402588, -0.02432251, -0.10028076, 0.01512146, -0.021453857, 0.015159607, 0.057739258, -0.04269409, -0.056671143, 0.027694702, -0.010681152, 0.01876831, 0.057556152, 5.6266785e-05, 0.017105103, 0.03201294, -0.009315491, 0.07366943, 0.030914307, -0.04473877, 0.04248047, 0.011581421, 0.050628662, 0.008972168, 0.023239136, 0.030548096, 0.017318726, 0.01727295, 0.06109619, -0.010238647, -0.106933594, -0.029067993, 0.05505371, 0.02772522, -0.007850647, -0.04385376, -0.011238098, 0.022613525, 0.05984497, -0.006111145, 0.06561279, 0.024032593, -0.048461914, -0.01612854, -0.022399902, 0.04269409, 0.099975586, 0.05432129, -0.005970001, -0.08569336, 0.021606445, -0.041168213, 0.054138184, 0.0032176971, 0.018249512, 0.08135986, -0.014266968, 0.022644043, -0.003112793, 0.023834229, 0.044647217, 0.020462036, 0.00655365, -0.03579712, 0.033294678, 0.026916504, -0.033599854, 0.02456665, 0.007637024, 0.0041542053, 0.07543945, -0.01309967, 0.014801025, -0.019958496, 0.0074768066, -0.005340576, -0.023849487, 0.003446579, -0.019378662, 0.01953125, 0.0309906, 0.03189087, -0.012886047, -0.020095825, -0.084472656, 0.009887695, 0.019317627, 0.0256958, -0.044830322, 0.015197754, -0.016525269, 0.03881836, 0.027893066, -0.0012779236, -0.0236969, -0.043060303, -0.038879395, -0.023727417, 0.008743286, 0.0022296906, 0.0039863586, 0.029190063, 0.03817749, -0.045043945, -0.025772095, 0.02229309, -0.016189575, -0.0073013306, -0.09082031, -0.0017528534, 0.004776001, 0.007507324, 0.0028095245, -0.014198303, 0.03225708, 0.015533447, -0.041290283, 0.066589355, 0.007980347, -0.05908203, 0.040893555, 0.028900146, 0.01285553, -0.036468506, -0.020553589, -0.06488037, 0.012908936, 0.0118637085, -0.015731812, 0.009010315, 0.02166748, 0.010848999, 0.043273926, -0.028045654, -0.0023078918, 0.01424408, -0.041503906, -0.053710938, 0.0046195984, 0.0033512115, -0.0032653809, -0.029067993, 0.03643799, 0.00073719025, -0.012634277, 0.03302002, 0.026062012, 0.0104599, 0.0058403015, 0.027862549, -0.03475952, 0.026153564, -0.062164307, 0.007835388, -0.039642334, 0.025909424, -0.058410645, -0.041992188, -0.011428833, 0.010215759, -0.023849487, 0.013305664, 0.002122879, 0.049804688, 0.011871338, -0.014228821, -0.022262573, 0.025024414, -0.00749588, -0.0005106926, 0.029510498, -0.006614685, -0.061309814, 0.03933716, -0.012786865, -0.020233154, 0.016464233, 0.016235352, 0.029907227, -0.036102295, 0.00844574, 0.019699097, -0.06072998, 0.008171082, 0.006790161, -0.008460999, 0.0065612793, -0.06414795, -0.06121826, 0.044647217, -0.04815674, -0.003627777, 0.027496338, -0.0031433105, 0.021224976, -0.034454346, 0.02772522, -0.02822876, -0.020004272, 0.012802124, -0.0390625, -0.0032615662, 0.02130127, 0.017562866, -0.0051574707, -0.010787964, 0.05142212, 0.011642456, 0.02255249, -0.006641388, -0.047058105, -0.004085541, 0.014076233, -0.027359009, -0.00258255, 0.041778564, -0.022705078, -0.012908936, -0.03744507, -0.009651184, -0.042755127, -0.010734558, -0.069885254, 0.05279541, -0.004852295, -0.01083374, 0.034057617, -0.055664062, -0.035369873, -0.0070266724, 0.049072266, -0.066101074, 0.0072364807, -0.06817627, -0.009933472, -0.06549072, 0.049072266, -0.060394287, 0.039764404, 0.0056610107, 0.012229919, 0.02420044, -0.016555786, -0.0068588257, 0.018722534, 0.05999756, -0.0031909943, 0.03555298, 0.045410156, 0.01374054, -0.03289795, 0.04159546, 0.076293945, -0.024536133, -0.014541626, 0.013832092, 0.009376526, -0.0021839142, -0.032318115, -0.045898438, -0.011177063, -0.014831543, 0.014968872, -0.028030396, -0.008972168, 0.020904541, -0.021835327, -0.00447464, 0.0037937164, -0.06378174, -0.031143188, 0.009979248, -0.021774292, -0.0006227493, -0.018447876, 0.032836914, 0.013137817, 0.046325684, 0.03274536, -0.008735657, 0.0018043518, -0.004764557, -0.013282776, 0.02848816, -0.022583008, -0.026062012, -0.004852295, 0.07159424, -0.03753662, -0.027404785, -0.099365234, -0.0037403107, -0.03744507, 0.02947998, -0.01739502, 0.013771057, -0.013442993, -0.0016374588, 0.031463623, -0.06719971, 0.06774902, 0.0031833649, 0.041992188, 0.01625061, 0.08959961, 0.006881714, -0.023605347, -0.0071029663, 0.0015792847, 0.007007599, -0.038513184, -0.019073486, 0.036254883, 0.016601562, 0.046569824, -0.035980225, 0.028900146, -0.049987793, 0.0042304993, -6.699562e-05, -0.03201294, 0.0814209, -0.025939941, -0.043884277, 0.014137268, 0.006515503, -0.009521484, 0.061340332, -0.028778076, -0.011505127, -0.00093460083, 0.010856628, -0.038146973, -0.042144775, 0.06945801, -0.017166138, -0.04458618, -0.03567505, -0.022155762, -0.015426636, -0.027236938, -0.019302368, -0.008293152, 0.0011863708, 0.03012085, -0.052978516, -0.025817871, -0.05154419, 0.005088806, 0.017837524, 0.020553589, -0.0035362244, -0.0087509155, -0.017791748, -0.02619934, 0.012886047, 0.01713562, -0.020080566, 0.055603027, 0.08062744, 0.017211914, -0.016220093, -0.042297363, 0.013160706, -0.026779175, -0.03765869, -0.028411865, -0.06549072, -0.012680054], [-0.00024533272, -0.010192871, -0.16052246, -0.06414795, 0.09515381, -0.07080078, 0.015350342, -0.0018062592, 0.010856628, -0.053619385, -0.037506104, 0.051605225, 0.10266113, 0.02558899, 0.019943237, -0.022125244, -0.003709793, -0.030792236, 0.010398865, -0.0035743713, -0.025863647, -0.051116943, -0.016571045, -0.01713562, 0.03164673, -0.0017757416, 0.0143585205, 0.021087646, -0.0418396, 0.012756348, 0.037719727, -0.008811951, 0.035858154, -0.084350586, -0.08880615, -0.047180176, 0.04425049, -0.020568848, -0.04348755, 0.024902344, 0.038726807, 0.019577026, -0.02230835, -0.040802002, 0.053100586, -0.024627686, 0.042144775, 0.024047852, 0.028411865, -0.013320923, 0.013381958, -0.044677734, -0.0065078735, -0.005607605, 0.092041016, 0.0463562, -0.02470398, 0.061157227, 0.080444336, -0.061645508, 0.06964111, 0.020980835, -0.033081055, 0.066467285, 0.040222168, -0.009712219, -0.030517578, 0.056854248, -0.0158844, 0.011299133, 0.009002686, -0.0049552917, 0.05807495, -0.000641346, 0.0154953, 0.07196045, 0.0014915466, -0.037628174, -0.0055885315, 0.04043579, 0.020629883, -0.029418945, 0.041290283, -0.045837402, 0.015525818, 0.051818848, -0.014305115, -0.013587952, -0.041748047, 0.05807495, 0.019348145, -0.0019569397, 0.06137085, 0.011199951, -0.103637695, 0.030685425, -0.04623413, -0.0050582886, -0.00012505054, -0.06591797, -0.054351807, -0.015045166, -0.022628784, -0.045410156, 0.040405273, 0.048980713, -0.019546509, -0.01663208, 0.00034713745, 0.009506226, -0.08605957, 0.0061950684, -0.02281189, 0.02281189, -0.004436493, -0.052978516, 0.087402344, -0.05038452, 0.03161621, 0.023147583, 0.015625, -0.020721436, 0.03302002, 0.013343811, 0.07281494, 0.043762207, -0.017700195, 0.0099105835, -0.0044441223, -0.041900635, -0.0015182495, -0.0262146, -0.029281616, 0.0048179626, 0.020233154, 0.059783936, -0.032836914, -0.025909424, 0.04736328, 0.017181396, 0.018218994, -0.016143799, -0.03010559, -0.014595032, -0.004383087, -0.02418518, 0.04220581, -0.028945923, 0.0035820007, -0.005142212, 0.036224365, 0.032440186, -0.009239197, 0.031036377, 0.039001465, -0.006626129, 0.029510498, -0.009284973, 0.028182983, -0.018844604, 0.044799805, -0.04196167, -0.031036377, 0.035491943, -0.054229736, -0.055145264, 0.056274414, 0.020462036, 0.023406982, 0.013893127, -0.024047852, -0.032592773, -0.030700684, 0.033355713, 0.042266846, 0.01474762, 0.03881836, -0.022369385, 0.055267334, -0.029586792, 0.029846191, -0.056762695, 0.05316162, -0.039245605, 0.023117065, -0.015792847, -0.00057315826, -0.012359619, -0.03048706, -0.078308105, -0.048583984, 0.020889282, -0.024658203, -0.057525635, -0.02607727, -0.048797607, 0.028045654, -0.0093688965, 0.050872803, -0.03982544, -0.0066375732, 0.0118637085, -0.03668213, 0.031036377, -0.05770874, 0.028778076, -0.022567749, 0.04046631, -0.054534912, -0.015411377, 0.08337402, 0.0078048706, -0.026443481, -0.005584717, -0.049224854, 0.020004272, 0.007003784, -0.020385742, -0.00013124943, 0.025772095, 0.033111572, 0.0049324036, 0.035827637, -0.028121948, 0.015525818, 0.014060974, -0.050598145, 0.03100586, -0.06359863, 0.03527832, -0.011390686, -0.054779053, 0.004119873, 0.017364502, -0.002746582, 0.007820129, 0.004764557, 0.051574707, 0.012184143, -0.029785156, 0.0033340454, 0.024993896, 0.0040664673, -0.009933472, -0.045074463, -0.003206253, -0.0052833557, -0.011810303, -0.006099701, 0.080444336, 0.01020813, -0.017654419, -0.010017395, 1.4424324e-05, 0.01524353, -0.043426514, -0.024902344, 0.023757935, 0.007789612, -0.03768921, -0.019622803, 0.0065689087, 0.050445557, -0.011779785, -0.048187256, -0.08709717, 0.015853882, 0.02748108, -0.02180481, -0.026931763, -0.023376465, 0.002368927, 0.017837524, 0.046081543, 0.035705566, 0.0042381287, -0.014945984, -0.019195557, 0.0010080338, 0.02722168, -0.014923096, -0.033325195, -0.055511475, -0.02079773, -0.0138168335, 0.005138397, 0.044433594, 0.015045166, -0.029632568, 0.026260376, 0.0211792, 0.036193848, -0.010940552, -0.006668091, -0.058410645, 0.008117676, 0.073913574, -0.01222229, 0.0025901794, -0.01348114, -3.3438206e-05, 0.029586792, 0.035125732, 0.019226074, 0.017150879, -0.007133484, -0.011932373, -0.0051727295, 0.024932861, 0.025131226, -0.044281006, 0.013572693, -0.039367676, 0.022949219, -0.060638428, 0.06939697, 0.009651184, 0.025985718, 0.031951904, -0.022018433, -0.0446167, -0.029907227, 0.007133484, -0.047668457, 0.006248474, 0.014060974, 0.0073776245, 0.01335907, -0.044067383, -0.021896362, 0.028137207, 0.04537964, 0.0023212433, -0.038482666, -0.010307312, -0.031341553, -0.06512451, -0.027648926, 0.027862549, 0.042419434, 0.05633545, -0.033447266, 0.010284424, -0.026687622, 0.011482239, 0.010398865, -0.059570312, -0.032440186, 0.01675415, -0.018920898, -0.06976318, 0.055389404, -0.025177002, 0.00037884712, 0.001750946, -0.022232056, 0.019760132, 0.040008545, -0.010414124, 0.019226074, 0.027359009, -0.009963989, -0.009178162, -0.051940918, 0.008682251, 0.045013428, 0.024398804, 0.036712646, 0.047180176, -0.004875183, 0.032592773, -0.027709961, -0.003692627, 0.07287598, -0.004508972, 0.031402588, -0.07098389, -0.023468018, -0.04284668, 0.038360596, 0.026672363, 0.016189575, 0.0038051605, 0.00843811, 0.030944824, -0.017425537, 0.014007568, -0.021209717, -0.00484848, 0.04837036, -0.032592773, -0.036010742, -0.056152344, 0.004837036, 0.036132812, 0.029449463, 0.061157227, 0.03213501, 0.019226074, 0.040222168, -0.0446167, -0.054779053, -0.008590698, -0.028244019, 0.043792725, 0.029541016, -0.04827881, -0.055023193, 0.037628174, 0.009292603, 0.008110046, 0.04650879, -0.025405884, -0.06463623, 0.008865356, -0.012252808, 0.070617676, 0.04156494, -0.049804688, -0.0059394836, 0.034851074, 0.06097412, -0.011817932, 0.0181427, -0.0065231323, 0.026428223, 0.038635254, 0.057525635, 0.006816864, -0.06652832, -0.017745972, 0.052886963, 0.02758789, -0.006389618, -0.04748535, -0.02331543, -0.005580902, 0.051116943, 0.02003479, 0.03829956, 0.037902832, -0.07287598, -0.023147583, -0.040283203, -0.004184723, 0.11218262, 0.048553467, 0.013046265, -0.08270264, 0.0029964447, -0.057647705, 0.027755737, 0.0009050369, -0.016616821, 0.06744385, -0.031097412, 0.03326416, 0.034729004, 0.0057640076, 0.0209198, 0.0121536255, 0.011558533, -0.050109863, 0.04244995, -0.0039043427, -0.030532837, 0.036865234, -0.010383606, -8.714199e-05, 0.051605225, -0.0032234192, 0.00022518635, 0.03488159, 0.034851074, 0.027389526, -0.027145386, -0.009284973, 0.020828247, 0.058013916, 0.03262329, 0.014190674, 0.0027198792, -0.05432129, -0.046905518, 0.016723633, 0.03677368, 0.03942871, -0.014083862, 0.0026988983, 0.008659363, 0.052215576, 0.06021118, -0.0006594658, 0.014778137, -0.022476196, -0.041503906, -0.05117798, 0.0061531067, -0.013465881, 0.0028839111, 0.03579712, 0.026870728, -0.04434204, 0.006187439, -0.018859863, -0.021972656, 0.0024547577, -0.076293945, -0.008529663, 0.0038204193, -0.031829834, -0.0019321442, 0.00573349, 0.05899048, 0.040771484, -0.059326172, 0.010482788, -0.0026130676, -0.04888916, 0.09197998, -0.02330017, -0.023162842, 0.01259613, -0.02746582, -0.09124756, 0.0076408386, 0.026687622, -0.04486084, 0.036315918, 0.00566864, -0.015701294, 0.051574707, -0.04776001, 0.022125244, 0.035064697, -0.047180176, -0.007511139, 0.04876709, 0.012329102, 0.048431396, 0.024780273, 0.0030460358, -0.019760132, 0.022384644, 0.035614014, -0.014328003, 0.004272461, 0.009773254, 0.015472412, -0.045166016, 7.939339e-05, -0.008293152, -0.020050049, -0.00034856796, 0.025115967, -0.047454834, -0.018798828, -0.009742737, 0.024398804, 0.022720337, 0.053131104, 0.019866943, 0.08850098, 0.014755249, 0.032073975, -0.040618896, -0.035003662, 0.039611816, 0.023986816, 0.033691406, 0.03741455, -0.10498047, -0.007507324, -0.00029826164, -0.014595032, -0.007698059, -0.026809692, -0.03704834, -0.042816162, -0.007461548, -0.02217102, -0.045318604, 0.013755798, 0.026885986, 0.012145996, 0.024871826, -0.049041748, -0.05078125, 0.035858154, -0.0013113022, -0.046325684, 0.003873825, 0.004558563, 0.0015029907, 0.0079193115, 0.05996704, -0.043395996, -0.027404785, 0.018951416, 0.0062179565, -0.010902405, 0.013305664, 0.014816284, -0.03125, -0.016357422, 0.029418945, 0.00031161308, 0.0017261505, 0.022125244, -0.05178833, 0.033569336, 0.00484848, 0.018707275, -0.0029449463, 0.03652954, 0.012428284, 0.02230835, -0.032440186, -0.053833008, -0.04144287, -0.0206604, -0.08166504, 0.044952393, -0.027786255, 0.030578613, 0.028411865, -0.044158936, -0.029266357, 0.014678955, 0.055664062, -0.03488159, 0.009811401, -0.09350586, -0.059692383, -0.022018433, 0.014411926, -0.051483154, -0.013809204, 0.055145264, 0.07910156, 0.064819336, -0.0008044243, -0.009803772, 0.04006958, 0.036071777, -0.03878784, -0.022994995, 0.031982422, 0.0013132095, -0.0030784607, 0.058013916, 0.09051514, -0.007446289, -0.005844116, 0.0135269165, 0.0040245056, -0.015045166, 0.0076904297, -0.044708252, -0.047058105, -0.003004074, -0.019470215, -0.015144348, 0.0037021637, 0.022567749, 0.015106201, -0.018356323, -0.018051147, -0.04107666, -0.045715332, -0.013320923, -0.002117157, 0.023010254, -0.0051841736, 0.029922485, 0.012008667, 0.024291992, 0.037628174, -0.004623413, -0.023117065, -0.006198883, 0.009750366, 0.0019187927, -0.0317688, -0.008033752, -0.015174866, 0.015319824, -0.040924072, -0.07147217, -0.036315918, 0.008399963, -0.009971619, 0.0016126633, -0.0011482239, -0.019638062, -0.025680542, 0.0002411604, 0.02861023, -0.021316528, 0.086120605, -0.0015745163, 0.042816162, -0.005126953, 0.08123779, 0.03869629, -0.011161804, -0.019042969, -0.0093307495, -0.009223938, -0.022125244, -0.050872803, 0.06341553, 0.00198555, 0.06817627, -0.02394104, 0.06304932, -0.012329102, -0.038116455, -0.0053215027, -0.0066108704, 0.052520752, 0.0012340546, -0.047973633, 0.017654419, -0.017364502, -0.019622803, 0.051086426, -0.033477783, -0.033050537, 0.019088745, -0.0027713776, -0.037628174, -0.057525635, 0.044067383, -0.03543091, -0.014831543, -0.014945984, -0.014930725, -0.04675293, -0.021911621, -0.032592773, 0.0063667297, -0.019973755, 0.021911621, 0.0129470825, -0.022033691, -0.043151855, 0.036010742, -0.005508423, -0.0135269165, -0.007160187, -0.029846191, -0.034698486, 0.019088745, -0.012321472, 0.00061941147, -0.022094727, -0.00970459, 0.09698486, 0.012924194, 0.019729614, -0.03439331, 0.016952515, 0.004436493, -0.07330322, -0.041259766, -0.06665039, -0.02267456], [-0.00944519, 0.0413208, -0.15185547, -0.027023315, 0.052093506, -0.027770996, -0.033416748, -0.00573349, 0.010475159, -0.012512207, -0.049926758, 0.01737976, 0.04977417, 0.0031204224, -0.012107849, -0.051971436, 0.04812622, -0.03353882, 0.010063171, 0.021255493, -0.027832031, -0.046783447, 0.003736496, -0.030441284, 0.091430664, 0.00049829483, -0.005207062, -0.014701843, -0.05392456, -0.022583008, -0.013786316, 0.01576233, 0.022354126, -0.059631348, -0.060638428, -0.024978638, 0.09680176, 0.0143585205, -0.051208496, 0.03189087, -0.012397766, 0.035369873, 0.005290985, -0.067871094, 0.05706787, -0.037109375, 0.037750244, -0.0011501312, 0.06506348, -0.048858643, 0.027404785, 8.8751316e-05, 0.0013580322, -0.00059080124, 0.08728027, 0.07623291, -0.0029144287, -0.0048332214, 0.056518555, -0.01335144, 0.051361084, 0.031555176, -0.04586792, 0.08508301, 0.055755615, -0.04901123, -0.034942627, 0.0758667, -0.034576416, -0.046417236, 0.0056266785, 0.0027122498, 0.07623291, 0.020492554, -0.054748535, 0.04977417, -0.004032135, 0.009727478, 0.009010315, 0.038391113, 0.033447266, -0.0076789856, 0.022079468, -0.025360107, 0.01979065, -0.0007343292, -0.039764404, 0.040039062, -0.051727295, 0.07055664, 0.014266968, 0.0033569336, 0.02079773, 0.027114868, -0.09503174, 0.0413208, -0.021499634, 0.0054359436, -0.024642944, -0.07122803, -0.02394104, 0.01586914, -0.020126343, -0.04928589, 0.06451416, 0.023727417, -0.00024354458, 0.0066223145, -0.0138168335, 0.012054443, -0.025650024, 0.017929077, -0.04550171, 0.012145996, 0.00019872189, -0.085632324, 0.060516357, -0.031097412, 0.041900635, 0.02859497, 0.0146102905, -0.023880005, 0.0023822784, 0.04071045, 0.036499023, 0.034820557, -0.006587982, -0.008079529, -0.023880005, -0.05038452, -0.01222229, -0.001373291, -0.01852417, -4.1663647e-05, 0.021865845, 0.02104187, -0.094055176, -0.011520386, 0.031280518, -0.00819397, 0.053894043, 0.0026607513, -0.0071525574, -0.025115967, -0.012466431, -0.076660156, 0.021408081, -0.00844574, -0.0129470825, 0.019317627, 0.03677368, 0.026046753, -0.008674622, 0.023422241, 0.028839111, 0.0033855438, -0.009521484, -0.03552246, 0.05404663, -0.010635376, 0.057495117, -0.052124023, -0.0074882507, 0.060394287, -0.025344849, -0.03616333, 0.078125, -0.008415222, 0.027633667, 0.041168213, -0.041229248, -0.05404663, -0.010192871, 0.019241333, 0.053588867, 0.012008667, 0.009475708, -0.055633545, 0.014221191, -0.006664276, 0.026351929, -0.065979004, 0.044128418, 0.017654419, 0.008651733, 0.011177063, -0.033111572, -0.04449463, -0.017944336, -0.08093262, 0.0054740906, 0.028137207, -0.0041770935, -0.062347412, -0.014945984, -0.049224854, 0.0012998581, -0.03189087, 0.03378296, -0.049804688, 0.006515503, 0.017471313, -0.06390381, 0.015151978, -0.037750244, 0.008140564, -0.03353882, 0.009300232, -0.007522583, -0.027709961, 0.091308594, 0.0046195984, -0.017242432, 0.009033203, -0.0093307495, -0.0178833, 0.01146698, 0.0062179565, 0.00083351135, -0.0037517548, 0.03894043, 0.047088623, 0.032928467, -0.046081543, -0.001540184, 0.01576233, -0.04953003, 0.0021572113, -0.05368042, 0.004764557, -0.017089844, -0.09655762, 0.022247314, -0.016098022, 0.01512146, 0.0151901245, 0.024276733, 0.062683105, -0.026046753, 0.02368164, 0.00579834, -0.0064697266, -0.008872986, 0.016189575, -0.049224854, 0.023086548, 0.02053833, -0.011291504, 0.0050086975, 0.06732178, -0.013023376, 0.0009870529, 0.01737976, 0.0040397644, 0.018493652, -0.04232788, 0.024810791, 0.004714966, 0.023422241, -0.05255127, 0.006286621, -0.0024280548, 0.061431885, -0.001332283, -0.020370483, -0.082214355, 0.055419922, -0.0072135925, 0.006046295, -0.01499939, -0.010131836, 0.041412354, 0.011756897, 0.046722412, -0.0020771027, 0.05493164, 0.0014801025, -0.043945312, 0.0031356812, 0.034088135, -0.0062179565, -0.033477783, -0.051971436, -0.006668091, 0.021835327, 0.012786865, 0.026229858, -0.022506714, -0.0031757355, -0.005558014, 0.03475952, -0.005168915, 0.0074691772, 0.023025513, -0.015731812, 0.0138549805, 0.0647583, -0.020370483, 0.04660034, 0.0070266724, 0.030838013, 0.04663086, 0.059326172, 0.047576904, 0.030426025, -0.020614624, 0.0075950623, -0.019729614, 0.03149414, 0.015457153, -0.044067383, 0.021133423, -0.020324707, 0.026367188, -0.07928467, 0.08135986, 0.031555176, 0.026062012, 0.023727417, -0.004989624, -0.032989502, -0.019683838, 0.0021476746, -0.02696228, 0.007385254, 0.049865723, -0.030593872, -0.007095337, -0.026245117, -0.011924744, 0.011367798, 0.05105591, 0.017227173, -0.043640137, -0.022109985, -0.01713562, -0.041900635, -0.03439331, 0.0031337738, 0.040283203, 0.06665039, -0.040252686, 0.039031982, -0.046051025, -0.039123535, -0.0027751923, -0.011001587, -0.024108887, 0.030197144, 0.015060425, -0.046783447, 0.04675293, -0.021896362, 0.022079468, 0.011024475, -0.037078857, 0.031951904, 0.021484375, -0.0068740845, 0.014328003, 0.059448242, -0.0017461777, 0.024124146, -0.061676025, 0.015457153, 0.05404663, 0.066833496, -0.010620117, 0.049957275, -0.006755829, 0.00944519, -0.013633728, -0.0035362244, 0.023956299, 0.016326904, -0.00093603134, -0.07635498, -0.046783447, -0.06365967, 0.0289917, 0.03475952, 0.025360107, -0.03463745, 0.047302246, 0.01928711, 0.022201538, 0.014038086, -0.007850647, -0.0028858185, 0.0014600754, -0.013023376, -0.020751953, -0.07537842, 0.028305054, 0.055755615, 0.0010032654, 0.05206299, 0.026565552, 0.023422241, 0.034332275, -0.038848877, -0.08453369, 0.017059326, -0.023880005, -0.016220093, 0.049468994, -0.035095215, -0.031173706, 0.03189087, -0.009338379, 0.0013303757, 0.03100586, -0.005428314, 0.0012483597, 0.0048332214, -0.041168213, 0.06555176, 0.042816162, -0.060180664, 0.015823364, 0.0146102905, 0.047088623, -0.004573822, 0.0151901245, 0.03173828, 0.013763428, 0.014694214, 0.06561279, 0.006538391, -0.110839844, -0.052337646, 0.036987305, 0.03643799, -0.001405716, -0.052215576, -0.007926941, 0.049713135, 0.048797607, -0.013397217, 0.06072998, 0.045196533, -0.027160645, -0.037078857, -0.0368042, 0.03213501, 0.10546875, 0.07110596, -0.019729614, -0.068603516, 0.007019043, -0.059539795, 0.044311523, -0.0287323, 0.015945435, 0.05456543, -0.025360107, 0.033843994, 0.0031375885, -0.0021190643, 0.03491211, 0.0016965866, 0.002456665, -0.042114258, 0.019866943, 0.0138549805, -0.024734497, 0.013427734, 0.0025196075, -0.0028572083, 0.07910156, -0.017089844, 0.031234741, 0.013160706, 0.0158844, 0.02394104, -0.030044556, -0.009254456, 0.007511139, 0.024810791, 0.025604248, 0.035583496, -0.030883789, -0.022857666, -0.0848999, 0.0118255615, -0.006755829, 0.011886597, -0.024108887, 0.018295288, -0.023849487, 0.028198242, 0.043426514, -0.020935059, 0.009849548, -0.050872803, -0.04248047, -0.039398193, 0.03024292, 0.031402588, 0.022598267, 0.032928467, 0.041900635, -0.03286743, -0.012969971, 0.0023612976, -0.01272583, 0.010475159, -0.09643555, -0.006164551, 0.014152527, -0.0034999847, 0.024475098, -0.007701874, 0.023101807, 0.033569336, -0.03366089, 0.039398193, -0.010566711, -0.099487305, 0.021835327, 0.017410278, -0.0050621033, -0.010658264, -0.026794434, -0.05014038, 0.020187378, 0.012840271, -0.034820557, 0.0019016266, 0.018737793, 0.008110046, 0.030456543, -0.033203125, 0.006713867, 0.029968262, -0.06878662, -0.041412354, 0.032989502, -0.00019645691, 0.012435913, 0.01600647, 0.02041626, 0.000992775, -0.004760742, 0.011497498, 0.0289917, -0.020080566, 0.016433716, 0.024978638, -0.0602417, 0.029083252, -0.037231445, -0.021102905, -0.010772705, 0.017868042, -0.05722046, -0.03955078, -0.0231781, 0.01890564, -0.044281006, 0.002752304, 0.0032577515, 0.07861328, 0.028076172, -0.012519836, -0.029525757, -0.025985718, -0.00945282, 0.008674622, 0.035736084, -0.015899658, -0.06329346, 0.033172607, 0.008842468, 0.015304565, -4.9829483e-05, 0.0030879974, -0.025268555, -0.03050232, 0.0069389343, 0.006511688, -0.048217773, 0.007575989, 0.035858154, 0.0019664764, 0.008308411, -0.036621094, -0.04449463, 0.04827881, -0.030319214, -0.022613525, 0.0073776245, 0.0022678375, -0.0072135925, -0.0059165955, 0.044525146, -0.032684326, -0.01651001, -0.007446289, -0.035125732, 0.0048980713, 0.0046539307, 0.05279541, -0.01651001, -0.025405884, 0.06414795, -0.008399963, 0.015182495, -0.01663208, -0.044067383, -0.009788513, 0.007686615, 0.019683838, 0.02192688, 0.045013428, -0.01737976, 0.031829834, -0.02168274, -0.038238525, -0.04437256, -0.023666382, -0.07171631, 0.04220581, -0.026168823, 0.008384705, 0.011314392, -0.03656006, -0.064697266, -0.0140686035, 0.06738281, -0.048797607, 0.028533936, -0.056274414, -0.055023193, -0.062469482, 0.03704834, -0.070617676, 0.025009155, 0.018630981, 0.047698975, 0.04083252, -0.027633667, -0.028930664, -0.0007491112, 0.03378296, -0.023757935, 0.035064697, 0.06390381, -0.02268982, -0.03567505, 0.059936523, 0.07281494, -0.019699097, -0.015838623, 0.0052261353, -0.0031871796, 0.02519226, -0.014160156, -0.06915283, -0.0019483566, -0.03164673, -0.006893158, -0.040374756, -0.0041503906, 0.011398315, -0.004322052, -0.014297485, 0.004081726, -0.07330322, -0.025634766, -0.00207901, -0.015609741, -0.016723633, -0.03842163, 0.022644043, 0.0020751953, 0.034057617, 0.02456665, -0.014419556, -0.004711151, 0.002653122, -0.0104599, 0.03353882, -0.021453857, -0.03111267, -0.0317688, 0.055511475, -0.025985718, -0.027145386, -0.059326172, -0.024902344, -0.014976501, 0.04385376, -0.040985107, 0.0044937134, -0.012062073, 0.006088257, 0.026062012, -0.044036865, 0.07647705, 0.012207031, 0.06939697, -0.002532959, 0.07281494, 0.0014305115, -0.01878357, -0.02684021, -0.002084732, 0.01159668, -0.04611206, -0.037506104, 0.06604004, 0.0036735535, 0.058654785, -0.010406494, 0.03378296, -0.07635498, -0.024520874, 0.0038337708, -0.014724731, 0.07543945, -0.021636963, -0.042266846, 0.015129089, -0.024047852, -0.030181885, 0.054992676, -0.04336548, 0.004676819, 0.027709961, 0.010688782, -0.026473999, -0.08502197, 0.07458496, -0.029174805, -0.034576416, -0.020019531, -0.05279541, -0.029022217, -0.03463745, -0.03451538, -0.007411957, 0.0014925003, 0.045410156, -0.01864624, -0.0025558472, -0.034179688, 0.026901245, 0.03265381, -0.0019550323, 0.0013780594, 0.028427124, -0.0005617142, 0.01234436, 0.005180359, 0.0021419525, -0.006996155, 0.048614502, 0.08117676, 0.027572632, -0.002916336, -0.007949829, -0.0044441223, -0.04248047, -0.036132812, -0.025405884, -0.059509277, -0.027618408], [-0.024490356, 0.019805908, -0.19458008, -0.041229248, 0.018447876, -0.040924072, -0.05706787, -0.0047416687, -0.018035889, 0.005039215, 0.012672424, 0.0058059692, 0.07647705, -0.003780365, -0.038513184, -0.044555664, 0.03955078, -0.0054740906, 0.0012693405, 0.05392456, -0.002500534, -0.038024902, 0.0059814453, -0.045898438, 0.036956787, -0.008476257, -0.008216858, -0.02520752, -0.0579834, -0.029800415, -0.00699234, -0.015419006, -0.052764893, -0.035339355, -0.030014038, -0.087402344, 0.053375244, 0.014579773, -0.054748535, 0.011978149, 0.025924683, 0.02973938, -0.032043457, -0.045654297, 0.051757812, -0.04135132, 0.01878357, 0.032562256, 0.07165527, -0.0803833, 0.027130127, 0.010681152, -0.0181427, -0.030197144, 0.05706787, 0.017974854, -0.009140015, 0.00472641, 0.0152282715, -0.042816162, 0.069885254, 0.06628418, -0.08856201, 0.094055176, 0.055847168, -0.033050537, -0.024368286, 0.028747559, 0.02432251, -0.058685303, -0.0018692017, 0.010513306, 0.07751465, 0.030532837, 0.015335083, -0.048614502, -0.049713135, 0.0181427, -0.015235901, 0.07165527, 0.07562256, -0.028167725, 0.05618286, 0.011108398, 0.024841309, -0.024368286, 0.017059326, 0.021316528, -0.09106445, 0.08428955, 0.020004272, 0.01158905, 0.00945282, 0.015838623, -0.115234375, 0.045654297, -0.038024902, 0.0058174133, -0.007926941, -0.032928467, -0.05606079, -0.012451172, 0.0178833, 0.0060272217, 0.013252258, 0.0026111603, -0.03390503, -0.012245178, -0.023712158, 0.017745972, -0.016860962, 0.03201294, -0.010269165, 0.0039253235, 0.020217896, -0.054229736, 0.06939697, -0.050231934, 0.037506104, 0.01260376, 0.010513306, 0.0031223297, -0.020690918, 0.052520752, -0.019973755, 0.05126953, -0.019592285, -0.009819031, -0.024780273, -0.025283813, -0.008857727, -0.019729614, 0.0030097961, 0.014533997, 0.03378296, 0.09362793, -0.05831909, 0.003604889, 0.014060974, 0.015205383, 0.0519104, -0.019958496, -0.016098022, -0.018554688, 0.02482605, -0.036895752, -0.013061523, -0.010429382, -0.049316406, 0.04925537, 0.0178833, -0.026916504, 0.032104492, 0.032684326, 0.050872803, -0.0141067505, -0.023513794, 0.021652222, 0.019592285, 0.010902405, 0.04147339, -0.03656006, -0.050354004, 0.061431885, -0.018218994, -0.039398193, 0.022079468, 0.054534912, 0.005908966, 0.057769775, -0.0513916, -0.025115967, -0.014640808, -0.0065689087, 0.049682617, -0.045135498, 0.048828125, -0.020904541, 0.052093506, -0.046966553, 0.027252197, -0.07354736, -0.021713257, -0.016357422, 0.0058784485, 0.005870819, -0.0042381287, -0.06945801, -0.016113281, -0.027709961, 0.014816284, 0.039398193, -0.034942627, -0.04660034, -0.07055664, -0.029037476, 0.05593872, -0.0074806213, -0.007434845, -0.04309082, -0.04031372, 0.011657715, -0.058929443, 0.0289917, -0.0143585205, 0.028533936, -0.031555176, 0.03086853, 0.01071167, -0.024383545, 0.063964844, -0.04360962, 0.014320374, -0.012901306, 0.02973938, -0.020431519, -0.003118515, -0.01977539, -0.011787415, 0.0009918213, 0.032196045, 0.033081055, -0.025970459, -0.006549835, -0.011245728, 0.006160736, -0.017608643, 0.016799927, -0.030014038, 0.01725769, -0.020385742, -0.089904785, 0.021530151, 0.015182495, 0.046722412, 0.011238098, -0.020233154, 0.059173584, 0.0129852295, 0.008766174, -0.0028209686, 0.018737793, 0.0074539185, -0.0032348633, -0.026779175, -0.013557434, 0.041931152, -0.0256958, 0.026657104, 0.07989502, -0.020874023, -0.013671875, 0.036254883, 0.03201294, 0.042907715, -0.0446167, 0.0015525818, 0.007549286, 0.007911682, -0.004135132, 0.03643799, -0.0028896332, 0.02999878, -0.039978027, 0.005378723, -0.086364746, 0.006160736, 0.0024967194, 0.028579712, 0.014335632, 0.02230835, 0.03930664, 0.018920898, 0.034606934, -0.059051514, 0.035339355, 0.034606934, -0.040374756, -0.031173706, 0.018722534, -0.004310608, -0.084350586, -0.066101074, -0.004085541, -0.021072388, 0.01134491, 0.056854248, 0.021347046, -0.0013532639, 0.006034851, 0.04168701, -0.020690918, -0.012779236, -0.014320374, -0.025299072, -0.0064888, 0.054534912, -0.02355957, 0.0259552, -0.028167725, -0.016052246, -0.016174316, 0.09851074, 0.061340332, -0.009796143, -0.027175903, 0.02949524, -0.06286621, 0.041931152, 0.008346558, -0.045440674, 0.041381836, -0.030288696, 0.025924683, -0.04827881, 0.022567749, 0.041229248, -0.0019836426, 0.038635254, -0.0073051453, 0.0064086914, -0.010856628, -0.013633728, -0.055847168, -0.015411377, 0.080200195, -0.005897522, -0.013366699, 0.019226074, -0.04840088, 0.01675415, 0.053619385, -0.0038166046, -0.04864502, 0.026504517, 0.016098022, 0.013534546, -0.011016846, 0.016616821, 0.048065186, 0.087646484, -0.042907715, 0.007144928, -0.04559326, -0.04309082, -0.013137817, -0.0067977905, -0.0033187866, 0.026000977, 0.013664246, -0.050231934, 0.02217102, -0.020446777, 0.0058059692, 0.027374268, -0.050872803, 0.03555298, 0.029922485, 0.018005371, -0.014770508, 0.025970459, 0.021316528, 0.017669678, 0.015914917, 0.016723633, 0.04333496, 0.060516357, 0.03555298, 0.036499023, -0.0015525818, 0.010620117, -0.022537231, 0.007888794, 0.021209717, 0.00022757053, 0.014305115, -0.093811035, -0.03463745, -0.044647217, 0.01689148, 0.030044556, -0.016311646, 0.018676758, 0.028259277, 0.020874023, -0.0042686462, -0.01838684, -0.014175415, 0.038269043, 0.007522583, -0.019012451, -0.009544373, -0.07940674, 0.004272461, 0.0038337708, -0.0057678223, 0.012306213, 0.01914978, 0.049560547, 0.033447266, -0.059509277, -0.06945801, 0.0024261475, -0.03668213, -0.018051147, 0.0015325546, -0.0068740845, -0.045715332, -0.014976501, -0.012901306, 0.012580872, 0.043029785, 0.01158905, -0.011299133, 0.017745972, 0.019073486, 0.026779175, -0.030075073, -0.061645508, 0.042175293, 0.03994751, 0.07446289, 0.023239136, 0.016204834, -0.010398865, 0.009796143, 0.04284668, 0.066345215, -0.009880066, -0.029785156, -0.009086609, 0.035247803, 0.045654297, -0.02520752, -0.005191803, -0.013191223, 0.050933838, 0.027191162, 0.043151855, 0.03414917, 0.05960083, -0.044036865, -0.040924072, -0.039611816, 0.03543091, 0.07873535, 0.020614624, -0.030197144, -0.053466797, 0.049682617, -0.016571045, 0.0068130493, -0.0042495728, 0.018356323, 0.07525635, -0.008338928, -0.008338928, -0.0096588135, 0.037109375, 0.027297974, 0.013069153, 0.02809143, -0.026535034, 0.038269043, 0.023712158, -0.032470703, -0.040802002, 0.0024852753, 0.026550293, 0.017669678, -0.045440674, 0.010101318, 0.00491333, 0.009178162, -0.0184021, -0.029403687, -0.022369385, 0.017654419, 0.012214661, 0.024780273, 0.03567505, -0.008018494, -0.03692627, -0.052856445, 0.02557373, -0.010040283, 0.022949219, -0.025222778, 0.0473938, -0.050476074, 0.01512146, -0.006752014, 0.006275177, -0.010559082, -0.032104492, -0.02645874, -0.025314331, 0.051635742, 0.028823853, -0.01260376, 0.056732178, 0.02659607, -0.040130615, -0.004787445, 0.030014038, -0.045440674, 0.025482178, -0.08843994, -0.04675293, 0.03643799, 0.0317688, 0.007522583, -0.0019607544, 0.03488159, 0.04901123, -0.043029785, 0.039489746, 0.006439209, -0.05831909, 0.009567261, -0.008598328, 0.0006775856, -0.016204834, -0.018249512, -0.025299072, 0.03439331, 0.012084961, 0.0036411285, 0.011932373, -0.005039215, -0.019866943, 0.032104492, 0.008285522, -0.0020694733, -0.005378723, -0.033477783, -0.041900635, 0.021697998, 0.0625, 0.011268616, -0.02305603, 0.029922485, -0.007106781, -0.004837036, 0.030181885, 0.0038642883, -0.026123047, 0.017288208, 0.0038719177, -0.055419922, 0.06781006, -0.074279785, -0.027648926, -0.033111572, -0.010536194, -0.062805176, -0.006450653, -0.043548584, 0.011054993, -0.03503418, -0.0005531311, 0.0053634644, 0.0635376, 0.002779007, 0.028869629, 0.011070251, 0.0012493134, -0.00069475174, 0.016937256, 0.027923584, -0.021850586, -0.038757324, 0.03543091, 0.005821228, -0.022003174, 0.0030670166, 0.024307251, -0.0064353943, -0.0579834, -0.008674622, 0.002117157, -0.062316895, 0.02015686, 0.016616821, -0.008354187, -0.017715454, -0.05899048, -0.037597656, 0.010375977, -0.0025196075, -0.03845215, 0.011245728, -0.0027122498, -0.0206604, -0.025024414, 0.025482178, -0.020507812, 0.0034732819, -0.007522583, -0.024597168, -0.015670776, 0.0021152496, 0.064453125, -0.05831909, 0.004966736, 0.058013916, 0.0009522438, 0.038024902, 0.004043579, -0.053344727, 0.009178162, 0.0044517517, 0.03074646, -0.0058517456, 0.057922363, -0.043548584, 0.011955261, -0.0012273788, 0.014602661, -0.04901123, 0.0015850067, -0.03741455, 0.018722534, -0.06378174, 0.038909912, 0.012390137, -0.09039307, -0.022399902, -0.0045318604, 0.044708252, -0.008125305, -0.00894928, -0.040374756, -0.030044556, -0.06304932, 0.021102905, -0.03439331, 0.05407715, 0.04067993, 0.010444641, -0.0045318604, -0.01096344, -0.026687622, 0.0003042221, 0.06640625, 0.025100708, -0.00091314316, 0.04788208, 0.036254883, -0.024597168, 0.034057617, 0.040008545, 0.029129028, -0.006580353, 0.03137207, 0.020614624, 0.03878784, -0.019195557, -0.0524292, -0.035949707, -0.03845215, -0.014480591, 0.009239197, 0.01737976, 0.001077652, -0.021636963, 0.01828003, -0.013626099, -0.06298828, -0.003955841, 0.013923645, 0.019348145, 0.007167816, -0.026428223, 0.015991211, 0.029449463, 0.029876709, 0.034423828, -0.00299263, -0.017837524, -0.027145386, -0.015823364, 0.032928467, -0.04244995, -0.00605011, -0.08831787, 0.040161133, 0.024673462, -0.040893555, -0.07110596, -0.026809692, -0.027114868, 0.035980225, -0.009483337, 0.01713562, 0.011047363, -0.00084733963, 0.02017212, -0.03366089, 0.059448242, -0.0030536652, 0.041015625, -0.00042414665, 0.052459717, 0.0057296753, -0.034973145, 0.03338623, -0.018661499, 0.033447266, -0.030975342, -0.034118652, 0.07305908, 0.0007100105, 0.06304932, -0.015945435, 0.023483276, -0.06756592, -0.05267334, -0.0021572113, -0.019317627, 0.08294678, -0.03955078, -0.0597229, -0.044158936, -0.020904541, 0.0071792603, 0.08105469, -0.06915283, 0.018737793, 0.01637268, 0.0013313293, -0.013206482, -0.07330322, 0.062805176, -0.033599854, 0.011756897, -0.012649536, -0.068847656, 0.0006284714, -0.018173218, -0.032226562, 0.012390137, 0.025100708, 0.024017334, -0.009925842, 0.013633728, -0.059265137, 0.023010254, 0.01763916, -0.028823853, 0.014320374, 0.04675293, 0.00969696, -0.021331787, -0.04864502, 0.009025574, 0.0031356812, 0.05722046, 0.12030029, 0.013366699, 0.012138367, -0.010940552, 0.0032844543, -0.04675293, -0.041290283, -0.011230469, -0.025283813, -0.0116119385], [-0.03479004, 0.04638672, -0.20178223, -0.02255249, 0.049591064, -0.018356323, -0.0128479, -0.007019043, -0.026916504, -0.013938904, 0.028869629, 0.022369385, 0.10284424, 0.028778076, -0.0020275116, -0.034698486, 0.007835388, 0.003824234, -0.0022525787, 0.04498291, 0.009712219, -0.04360962, -0.0034694672, -0.018951416, 0.05126953, -0.005683899, -0.020019531, -0.018707275, -0.07196045, -0.021026611, -0.007270813, -0.035186768, -0.053344727, -0.06262207, -0.03463745, -0.078430176, 0.041168213, 0.026611328, -0.041870117, 0.040618896, 0.025802612, 0.034942627, -0.018737793, -0.0121536255, 0.061187744, -0.013946533, 0.03942871, 0.0023117065, 0.07446289, -0.076293945, 0.011512756, -0.00983429, -0.04547119, -0.040374756, 0.07397461, 0.020248413, -0.020858765, 0.020629883, 0.0126571655, -0.050994873, 0.064941406, 0.05508423, -0.06732178, 0.09729004, 0.06640625, -0.029647827, 0.0030269623, 0.03250122, -0.0026988983, -0.034606934, -0.014038086, -0.019729614, 0.03817749, 0.06124878, -0.010307312, -0.03793335, -0.053894043, -0.006767273, -0.0070343018, 0.06970215, 0.049682617, -0.068115234, 0.09240723, -0.009376526, 0.020202637, -0.006855011, 0.004917145, 0.010467529, -0.030273438, 0.11602783, 0.04437256, -0.008384705, 0.025558472, -0.004875183, -0.07495117, 0.027023315, -0.032073975, -0.02319336, -0.023925781, -0.017654419, -0.04714966, -0.015731812, -0.0017204285, -0.018127441, 0.012832642, 0.0048294067, -0.027053833, -0.0031967163, 0.0063667297, 0.023468018, -0.0027580261, 0.013710022, 0.012001038, 0.0033836365, 0.0071792603, -0.035339355, 0.08703613, -0.053649902, 0.012290955, 0.033294678, -0.04425049, -0.0118255615, -0.054351807, 0.037200928, 0.011680603, 0.021591187, -0.046417236, 0.007972717, -0.027053833, -0.03668213, -0.016311646, -0.0023765564, -0.01134491, 0.015007019, 0.022491455, 0.095581055, -0.06286621, -0.026016235, -0.0035820007, 0.021835327, 0.04156494, -0.005996704, -0.009590149, -0.038360596, -0.0063056946, -0.039764404, 0.010681152, -0.010543823, -0.056518555, 0.03050232, 0.017227173, -0.010681152, 0.0038070679, 0.019851685, 0.06262207, -0.008804321, -0.0017929077, -0.006580353, 0.056610107, 0.0063934326, 0.0390625, -0.026565552, -0.03967285, 0.059661865, -0.013877869, -0.022323608, 0.022720337, 0.06060791, 0.021652222, 0.068603516, -0.066101074, -0.021194458, -0.018859863, -0.004714966, 0.038879395, -0.038269043, 0.046051025, -0.05404663, 0.04977417, -0.044830322, 0.0030822754, -0.066833496, 0.016464233, -0.015563965, -0.013938904, -0.0076179504, -0.011512756, -0.04559326, -0.02192688, -0.05038452, 0.015327454, 0.03463745, -0.04071045, -0.0014219284, -0.07128906, -0.026901245, 0.05508423, -0.0054893494, -0.016540527, -0.038360596, -0.053131104, -0.018829346, -0.049316406, 0.044555664, -0.0068130493, 0.0524292, 0.006641388, 0.038513184, -0.023498535, -0.026351929, 0.07080078, 0.0007529259, -0.011146545, 0.02357483, 0.0051612854, -0.009773254, 0.01171875, -0.020324707, 0.013244629, -0.00541687, 0.04135132, 0.0034255981, -0.019332886, -0.026016235, -0.014709473, -0.011116028, -0.029708862, 0.008674622, -0.0158844, 0.017578125, -0.014053345, -0.062072754, 0.043121338, 0.0034637451, 0.050994873, 0.008460999, 0.002916336, 0.06976318, 0.008895874, 0.006629944, -0.010536194, 0.033203125, -0.0036468506, -0.012191772, -0.038726807, -0.027526855, 0.041870117, -0.04171753, -0.0052337646, 0.06518555, -0.011756897, 0.0030269623, -0.00016605854, 0.017791748, 0.026168823, -0.034057617, 0.006515503, 0.032348633, 0.0236969, 0.037841797, 0.027618408, -0.046875, 0.038482666, 0.010940552, 0.015159607, -0.05999756, -0.00081443787, -0.004016876, 0.02848816, 0.013687134, 0.027130127, 0.038848877, 0.0042877197, 0.035461426, -0.029525757, 0.013710022, 0.005580902, -0.048095703, -0.027069092, 0.041046143, -0.009208679, -0.06060791, -0.0703125, 0.03225708, -0.020568848, 0.02494812, 0.033599854, 0.04824829, 0.02848816, -0.011360168, 0.045959473, -0.003566742, -0.030532837, 0.0038890839, -0.016677856, 0.00013458729, 0.087646484, -0.011833191, 0.010848999, -0.018569946, 0.0061798096, 0.010719299, 0.07458496, 0.051361084, -0.03604126, -0.045684814, 0.01739502, -0.043762207, 0.04547119, 0.012710571, -0.04421997, 0.042510986, -0.032562256, -0.0076904297, -0.019699097, 0.02192688, 0.014411926, -0.0027942657, 0.033996582, 0.0049705505, 0.0047454834, -0.027435303, -0.008102417, -0.083740234, -0.03933716, 0.08453369, 0.0045166016, 0.0033931732, -0.0005850792, -0.026733398, 0.018157959, 0.050872803, 0.005104065, -0.047302246, 0.020553589, 0.02619934, 0.013587952, 0.02619934, 0.012954712, 0.047546387, 0.04724121, -0.0050239563, 0.01146698, -0.054504395, -0.024887085, -0.011886597, -0.008369446, -0.000852108, 0.012489319, 0.0058288574, -0.043395996, 0.00881958, -0.0115737915, -0.01209259, 0.04135132, -0.03692627, 0.030853271, 0.06518555, 0.025238037, 0.00036406517, 0.04663086, 0.020996094, 0.013648987, -0.003479004, 0.010955811, 0.054626465, 0.052337646, 0.023834229, 0.014595032, -0.0012350082, 0.02532959, -0.039916992, -0.0056037903, 0.016860962, 0.003873825, 0.04949951, -0.08428955, -0.045684814, -0.039001465, -0.0007786751, -0.02670288, -0.017532349, 0.0043678284, -0.005077362, 0.050689697, 0.013412476, -0.022460938, -0.042175293, 0.012771606, 0.01600647, -0.04776001, -0.020355225, -0.05908203, -0.01171875, 0.012886047, -0.014526367, 0.006252289, 0.031402588, 0.025497437, 0.060913086, -0.06890869, -0.04888916, 0.026428223, -0.035461426, -0.0015621185, 0.002380371, -0.035980225, -0.047698975, 0.024658203, 0.0009498596, 0.0023593903, 0.043273926, 0.00774765, -0.01374054, 0.030654907, 0.0435791, 0.032043457, -0.014961243, -0.04888916, -0.0018873215, 0.041778564, 0.0871582, 0.0158844, 0.0031833649, 0.006752014, 0.018127441, 0.008735657, 0.052246094, 0.025558472, -0.037261963, 0.022460938, 0.008865356, 0.031951904, -0.01914978, -0.028717041, 0.012687683, 0.03677368, 0.05026245, 0.026947021, 0.045959473, 0.07952881, -0.068603516, -0.0703125, -0.050842285, 0.025421143, 0.111083984, 0.028198242, 0.0026359558, -0.06341553, 0.043914795, -0.0018815994, -0.008262634, 0.016113281, 0.014801025, 0.08306885, -0.024917603, -0.018936157, -0.0063552856, 0.04714966, 0.007904053, -0.015029907, 0.017608643, -0.040252686, 0.05871582, 0.016830444, -0.024551392, -0.014091492, -0.024124146, 0.023010254, 0.02671814, -0.032073975, 0.027877808, 0.012687683, -0.043914795, -0.043060303, 0.014595032, -0.024993896, -0.0041618347, 0.027053833, 0.049591064, 0.038391113, -0.01461792, -0.03479004, -0.030944824, 0.014411926, 0.00046777725, 0.024307251, -0.026794434, 0.008995056, -0.051116943, 0.009857178, 0.022003174, -0.012535095, -0.014274597, -0.046661377, -0.02078247, -0.0262146, 0.053100586, 0.05718994, -0.013000488, 0.046325684, 0.025802612, -0.024841309, 0.010894775, -0.014343262, -0.011299133, 0.013031006, -0.07397461, -0.067871094, 0.039886475, 0.027648926, -0.011138916, -0.015853882, 0.02255249, 0.044799805, -0.04977417, 0.05718994, -0.0049476624, -0.052642822, 0.008140564, 0.012634277, 0.0028915405, -0.011489868, -0.0020046234, -0.054473877, 0.02671814, -0.019042969, -0.014587402, 0.043914795, -0.034179688, 0.0017662048, 0.029251099, -0.027236938, 0.013015747, -0.008102417, -0.007534027, -0.016540527, 0.021987915, 0.07128906, 0.018951416, -0.016555786, 0.05038452, -0.0026683807, -0.0025367737, 0.050079346, -0.008323669, -0.039245605, 0.03643799, -0.022964478, -0.06652832, 0.04724121, -0.059631348, -0.0064849854, -0.0068244934, 0.008422852, -0.040222168, 0.0064582825, -0.058135986, 0.01626587, -0.02192688, -0.010154724, -0.0023651123, 0.08190918, -0.014671326, 0.037475586, 0.009429932, -0.004196167, -0.016647339, 0.012504578, 0.028366089, -0.024734497, -0.034362793, -0.0025539398, -0.007045746, -0.05026245, -0.035369873, 0.019500732, 0.004119873, -0.07904053, -0.0289917, -0.0015897751, -0.060913086, 0.024093628, 0.0049858093, -0.009231567, -0.0028762817, -0.07348633, -0.022720337, 0.017242432, -0.026367188, -0.04724121, 0.017166138, 0.00033831596, -0.020248413, -0.011375427, 0.011680603, -0.028961182, -0.023330688, -0.014587402, -0.036590576, -0.016174316, -0.00080633163, 0.026733398, -0.04232788, 0.010597229, 0.03353882, -0.0040512085, 0.031158447, 0.0037117004, -0.052642822, 0.024749756, 0.020645142, 0.026901245, -0.023330688, 0.045684814, -0.013923645, 0.0063972473, -0.022399902, 0.014678955, -0.018951416, 0.0031089783, -0.04269409, 0.059539795, -0.07043457, 0.054992676, 0.012245178, -0.067871094, -0.011421204, -0.003692627, 0.03579712, -0.038726807, 0.033050537, -0.08074951, -0.01348114, -0.053222656, 0.009437561, -0.04321289, 0.041778564, 0.024536133, 0.04019165, 0.018753052, -0.020385742, -0.01525116, 0.043395996, 0.05053711, -0.034210205, 0.014167786, 0.06298828, 0.054138184, -0.01828003, 0.049468994, 0.052978516, 0.011978149, -0.010536194, 0.008300781, 0.017700195, 0.022750854, -0.022705078, -0.045806885, -0.036102295, -0.017868042, 0.010124207, 0.016036987, 0.019439697, -0.007865906, -0.011657715, 0.005645752, 0.016433716, -0.06768799, -0.013809204, 0.022583008, 0.015808105, 0.020614624, -0.047546387, 0.03265381, 0.028259277, 0.022003174, -0.0037994385, -0.0121536255, -0.025863647, 0.007297516, -0.01737976, 0.054504395, -0.06335449, 0.029968262, -0.038726807, 0.037384033, 0.017318726, -0.032348633, -0.066101074, -0.028259277, -0.028137207, 0.016464233, 0.0034866333, 0.0028839111, 0.026565552, -0.029937744, 0.013916016, -0.041168213, 0.044067383, 0.010681152, 0.060913086, 0.026321411, 0.046142578, -0.016326904, -0.02293396, 0.0037002563, -0.037719727, 0.00844574, -0.023803711, -0.046966553, 0.04156494, -0.019500732, 0.0368042, 0.0022125244, 0.016418457, -0.061523438, -0.068847656, -0.008659363, 0.02067566, 0.07525635, -0.05319214, -0.072509766, -0.04373169, -0.009170532, 0.018569946, 0.08081055, -0.05218506, 0.003479004, -0.008995056, 0.018722534, -0.009803772, -0.072509766, 0.0491333, -0.017028809, 0.025115967, -0.004875183, -0.06011963, -0.027374268, -0.025772095, -0.014732361, 0.024032593, 0.015113831, 0.0079193115, -0.023208618, 0.020065308, -0.05355835, 0.020111084, 0.002286911, -0.02494812, 0.020080566, 0.030136108, -0.0057868958, -0.050476074, -0.05065918, 0.013793945, 0.0062026978, 0.04232788, 0.10333252, 0.00299263, 0.02418518, -0.011680603, 0.021072388, -0.05984497, -0.036499023, -0.03503418, -0.0154418945, -0.03616333], [0.0031414032, 0.06628418, -0.18981934, -0.01612854, 0.03692627, -0.054840088, 0.0154418945, -0.0262146, 0.02279663, 0.000110924244, -0.004310608, 0.015396118, 0.10687256, 0.045776367, 0.026687622, -0.018493652, -0.016052246, -0.019927979, -0.007080078, -0.0052452087, -0.004337311, -0.006164551, 0.033599854, -0.04284668, 0.09051514, -0.0019083023, 0.00070238113, -0.03515625, -0.053527832, -0.024093628, 0.018066406, 0.01222229, -0.0056762695, -0.07385254, -0.021453857, -0.0680542, 0.026672363, 0.030288696, -0.024597168, 0.02861023, -0.03375244, 0.013633728, 0.021591187, 0.0011787415, 0.06060791, -0.009933472, 0.022583008, -0.017242432, 0.062042236, -0.057891846, 0.022384644, -0.012145996, -0.038726807, -0.007762909, 0.054534912, 0.040374756, -0.00015699863, 0.018722534, -0.002368927, -0.07409668, 0.097473145, 0.08483887, -0.042297363, 0.07751465, 0.059265137, -0.04751587, -0.053375244, 0.03778076, 0.0033035278, -0.038970947, 0.007331848, -0.017074585, 0.040222168, 0.03555298, -0.049713135, 0.013977051, -0.009941101, -0.018569946, -0.005607605, 0.041381836, 0.04748535, -0.032409668, 0.03845215, -0.0076789856, 0.029037476, -0.001077652, -0.024871826, -0.009300232, -0.03845215, 0.11578369, 0.0006799698, 0.018753052, 0.01309967, -0.024932861, -0.097961426, 0.05517578, -0.02130127, 0.012191772, -0.0680542, -0.017913818, -0.067871094, 0.019454956, -0.030334473, -0.024139404, 0.034240723, -0.010475159, -0.01209259, 0.020446777, -0.019622803, 0.0093688965, 0.004688263, 0.0063819885, -0.029067993, 0.013824463, 0.026992798, -0.043640137, 0.07080078, -0.039489746, 0.026229858, 0.039978027, -0.035339355, -0.053833008, -0.0016326904, 0.007965088, 0.030548096, 0.027008057, -0.03677368, 0.029586792, -0.031951904, -0.045166016, 0.022323608, -0.0033874512, -0.04006958, 0.0026626587, -0.0006942749, 0.067871094, -0.09387207, -0.030380249, 0.0068969727, 0.02911377, 0.048065186, 0.003967285, -0.018463135, -0.048339844, -0.015975952, -0.04083252, 0.011528015, 0.02494812, -0.036315918, 0.009849548, -0.008262634, 0.0357666, -0.02142334, 0.002840042, 0.022842407, -0.008285522, -0.001203537, 0.009933472, 0.036315918, -0.0049705505, 0.06732178, -0.011192322, 0.006717682, 0.072021484, -0.037597656, -0.06085205, 0.08380127, 0.03366089, 0.038391113, 0.06359863, -0.060150146, -0.022842407, -0.011695862, 0.02746582, 0.026535034, 0.0065307617, 0.053527832, -0.04498291, 0.017608643, -0.039764404, 0.018493652, -0.05105591, 0.017837524, 0.013900757, -0.021255493, -0.036010742, 0.003824234, -0.011657715, -0.020111084, -0.0725708, 0.025527954, 0.017486572, -0.027404785, -0.044921875, -0.031219482, -0.016952515, 0.020263672, -0.006011963, 0.022354126, -0.038909912, -0.030899048, 0.0033359528, -0.09552002, 0.022537231, -0.043884277, 0.05670166, -0.005958557, -0.0023078918, -0.016296387, -0.05117798, 0.06640625, -0.004196167, -0.007671356, 0.0154953, 0.0151901245, 0.0019388199, -0.0049552917, -0.03265381, -0.028411865, -0.0345459, 0.051635742, -0.010261536, -0.030212402, -0.020492554, 0.0021266937, -0.048797607, -0.052642822, -0.015449524, -0.029678345, 0.019958496, 0.0009288788, -0.045074463, 0.03817749, 0.0036621094, 0.020187378, 0.0015544891, 0.020645142, 0.06365967, 0.017868042, 0.031021118, -0.0065574646, -0.007091522, -0.026611328, -0.00025057793, -0.025543213, 0.0039367676, 0.008041382, -0.04046631, -0.02078247, 0.044921875, -0.020187378, 0.004299164, -0.015777588, 0.018066406, 0.013160706, -0.037017822, -0.01260376, 0.013160706, 0.0703125, 0.0061836243, 0.018844604, 0.01574707, 0.04714966, -0.0019044876, 0.032165527, -0.05899048, -0.011024475, -0.0075950623, 0.008766174, -0.019592285, 0.026931763, 0.021438599, -0.009101868, 0.027130127, -0.009613037, 0.0043182373, -0.0017490387, -0.009239197, -0.0064697266, 0.029281616, -0.023605347, -0.043182373, -0.034362793, 0.054992676, -0.026321411, 0.034240723, 0.045074463, 0.034484863, 0.0015087128, -0.00459671, 0.018798828, 0.015899658, -0.023925781, 0.028945923, -0.038604736, -0.01940918, 0.0703125, -0.03778076, 0.01084137, -0.012832642, 0.02709961, 0.021697998, 0.071899414, 0.03186035, 0.023971558, -0.0435791, 0.0109939575, -0.039855957, 0.051116943, 0.025894165, -0.030685425, -0.000808239, -0.035491943, 0.019927979, -0.03012085, 0.012817383, 0.049560547, 0.008598328, 0.05883789, 0.0016994476, 0.006866455, -0.04598999, -0.033477783, -0.046539307, 0.006919861, 0.06188965, -0.032226562, -0.0016393661, 0.0010290146, -0.01638794, 0.008346558, 0.0090789795, 0.0055885315, -0.058441162, -0.0018520355, 0.0029354095, -0.011810303, 0.023498535, 0.0051498413, 0.038146973, 0.05517578, -0.026992798, 0.030456543, -0.04949951, -0.053375244, -0.012260437, 0.021514893, -0.003320694, 0.008796692, 0.011413574, -0.064941406, 0.03930664, -0.027328491, -0.0064315796, 0.030426025, -0.07165527, 0.034820557, 0.03253174, 0.03375244, 0.04083252, 0.026489258, -0.00041341782, -0.032592773, -0.006580353, 0.017059326, 0.029922485, 0.036102295, 0.010643005, 0.060943604, -0.0029335022, 0.025054932, -0.0029182434, -0.014099121, 0.06866455, 0.0035495758, -0.00071287155, -0.10266113, -0.013130188, -0.03074646, -0.007156372, 0.016342163, 0.014205933, 0.040374756, -0.0060920715, 0.0059928894, 0.00065660477, -0.0039367676, -0.0289917, 0.0077171326, -0.023956299, -0.05630493, -0.04727173, -0.06903076, 0.009925842, 0.026535034, -0.01586914, 0.0014667511, 0.017837524, 0.05090332, 0.05807495, -0.03515625, -0.042053223, -0.027267456, -0.021148682, 0.04067993, -0.0064697266, -0.017196655, -0.06185913, 0.021652222, -0.010482788, 0.033416748, 0.024154663, 0.010398865, -0.03778076, 0.031341553, 0.0014629364, 0.03488159, 0.013809204, -0.052764893, 0.018508911, 0.027618408, 0.04751587, 0.022262573, 0.013305664, 0.013442993, 0.012275696, 0.017242432, 0.08703613, -0.027404785, -0.06298828, -0.0030403137, 0.039886475, 0.028747559, -0.021865845, -0.06573486, 0.021697998, 0.04269409, 0.041137695, 0.011100769, 0.061584473, 0.053863525, -0.020233154, -0.053833008, -0.03652954, 0.029632568, 0.09063721, 0.06726074, -0.022598267, -0.07891846, 0.006881714, -0.024871826, 0.013465881, -0.016525269, 0.029037476, 0.082092285, 0.0041618347, -0.00048160553, 0.0043411255, 0.019515991, -0.019851685, 0.009391785, -0.032592773, -0.017227173, -0.0058059692, -0.0024318695, -0.007881165, 0.016830444, -0.016983032, 0.012779236, 0.06384277, -0.0001078248, 0.022003174, -0.016662598, -0.006839752, -0.020324707, -0.015975952, -0.0287323, -0.012313843, 0.0435791, 0.030258179, 0.031677246, -0.025680542, -0.06225586, -0.040771484, -0.0042877197, 0.021133423, -0.0036029816, -0.03375244, 0.04006958, 0.0077552795, 0.04296875, 0.031143188, -0.012664795, -0.026382446, -0.02192688, -0.041992188, -0.023513794, 0.0066986084, 0.024780273, 0.00048542023, -0.0026569366, 0.056427002, -0.02507019, 0.015792847, 0.0435791, -0.013702393, 0.003276825, -0.07672119, -0.030426025, 0.052093506, -0.0016698837, -0.0049972534, 0.011802673, 0.004295349, 0.032958984, -0.05078125, 0.05239868, -0.016738892, -0.08679199, 0.028289795, 0.012481689, 0.022537231, -0.021713257, 0.013580322, -0.081604004, 0.0065307617, 0.010360718, -0.021102905, 0.042022705, -0.026931763, 0.00422287, 0.029403687, -0.052520752, 0.0048294067, 0.032073975, -0.06774902, -0.024887085, 0.014671326, 0.050598145, 0.013076782, -0.00079345703, 0.027389526, 0.014129639, -0.0054779053, 0.005104065, -0.025527954, -0.015304565, 0.06958008, 0.016921997, -0.07019043, 0.03201294, -0.074645996, -0.021102905, -0.03677368, 0.019042969, -0.075805664, -0.0041923523, -0.036254883, 0.008972168, -0.030899048, 0.030380249, -0.00024557114, 0.08288574, -0.020889282, 0.00299263, -0.039031982, 0.005279541, 0.025161743, 0.02381897, 0.034606934, -0.005756378, -0.030334473, -0.028289795, 0.0209198, -0.030807495, 0.0044937134, 0.001912117, -0.012832642, -0.062927246, -0.024139404, 0.026016235, -0.070007324, 0.041259766, 0.032348633, 0.02609253, 0.025405884, -0.05630493, -0.03994751, 0.028076172, -0.03451538, -0.03353882, 0.0309906, 0.024734497, -0.026351929, -0.0284729, 0.04058838, -0.038360596, -0.005794525, 0.014892578, -0.036499023, -0.011695862, 0.017410278, 0.021316528, -0.029083252, -0.032318115, 0.0670166, 0.010070801, 0.029953003, 0.011817932, -0.048736572, 0.013046265, 0.0262146, 0.003501892, -0.014091492, 0.031951904, 0.0038585663, 0.013046265, -0.07873535, 0.0152282715, -0.05267334, -0.032684326, -0.08557129, 0.04727173, -0.016036987, 0.0435791, 0.0029201508, -0.047302246, -0.023391724, 0.0013971329, 0.06225586, -0.048675537, 0.038635254, -0.07501221, -0.027526855, -0.05718994, 0.0036773682, -0.018585205, 0.0178833, 0.059265137, 0.023483276, 0.00573349, 0.013465881, 0.0021476746, 0.054718018, 0.070129395, -0.021316528, -0.016647339, 0.05682373, -0.010314941, -0.025741577, 0.05493164, 0.07788086, 0.025680542, 0.009651184, -0.015609741, -0.011268616, 0.00869751, -0.02178955, -0.050231934, -0.008132935, -0.006134033, 0.032165527, -0.003484726, 0.010505676, 0.0061836243, -0.008872986, 0.0078086853, 0.013961792, -0.04156494, -0.015464783, 0.026229858, -0.0022830963, 0.0146484375, -0.02180481, 0.0109939575, 0.06652832, 0.066467285, 0.017318726, 0.00894928, -0.001499176, 0.023956299, -0.03475952, 0.07269287, -0.04562378, -0.00022506714, 0.0028324127, 0.020645142, 0.0041007996, 0.006454468, -0.077819824, -0.030227661, -0.022720337, 0.007904053, -0.032073975, -0.030288696, 0.009429932, -0.022384644, 0.011817932, -0.059936523, 0.06890869, 0.0015420914, 0.031402588, 0.013267517, 0.04425049, 0.016052246, -0.0048446655, 0.014907837, -0.0050811768, 0.008987427, -0.03527832, -0.026046753, 0.05026245, 0.005756378, 0.030380249, -0.02330017, 0.0118255615, -0.049468994, -0.059448242, 0.0023822784, -0.011940002, 0.06536865, -0.021026611, -0.07659912, -0.03475952, -0.007019043, 0.0016040802, 0.052947998, -0.045837402, -0.012992859, -0.003484726, 0.032806396, 0.0010643005, -0.05014038, 0.04940796, -0.036468506, -0.05218506, -0.030380249, -0.049865723, -0.0287323, -0.023391724, -0.0079193115, 0.05014038, -0.007835388, 0.008972168, 0.008415222, -0.004623413, -0.03817749, 0.027420044, 0.0021629333, 0.016296387, 0.011245728, 0.035827637, 0.021408081, -0.04031372, -0.022827148, 0.0030136108, -0.02809143, 0.06878662, 0.11798096, 0.04559326, -0.020507812, 0.002752304, 0.014312744, -0.044769287, -0.058898926, -0.042144775, -0.0473938, -0.0041275024], [0.0039138794, 0.038726807, -0.19030762, -0.02456665, 0.039398193, 0.00762558, -0.010299683, 0.0050621033, -0.0154418945, 0.019897461, 0.0038890839, 0.00058698654, 0.07232666, 0.031677246, 0.025039673, -0.030654907, 0.0030059814, -0.04159546, 0.01687622, 0.045684814, -0.0076522827, -0.031219482, 0.020492554, -0.07507324, 0.061767578, 0.013427734, -0.0287323, -0.030883789, -0.04296875, -7.5280666e-05, 0.037719727, -0.018051147, -0.02041626, -0.048583984, -0.028427124, -0.07147217, 0.0413208, 0.05859375, 0.008651733, 0.031921387, 0.015052795, 0.057647705, 0.014923096, -0.02998352, 0.010978699, 0.012374878, 0.017074585, -0.013626099, 0.06781006, -0.05859375, 0.045898438, 0.027709961, 0.00017881393, -0.0013151169, 0.07989502, 0.047058105, -0.035095215, 0.031036377, 0.03225708, -0.06185913, 0.06970215, 0.06604004, -0.09185791, 0.070007324, 0.016235352, -0.037017822, -0.07019043, 0.08074951, 0.0010976791, -0.035888672, 0.004699707, 0.0068359375, 0.05831909, 0.065979004, -0.012832642, -0.005970001, -0.049102783, -0.030334473, 0.029541016, 0.047943115, 0.008728027, -0.016433716, 0.04095459, -0.024642944, 0.027008057, -0.006225586, 0.00067567825, 0.02029419, -0.04232788, 0.10211182, 0.014945984, 0.017211914, 0.021850586, -0.0004196167, -0.13171387, 0.037597656, -0.08258057, 0.034454346, -0.030654907, -0.020462036, -0.06542969, -0.005329132, -0.015701294, 0.01259613, -0.0072669983, -0.016098022, -0.020339966, -0.029754639, -0.042297363, 0.010101318, -0.0042915344, 0.048950195, -0.045776367, 0.0016880035, -0.022750854, -0.052215576, 0.08441162, -0.016921997, 0.05935669, 0.0024414062, -0.03289795, -0.028167725, 0.016860962, 0.041748047, -0.0055770874, 0.041290283, -0.014640808, 0.031433105, -0.002204895, -0.040618896, 0.022155762, -0.042266846, -0.00390625, 0.0043907166, -0.016204834, 0.076538086, -0.10229492, 0.0021419525, 0.011543274, 0.022979736, 0.062316895, -0.023529053, 0.0069236755, -0.01966858, -0.009277344, -0.0680542, 0.008522034, -0.01576233, -0.04724121, 0.03289795, 0.029006958, 0.00091028214, 0.00013720989, 0.031921387, 0.027954102, -0.005016327, -0.013626099, 0.0023994446, -0.014892578, -0.019226074, 0.020767212, -0.040008545, -0.014152527, 0.039855957, -0.007194519, -0.07336426, 0.05331421, 0.013282776, -0.0043640137, 0.03137207, -0.029815674, -0.029510498, -0.0006752014, 0.021774292, 0.05343628, -0.0074768066, 0.050598145, -0.09082031, 0.03036499, -0.021392822, 0.053009033, -0.044952393, 0.001964569, 0.018722534, 0.0024433136, -0.019104004, -0.015014648, -0.045684814, -0.022018433, -0.042266846, 0.010124207, 0.027130127, -0.06317139, -0.06585693, -0.048858643, -0.02998352, 0.0211792, -0.0025749207, 0.030685425, -0.014434814, -0.028366089, 0.014846802, -0.10455322, 0.0030937195, -0.06762695, 0.050231934, -0.036499023, 0.02609253, -0.023422241, -0.062286377, 0.0625, 0.01084137, -0.00027799606, 0.0050811768, -0.0072631836, -0.010864258, -0.010749817, -0.009544373, -0.0014705658, -0.010894775, 0.030441284, 0.006465912, 2.5987625e-05, 0.010604858, 0.008460999, -0.013877869, -0.0013570786, -0.0066566467, -0.036224365, 0.046417236, -0.005531311, -0.071777344, 0.031799316, -0.0029315948, -0.0012588501, 0.011634827, 0.009391785, 0.06652832, 0.03390503, 0.010169983, -0.008483887, 0.024475098, -0.019561768, 0.046142578, -0.010108948, -0.012451172, 0.00095176697, -0.0390625, 0.0059165955, 0.07543945, -0.001077652, 0.010116577, -0.029632568, -0.030685425, 0.050323486, -0.024856567, -0.010421753, 0.0015258789, 0.048950195, 0.021499634, 0.038238525, 0.009536743, 0.025115967, -0.028427124, -0.011909485, -0.053588867, 0.021957397, -0.01701355, 0.007232666, -0.038085938, 0.029754639, 0.039978027, -0.0010080338, 0.013145447, -0.036499023, 0.0035533905, -0.015655518, -0.038482666, -0.007663727, -0.024398804, -0.006816864, -0.036193848, -0.03656006, -0.022109985, 0.0068359375, -0.0004658699, 0.06585693, 0.0067825317, -0.034362793, 0.014923096, 0.014823914, 0.0070114136, -0.00010251999, 0.03164673, -0.0181427, 0.008163452, 0.048217773, -0.032562256, 0.02470398, -0.026153564, 0.00920105, 0.00045228004, 0.058258057, 0.059509277, 0.017196655, -0.05770874, 0.016036987, -0.043640137, 0.052490234, 0.009552002, -0.05114746, -0.007423401, -0.03729248, 0.007297516, -0.060272217, 0.023956299, 0.05343628, 0.022476196, 0.06414795, -0.024780273, -0.01108551, -0.023773193, -0.0010547638, -0.030883789, -0.0021743774, 0.06896973, -0.024002075, 0.023147583, 0.0024414062, -0.03152466, 0.030593872, 0.013290405, 0.012771606, -0.042053223, -0.029342651, -0.0042686462, -0.019134521, 0.025726318, -0.021728516, 0.013519287, 0.06640625, -0.042816162, 0.0146102905, -0.024810791, -0.04168701, -0.00018024445, 0.005218506, -0.03765869, 0.0287323, 0.0039405823, -0.06756592, 0.05609131, -0.033721924, 0.044921875, -0.0070114136, -0.07122803, 0.020996094, 0.04449463, 0.02571106, 0.017410278, 0.038848877, -0.010147095, -0.0007658005, -0.004840851, 0.018051147, 0.022750854, 0.009361267, 0.01777649, 0.07281494, -0.0048294067, 0.025115967, 0.016174316, -0.007446289, 0.05117798, -0.003704071, 0.0048103333, -0.057739258, -0.02029419, -0.05203247, -0.0036182404, 0.020751953, 0.011856079, 0.04006958, 0.022842407, -0.0090789795, -0.037475586, -0.029510498, -0.026855469, -0.013427734, 0.016433716, 0.005256653, 0.0030574799, -0.049560547, 0.004951477, 0.025039673, -0.0072631836, 0.02293396, 0.017700195, 0.034484863, 0.04107666, -0.033599854, -0.03933716, -0.019226074, -0.01838684, 0.022201538, -0.014526367, -0.040618896, -0.08087158, 0.009185791, -0.014541626, 0.01889038, 0.04827881, 0.0104522705, -0.009429932, 0.030548096, -0.014129639, 0.033111572, 0.010795593, -0.03955078, 0.025115967, 0.027862549, 0.024536133, 0.0038604736, 0.0020275116, -0.005683899, 0.032104492, 0.00440979, 0.06561279, -0.05203247, -0.060394287, 0.015930176, 0.00045132637, 0.017486572, -0.028320312, -0.05441284, 0.032470703, 0.03439331, 0.019195557, 0.015357971, 0.074523926, 0.050323486, -0.0066070557, -0.020584106, -0.043151855, 0.060150146, 0.05142212, 0.022338867, -0.01108551, -0.0770874, -0.005088806, -0.008293152, 0.04208374, 0.001042366, 0.032348633, 0.08404541, -0.018569946, -0.01878357, 0.01852417, 0.009552002, 0.034179688, 0.03540039, 0.020812988, -0.041503906, 0.025894165, 0.021057129, -0.0042800903, -0.025924683, 0.0071983337, 0.026748657, 0.031707764, -0.02305603, 0.0046310425, -0.020843506, 0.0068130493, 0.0036563873, 0.00038456917, -0.042999268, 0.0014076233, 0.035217285, 0.008728027, 0.022827148, -0.020523071, -0.038024902, -0.040863037, 0.012512207, 0.012382507, -0.025039673, -0.016616821, 0.05871582, -0.021377563, 0.042266846, -0.006072998, 0.010848999, -0.037506104, -0.020309448, -0.033813477, -0.0006599426, 0.0074386597, 0.036987305, -0.0019035339, -0.020889282, 0.054107666, -0.008003235, -0.042297363, 0.024642944, -0.0074806213, 0.04449463, -0.11102295, -0.04385376, 0.061431885, -0.006958008, -0.023651123, 0.018997192, 0.03390503, 0.06317139, -0.078125, 0.033721924, 0.007019043, -0.0357666, -0.021438599, 0.015960693, -0.012825012, -0.02067566, -0.0138168335, -0.06793213, 0.035583496, 0.03753662, -0.06427002, 0.0069351196, -0.022033691, 0.021514893, 0.030075073, -0.00440979, 0.009498596, 0.012123108, -0.03491211, -0.039855957, 0.017028809, 0.046813965, -0.005508423, -0.0010128021, 0.021240234, -0.012802124, -0.027313232, 0.04800415, 0.022735596, -0.019454956, 0.025878906, 0.005191803, -0.08258057, 0.036010742, -0.074645996, -4.7028065e-05, -0.050872803, 0.01109314, -0.03704834, -0.007865906, -0.014297485, 0.011260986, -0.0011434555, -0.014770508, -0.006580353, 0.04550171, -0.01576233, 0.0049552917, -0.025161743, -0.0003376007, -0.005508423, 0.013694763, 0.042785645, 0.032226562, -0.033935547, 0.032348633, 0.026687622, -0.016296387, -0.012168884, 0.016342163, -0.051086426, -0.04336548, -0.009277344, -0.023880005, -0.08453369, 0.0017499924, 0.034973145, 0.01638794, 0.008102417, -0.045776367, -0.0289917, 0.03515625, -0.011550903, -0.008850098, 0.013069153, 0.035858154, 0.00012874603, -0.027496338, 0.01751709, -0.03414917, -0.070129395, 0.014015198, -0.06262207, -0.0074920654, 0.05734253, 0.053375244, -0.043426514, 0.037506104, 0.08557129, -0.009719849, 0.06512451, -0.0039711, -0.04232788, 0.010116577, 0.020874023, 0.019088745, -0.009590149, 0.07397461, -0.023620605, 0.008277893, -0.018447876, -0.017196655, -0.026565552, -0.033355713, -0.04421997, 0.062286377, -0.033813477, 0.073791504, 0.017288208, -0.07800293, -0.015716553, 0.007881165, 0.027999878, -0.0034999847, -0.027679443, -0.05493164, -0.01473999, -0.042053223, 0.012252808, -0.05331421, 0.04650879, 0.07757568, 0.019882202, 0.018035889, 0.006099701, 0.008628845, 0.0039043427, 0.09790039, -0.012969971, -0.011726379, 0.043395996, 0.0104599, -0.025726318, 0.06555176, 0.064941406, 0.0138168335, -0.011497498, 0.016098022, 0.025222778, 0.024917603, -0.014526367, -0.018035889, -0.0048828125, -0.030883789, 0.019851685, 0.005821228, -0.0037384033, 0.0040397644, -0.023834229, 0.019439697, -0.024978638, -0.039245605, 0.0118637085, 0.011413574, -0.037139893, -0.0010986328, -0.029342651, -0.013282776, 0.025436401, 0.014884949, 0.035064697, 0.012001038, 0.008132935, 0.016311646, -0.014823914, 0.059448242, -0.020843506, -0.026489258, -0.050323486, 0.03881836, 0.0039901733, -0.0039100647, -0.07684326, -0.059509277, -0.062316895, 0.0025749207, 0.01146698, -0.05871582, 0.014373779, -0.042419434, 0.0418396, 0.008018494, 0.056365967, 0.012680054, 0.045776367, -0.032348633, 0.04611206, 0.022064209, -0.016601562, 0.04019165, 0.02305603, 0.022018433, -0.032928467, -0.015060425, 0.06274414, 0.014076233, 0.050323486, -0.022399902, -0.0029449463, -0.0546875, -0.0770874, -0.018447876, -0.0010213852, 0.06329346, -0.03933716, -0.060394287, -0.024978638, 0.0058898926, 0.008895874, 0.058685303, -0.060821533, -0.016067505, 0.023284912, -0.0062446594, -0.027908325, -0.07269287, 0.045013428, -0.010673523, -0.018417358, -0.042419434, -0.072143555, -0.024215698, -0.018997192, -0.042755127, 0.038879395, 0.03302002, 0.042419434, -0.006225586, -0.0033798218, -0.033996582, 0.04611206, 0.006679535, -0.031021118, -0.011070251, 0.0037193298, -0.011329651, -0.00017130375, -0.041503906, 0.020004272, -0.01675415, 0.06561279, 0.10900879, 0.014282227, -0.013694763, -0.018722534, 0.020217896, -0.0011491776, -0.0317688, -0.010787964, -0.008468628, -0.011932373], [0.0082473755, 0.041625977, -0.15991211, -0.049987793, 0.026748657, -0.002128601, -0.023376465, 1.5497208e-06, -0.053771973, -0.011367798, 0.011772156, 0.017486572, 0.06854248, 0.03378296, 0.012008667, -0.022613525, 0.022964478, -0.044921875, 0.0287323, 0.04840088, -0.019973755, -0.038330078, -0.00969696, -0.06414795, 0.053894043, 0.006385803, 0.014137268, -0.025924683, -0.06149292, -0.0030269623, 0.041137695, 0.014839172, 0.0032615662, -0.025161743, -0.060516357, -0.09625244, 0.028762817, 0.004802704, 0.0028686523, 0.054138184, 0.01979065, 0.0680542, 0.044036865, -0.016098022, 0.035308838, -0.0051651, 0.013298035, 0.005882263, 0.110961914, -0.06896973, 0.029083252, 0.00554657, -0.06317139, 0.028060913, 0.0791626, 0.05279541, -0.00031375885, 0.04559326, 0.03111267, -0.055236816, 0.051605225, 0.06829834, -0.06939697, 0.08666992, 0.017150879, -0.017532349, -0.030715942, 0.044128418, 0.011314392, -0.024093628, 0.015838623, 0.009353638, 0.042022705, 0.031982422, -0.03277588, -0.014137268, -0.005176544, -0.03665161, 0.025314331, 0.072753906, -0.037109375, -0.00029277802, 0.016677856, -0.007297516, 0.038726807, 0.0143585205, -0.0031719208, 0.01436615, -0.059509277, 0.117126465, 0.057281494, 0.0020694733, 0.013374329, -0.008796692, -0.15478516, 0.06732178, -0.023620605, 0.05050659, -0.012863159, -0.022705078, -0.040618896, -0.018508911, -0.016647339, 0.056121826, 0.025222778, -0.027862549, -0.0262146, -0.02432251, -0.03012085, 0.001584053, 0.014183044, 0.035491943, -0.03778076, 0.0044937134, 0.0005106926, -0.021469116, 0.116760254, -0.016998291, 0.054840088, 0.04776001, -0.022140503, -0.011642456, 0.0060424805, 0.013648987, 0.011749268, 0.047668457, -0.015899658, -0.025787354, 0.0023155212, -0.031051636, 0.018966675, -0.02444458, -0.03491211, 0.017791748, -0.002986908, 0.088012695, -0.07446289, 0.025787354, 0.014305115, -0.014762878, 0.04953003, -0.019989014, -0.008392334, -0.0070266724, -0.027145386, -0.06021118, -0.0015525818, -0.023254395, -0.041748047, 0.040985107, 0.014816284, -0.02508545, 0.00982666, 0.06549072, 0.025878906, -0.007133484, -0.011810303, 0.012428284, 0.018249512, 0.0049743652, 0.020111084, -0.04220581, -0.016799927, 0.013374329, -0.04663086, -0.09515381, 0.058563232, -0.007865906, -0.027374268, 0.018798828, -0.024139404, -0.012939453, -0.0033912659, 0.022918701, 0.070129395, -0.015113831, 0.045410156, -0.047210693, 0.048095703, -0.024627686, 0.041656494, -0.04547119, 0.019363403, -0.00712204, -0.012504578, -0.012794495, 0.012565613, -0.07543945, -0.03778076, -0.028762817, 0.029815674, 0.016326904, -0.06744385, -0.0390625, -0.0703125, -0.048187256, 0.014549255, -0.0033035278, 0.013755798, -0.04220581, -0.03488159, 0.013053894, -0.09283447, 0.013648987, -0.06762695, 0.07348633, -0.027633667, 0.024353027, -0.02810669, -0.04840088, 0.08081055, 0.023361206, 0.020324707, 0.008659363, -0.003780365, -0.011520386, -0.02810669, 0.00806427, 0.003534317, 0.02078247, 0.051361084, -0.008277893, -0.005306244, 0.024246216, 0.02268982, -0.0418396, -0.005844116, 0.0020046234, -0.013046265, 0.0340271, -0.0057144165, -0.1005249, 0.02178955, -0.00066280365, 0.025161743, 0.020339966, 0.030899048, 0.03086853, 0.0077552795, 0.03189087, 0.014213562, -0.012649536, -0.0035896301, 0.018371582, -0.008399963, -0.0026111603, 0.021118164, -0.036499023, -0.0029239655, 0.06298828, -0.010795593, 0.019897461, -0.036621094, -0.031585693, 0.042663574, -0.010147095, -0.013412476, -0.00055885315, 0.02720642, 0.014816284, 0.0075187683, -0.030670166, 0.03857422, -0.05206299, -0.03326416, -0.06506348, -0.022369385, -0.014755249, 0.042907715, -0.033996582, 0.017929077, 0.029525757, -0.0078086853, 0.014328003, -0.041137695, 0.011367798, 0.0030231476, -0.015525818, 0.01398468, -0.002811432, 0.00032186508, -0.09265137, -0.042236328, 0.0006570816, -0.0115356445, 0.036987305, 0.03451538, -0.009010315, -0.004383087, 0.015914917, 0.021377563, -0.012542725, -0.0024204254, 0.016601562, 0.038726807, -0.017471313, 0.047943115, -0.01637268, 0.014701843, -0.05041504, 0.02748108, 0.04711914, 0.057769775, 0.061431885, 0.014701843, -0.055999756, -0.009979248, -0.054870605, 0.037475586, 0.024475098, -0.012504578, -0.0063552856, -0.041778564, 0.022979736, -0.030014038, 0.02897644, 0.037109375, 0.022262573, 0.025115967, -0.024856567, -0.030670166, -0.049224854, -0.015640259, -0.035614014, -0.029281616, 0.036743164, -0.009422302, 0.0181427, 0.008628845, -0.019699097, 0.024414062, 0.037872314, -0.008338928, -0.027618408, -0.029220581, -0.0071907043, -0.00035738945, 0.024520874, -0.013168335, 0.018371582, 0.04425049, -0.013671875, 0.021240234, -0.01637268, -0.024047852, -0.008094788, -0.008995056, -0.03616333, 0.020767212, -0.006755829, -0.052459717, 0.033966064, -0.028671265, 0.021957397, -0.006702423, -0.062805176, 0.0038967133, 0.059295654, 0.0049209595, 0.0024681091, 0.04144287, 0.008262634, 0.011314392, -0.010444641, 0.021438599, 0.015457153, -0.012229919, 0.026351929, 0.034973145, 0.005207062, 0.04876709, 0.0021343231, -0.008934021, 0.020446777, -0.009559631, 0.0032615662, -0.086242676, -0.0064086914, -0.029251099, -0.0041389465, 0.034576416, -0.0018033981, 0.05935669, 0.012229919, 0.007888794, -0.06463623, 0.0067710876, -0.018844604, -0.017181396, 0.041625977, 0.027175903, -0.009811401, -0.029190063, 0.015579224, -0.015304565, -0.019195557, 0.0074539185, 0.021865845, 0.030670166, 0.034698486, -0.055480957, -0.055480957, 0.005504608, -0.02293396, 0.031280518, -0.025421143, -0.03643799, -0.06756592, -0.012741089, -0.0050735474, 0.025878906, 0.02128601, 0.021957397, -0.008140564, 0.026931763, -0.020568848, 0.042419434, -0.0016565323, -0.0395813, 0.0059432983, 0.005077362, 0.03463745, 0.022720337, 0.02178955, 0.0029144287, 0.049346924, 0.023880005, 0.04425049, -0.033172607, -0.06112671, 0.02909851, 0.033569336, 0.06085205, -0.025146484, -0.056793213, 0.045410156, 0.03366089, 0.044311523, -0.0016021729, 0.03488159, 0.05368042, -0.022705078, -0.0390625, -0.040008545, 0.03527832, 0.06414795, 0.0036449432, -0.01285553, -0.06427002, -0.0036678314, 0.012168884, 0.036224365, -0.0074539185, 0.006614685, 0.10168457, -0.016967773, -0.006969452, 0.031433105, 0.015419006, 0.02229309, 0.012207031, 0.022964478, -0.012382507, 0.014762878, 0.02407837, -0.0030498505, -0.02796936, 0.01083374, 0.013442993, 0.047088623, -0.026672363, -0.010803223, -0.0011644363, 0.018508911, 0.0033912659, 0.0065727234, -0.020584106, 0.02003479, 0.013465881, -0.01512146, 0.0015058517, -0.046081543, -0.04458618, -0.026626587, -0.0022335052, 0.006126404, -0.043914795, -0.029953003, 0.016906738, -0.009223938, 0.055877686, 0.013801575, 0.011474609, -0.009613037, -0.025497437, -0.041900635, -0.029510498, -0.0041007996, 0.04699707, -0.0063667297, 0.001996994, 0.050201416, -0.03378296, -0.050079346, 0.019317627, -0.008964539, 0.056610107, -0.071777344, -0.058013916, 0.012168884, 0.016677856, -0.035308838, -0.008346558, 0.068603516, 0.072387695, -0.065979004, 0.029678345, -0.012557983, -0.048461914, -0.0008134842, 0.009849548, -0.0024108887, 0.003408432, -0.022918701, -0.03543091, 9.125471e-05, 0.0385437, -0.055267334, 0.0055351257, -0.030319214, 0.006855011, 0.026519775, 0.015327454, 0.018615723, 0.019241333, -0.038269043, -0.04586792, 0.06488037, 0.038116455, -0.00030326843, -0.023040771, -0.0046195984, -0.045196533, 0.020751953, 0.032440186, 0.020767212, 0.005897522, 0.04788208, 0.0025978088, -0.1038208, 0.03277588, -0.068603516, 0.02848816, -0.04425049, -0.01953125, -0.044799805, 0.01878357, 0.0004723072, -0.0046653748, -0.026168823, 0.0051994324, -0.0008764267, 0.02078247, 0.018798828, 0.050628662, -0.046569824, 0.019042969, -0.0039253235, -0.01083374, 0.044830322, 0.009338379, -0.019683838, 0.017929077, 0.038635254, 0.0040397644, -0.03173828, -0.00029087067, -0.039642334, -0.031951904, -0.014755249, -0.05368042, -0.056793213, 0.027420044, 0.0020961761, 0.015403748, -0.010070801, -0.06555176, -0.034576416, 0.04660034, -0.02293396, -0.012672424, 0.0064697266, 0.043395996, 0.027938843, -0.020111084, 0.015335083, -0.0635376, -0.036621094, 0.0028591156, -0.060699463, 0.0011901855, 0.051330566, 0.0847168, -0.070129395, 0.012191772, 0.041229248, -0.019195557, 0.07080078, 0.0072135925, -0.07086182, 0.015434265, 0.036743164, 0.03451538, -0.025909424, 0.07373047, -0.0101623535, -0.036834717, -0.03994751, -0.0034389496, -0.021850586, -0.005088806, -0.041107178, 0.019012451, -0.04638672, 0.040130615, 0.0062332153, -0.1005249, 0.010749817, -0.025375366, 0.010505676, -0.015434265, 0.0015993118, -0.04953003, -0.021697998, -0.035369873, 0.037109375, -0.05734253, -0.014663696, 0.072631836, 0.017196655, 0.029891968, 0.01322937, 0.029159546, 0.04574585, 0.07330322, -0.0008382797, -0.012168884, 0.010932922, -0.0058555603, -0.027069092, 0.062194824, 0.07543945, 0.027496338, -0.018081665, 0.028793335, 0.025482178, 0.003545761, -0.0015268326, -0.04449463, -0.0003888607, -0.04458618, 0.020187378, -0.04272461, -0.0059890747, 0.025680542, -0.05142212, 0.015731812, 0.006904602, -0.0602417, 0.011749268, -0.022949219, -0.0068473816, -0.00025367737, -0.016403198, 0.017196655, 0.012046814, 0.02331543, 0.022415161, 0.0013217926, 0.010185242, -0.0050315857, 0.017929077, 0.052764893, -0.006614685, -0.019042969, -0.037963867, 0.0008573532, -0.03564453, 0.00016236305, -0.070739746, -0.061584473, -0.03250122, -0.023086548, 0.012374878, -0.027420044, -0.015838623, -0.035369873, 0.041168213, -0.02645874, 0.062286377, 0.029403687, 0.054351807, -0.02810669, 0.03729248, 0.03918457, -0.003145218, 0.036895752, 0.02998352, -0.0032920837, -0.02658081, -0.021118164, 0.039489746, -0.010864258, 0.054626465, 0.010437012, 0.023834229, -0.010192871, -0.076660156, -0.041137695, 0.034454346, 0.022964478, -0.05429077, -0.03567505, -0.03741455, 0.00016856194, -0.0054740906, 0.06427002, -0.061676025, -0.021453857, 0.021820068, 0.008148193, -0.020935059, -0.0602417, 0.023071289, -0.04348755, -0.03189087, -0.018325806, -0.057434082, -0.024673462, -0.019134521, -0.050323486, 0.049804688, 0.009681702, 0.023422241, -0.0007929802, -0.03817749, -0.014785767, 0.053009033, 0.018936157, -0.038146973, 0.008956909, 0.0031204224, -0.015037537, 0.0051879883, -0.05303955, 0.020080566, -0.009788513, 0.04776001, 0.10406494, 0.045684814, 0.01612854, 0.009033203, 0.013633728, 0.0059165955, -0.012916565, 0.008163452, -0.010437012, -0.038116455], [-0.02835083, 0.053619385, -0.17797852, -0.06970215, 0.030517578, -0.056365967, -0.042785645, -0.022140503, -0.042877197, -0.024108887, -0.024032593, 0.019927979, 0.091552734, 0.03643799, 0.031463623, -0.025787354, -0.010902405, -0.007949829, 0.013763428, 0.0085372925, -0.047027588, 0.011924744, 0.022109985, -0.042236328, 0.101623535, -0.012886047, 0.020233154, 0.015419006, -0.05984497, -0.017089844, 0.030517578, -0.020645142, 0.0070343018, -0.08148193, -0.028869629, -0.076171875, 0.02357483, 0.029891968, -0.032318115, 0.019973755, -0.020614624, 0.043182373, -0.0009899139, 0.005634308, 0.036865234, -0.009963989, 0.03805542, -0.019836426, 0.095947266, -0.036499023, 0.017578125, 0.0013475418, -0.04244995, -0.006164551, 0.058898926, 0.055480957, -0.029815674, 0.025970459, -0.039611816, -0.056884766, 0.05154419, 0.0692749, -0.050720215, 0.11022949, 0.046783447, -0.0050239563, -0.045135498, 0.06402588, 0.0009031296, -0.07525635, 0.00881958, -0.019470215, 0.03475952, 0.05697632, -0.05178833, -0.012680054, -0.007972717, -0.011390686, -0.007575989, 0.043182373, 0.009643555, -0.0020580292, 0.04837036, -0.020065308, 0.014144897, 0.000667572, -0.00793457, 0.02696228, -0.04812622, 0.111694336, 0.014007568, 0.009994507, 0.014099121, -0.00056791306, -0.089904785, 0.0758667, -0.0070648193, 0.021697998, -0.052703857, -0.016174316, -0.059692383, 0.011131287, -0.015655518, 0.02909851, 0.03289795, -0.016952515, -0.026031494, 0.011619568, -0.0129852295, 0.01777649, -0.00027894974, 0.017303467, -0.0009174347, 0.003490448, -0.0049362183, -0.042144775, 0.047973633, -0.02418518, 0.044555664, 0.036254883, -0.020553589, -0.023422241, 0.008506775, 0.039398193, 0.046966553, 0.041503906, -0.06549072, 0.019317627, -0.01828003, -0.0769043, 0.0016059875, 0.011238098, -0.057495117, -0.011138916, 0.0027923584, 0.06530762, -0.08746338, 0.019317627, 0.0047340393, 0.034088135, 0.023040771, 0.017181396, -0.0011615753, -0.04397583, -0.005378723, -0.08062744, 0.019622803, 0.006160736, -0.0037269592, 0.023605347, 0.037017822, 0.003238678, -0.005596161, 0.01939392, 0.0256958, 0.0011091232, -0.0053520203, -0.008277893, 0.023757935, 0.0076408386, 0.01134491, -0.037475586, 0.014755249, 0.048583984, -0.05657959, -0.06359863, 0.06335449, 0.029815674, 0.01423645, 0.0758667, -0.06036377, -0.019195557, 0.01033783, 0.001127243, 0.027526855, -0.025512695, 0.04473877, -0.023483276, -0.016326904, -0.02746582, 0.023956299, -0.042663574, 0.026016235, -0.004131317, -0.03427124, 0.0041656494, 0.007949829, -0.016174316, -0.0015659332, -0.06506348, 0.029556274, 0.01612854, -0.021347046, -0.035095215, -0.04876709, -0.04260254, 0.03503418, -0.009635925, 0.015403748, -0.025787354, -0.04888916, 0.01713562, -0.10266113, 0.0552063, -0.038970947, 0.045318604, -0.0231781, 0.004360199, -0.002691269, -0.02670288, 0.04812622, 0.00447464, -0.03857422, 0.007045746, 0.039001465, 0.01890564, 0.013916016, -0.018798828, 0.0019874573, -0.016830444, 0.07928467, 0.018920898, -0.013015747, 0.003440857, 0.017837524, -0.050201416, -0.06762695, -0.010307312, -0.014831543, 0.0013465881, 0.008560181, -0.055725098, 0.026016235, 0.0104522705, 0.020080566, 0.03463745, 0.024642944, 0.04623413, -0.00491333, 0.023162842, -0.0039596558, -0.00015950203, -0.017486572, 0.0035800934, -0.037017822, -0.010559082, -0.022354126, -0.05203247, -0.012489319, 0.055725098, -0.0546875, -0.025527954, -0.022720337, 0.010360718, 0.012245178, -0.016296387, -0.012260437, 0.0015382767, 0.03552246, -0.005256653, 0.009338379, -0.012359619, 0.040618896, -0.038482666, 0.0057907104, -0.047607422, -0.012397766, -0.026473999, 0.033447266, -0.006587982, 0.0107040405, 0.0236969, -0.012207031, 0.009338379, 0.013061523, 0.013580322, -0.018814087, -0.011543274, -0.023239136, 0.023651123, -0.031021118, -0.03579712, -0.034698486, 0.024978638, -0.04333496, 0.05911255, 0.031173706, 0.008674622, 0.039154053, 0.027160645, 0.03253174, -0.035980225, -0.027694702, 0.029052734, -0.016067505, -0.042236328, 0.08270264, -0.02709961, 0.044952393, -0.027618408, 0.031555176, 0.034484863, 0.05105591, 0.0065231323, 0.027191162, -0.0390625, 0.028533936, -0.023468018, 0.06817627, 0.050628662, -0.045898438, -0.014884949, -0.034698486, 0.017059326, -0.04272461, 0.010513306, 0.060058594, 0.00982666, 0.04220581, -0.03302002, 0.016326904, -0.06036377, -0.02748108, -0.06439209, 0.024902344, 0.05419922, -0.030029297, 0.0064926147, 0.01348114, -0.031799316, 0.03152466, 0.014961243, 0.025726318, -0.029434204, -0.014984131, 0.004184723, -0.03656006, 0.014129639, 0.009338379, 0.0703125, 0.0418396, -0.010154724, 0.051727295, -0.032348633, -0.0546875, -0.016525269, -0.013710022, -0.023971558, 0.024215698, 0.011856079, -0.04156494, 0.0362854, -0.0054397583, -8.8095665e-05, 0.029052734, -0.051574707, 0.06097412, 0.02609253, 0.015945435, 0.030197144, 0.04272461, 0.026031494, 0.015823364, -0.028533936, 0.0005726814, 0.03060913, 0.030197144, 0.029693604, 0.034118652, -0.008293152, 0.043640137, -0.017288208, -0.004638672, 0.051483154, 0.0035915375, -0.0033626556, -0.11694336, -0.049560547, -0.026275635, -0.006839752, 0.02178955, -0.009338379, 0.043029785, -0.008407593, 0.017410278, 0.0053138733, 0.02520752, -0.022384644, 0.018966675, 0.0035648346, -0.037475586, -0.03289795, -0.062316895, 0.028152466, 0.009292603, -0.01272583, -0.00045752525, 0.03366089, 0.045806885, 0.060760498, -0.051574707, -0.055877686, -0.01550293, -0.04260254, 0.022964478, 0.015777588, -0.012466431, -0.044555664, 0.013412476, 0.00598526, 0.010131836, -0.014472961, 0.007820129, -0.021530151, 0.028259277, 0.005554199, 0.023071289, 0.0066719055, -0.04333496, 0.017913818, 0.016586304, 0.074035645, 0.01638794, 0.015258789, 0.029586792, 0.021743774, 0.010398865, 0.068115234, 0.018966675, -0.050628662, 0.0043678284, 0.035949707, 0.01499939, -0.038024902, -0.045776367, -0.0085372925, 0.025787354, 0.009597778, 0.0066604614, 0.042266846, 0.03262329, -0.049560547, -0.068359375, -0.029067993, 0.031951904, 0.08441162, 0.066467285, -0.023162842, -0.06994629, 0.024215698, 0.005493164, -0.008216858, -0.027618408, 0.051849365, 0.06951904, -0.0032844543, -0.023071289, -0.0034275055, 0.042785645, -0.010971069, 0.0044021606, -0.0003528595, -0.02041626, 0.0024642944, 0.014007568, -0.013748169, -0.015045166, -0.022705078, 0.031463623, 0.08538818, -0.005531311, 0.010299683, 0.015472412, -0.021484375, -0.012275696, 0.034820557, -0.011276245, -0.02067566, 0.043273926, 0.008918762, 0.01586914, 0.00088500977, -0.04901123, -0.046539307, -0.009025574, 0.0058174133, -0.014434814, -0.01600647, 0.008216858, 0.016723633, 0.02909851, 0.05203247, 0.020751953, 0.0056419373, -0.009513855, -0.05456543, -0.034240723, -0.01574707, 0.032592773, 0.0018091202, -0.008071899, 0.07342529, 0.014892578, 0.013687134, 0.035827637, -0.038085938, 0.024536133, -0.059814453, -0.03515625, 0.019577026, 0.036132812, 0.0103302, -0.02619934, -0.02748108, 0.049072266, -0.046173096, 0.049072266, 0.007904053, -0.034973145, -0.0007548332, -0.03060913, -0.020996094, -0.013023376, -0.0026569366, -0.049743652, 0.026367188, 0.050720215, -0.038238525, -0.00969696, -0.023849487, 0.038360596, 0.0143585205, -0.043395996, -0.023269653, 0.049224854, -0.06512451, -0.045166016, 0.039489746, 0.025634766, 0.02357483, -0.03024292, 0.011505127, -0.0067367554, 0.013557434, 0.013801575, -0.006351471, -0.045410156, 0.066711426, -0.012756348, -0.06335449, 0.04888916, -0.07904053, -0.0030975342, -0.033203125, 0.019134521, -0.07086182, -0.009124756, -0.027114868, -0.0082473755, -0.030761719, 0.022613525, -0.00025892258, 0.088012695, 0.03768921, 0.01902771, -0.03930664, 0.0005030632, -0.006072998, 0.026428223, 0.044647217, -0.01133728, -0.048065186, -0.007888794, 0.02619934, -0.0028762817, -0.025817871, 0.003332138, -0.021560669, -0.020843506, -0.016677856, -0.02017212, -0.06762695, 0.048614502, 0.0020008087, 0.017532349, 0.009536743, -0.058258057, -0.045928955, 0.014793396, -0.03286743, -0.0385437, 0.04949951, 0.031036377, -0.0041007996, -0.005256653, 0.02684021, -0.057647705, 0.006263733, 0.011398315, -0.05496216, 0.021530151, 0.016067505, 0.064941406, -0.044311523, -0.026016235, 0.072265625, 0.0075569153, 0.042053223, 0.010131836, -0.018997192, 0.021484375, 0.040740967, 0.0052108765, -0.033843994, 0.024108887, -0.0021972656, 0.03970337, -0.049468994, 0.027297974, -0.0209198, -0.0011854172, -0.08026123, 0.020492554, -0.015838623, 0.0024662018, 0.01449585, -0.06970215, -0.016098022, -0.039245605, 0.049224854, -0.037261963, 0.0065307617, -0.041229248, -0.05419922, -0.061035156, 0.007247925, -0.020263672, 0.006149292, 0.05819702, 0.032470703, 0.00019478798, 0.0070648193, 0.022613525, 0.05706787, 0.08544922, -0.015045166, -0.028640747, 0.036254883, -0.007575989, 0.013221741, 0.06756592, 0.057037354, 0.029190063, -0.00096321106, -0.00894165, -0.02217102, 0.021438599, -0.017181396, -0.076660156, 0.014663696, -0.003917694, 0.006729126, -0.030456543, -0.022476196, 0.0077285767, -0.009902954, -0.014144897, -0.0002808571, -0.03665161, -0.006034851, 0.05630493, -0.007671356, 0.02178955, -0.038391113, -0.010925293, 0.035217285, 0.034454346, 0.02748108, -0.0049934387, 0.015419006, -0.008560181, 0.026901245, 0.07739258, -0.028320312, 0.0064811707, -0.039855957, 0.020385742, -0.013153076, -0.008773804, -0.09118652, -0.03463745, -0.03503418, 0.010948181, -0.04135132, 0.0045547485, -0.01083374, -0.016036987, 0.008171082, -0.06451416, 0.06109619, -0.017807007, 0.033447266, 0.0036697388, 0.032348633, 0.038604736, 0.004295349, 0.008590698, 0.01033783, 0.010131836, -0.03970337, -0.05493164, 0.049438477, -0.010910034, 0.059570312, -0.024642944, 0.0046195984, -0.030654907, -0.06921387, -0.018707275, 0.009017944, 0.030883789, -0.04083252, -0.041259766, -0.021057129, -0.04135132, -0.032989502, 0.033477783, -0.038726807, -0.021560669, -0.004463196, -0.0070648193, 0.013580322, -0.059692383, 0.07110596, -0.03878784, -0.016296387, -0.034484863, -0.012908936, -0.02772522, -0.030822754, -0.03338623, 0.07128906, 0.0061836243, -0.011978149, -0.004760742, 0.008903503, -0.040893555, 0.020889282, 0.011276245, 0.0053596497, 0.029647827, 0.018463135, 0.035491943, -0.026504517, -0.009613037, 0.0038967133, -0.03503418, 0.05697632, 0.13378906, 0.031036377, 0.004562378, 0.0013237, -0.002922058, -0.030227661, -0.016433716, 0.024856567, -0.02859497, -0.039916992], [-0.009269714, -0.04559326, -0.17297363, -0.031982422, 0.025939941, -0.06951904, -0.027633667, -0.010047913, 0.018173218, -0.052642822, -0.024093628, 0.0574646, 0.04373169, 0.014434814, 0.033477783, -0.05368042, 0.031341553, -0.04449463, 0.015777588, 0.017990112, -0.022232056, -0.013145447, -0.029006958, -0.07141113, 0.057281494, 0.04373169, 0.03250122, -0.00014746189, -0.073791504, -0.045166016, 0.009841919, 0.00032258034, -0.0231781, -0.043945312, -0.05847168, -0.04925537, 0.08648682, -0.02810669, -0.047027588, 0.008705139, 0.059265137, 0.008293152, -0.019088745, -0.002954483, 0.07165527, -0.027236938, 0.035827637, 0.03866577, 0.08728027, -0.068359375, 0.0066719055, -0.032226562, -0.037963867, 0.03515625, 0.048339844, 0.0680542, -0.010009766, -0.00699234, 0.0340271, -0.07739258, 0.11242676, 0.054351807, -0.025787354, 0.1027832, 0.059509277, 0.0021266937, -0.010810852, 0.057281494, -0.015052795, -0.027297974, 0.032989502, 0.0024776459, 0.032592773, -2.771616e-05, -0.018447876, -0.0028095245, -0.042938232, -0.028961182, 0.00198555, 0.036499023, 0.021942139, -0.0015106201, 0.051757812, -0.012252808, 0.017318726, -0.018615723, -0.03390503, 0.024932861, -0.061523438, 0.08648682, 0.011459351, -0.005077362, 0.020233154, -0.022415161, -0.117004395, 0.04296875, -0.046813965, 0.0075645447, -0.033843994, -0.054870605, -0.07397461, -0.009254456, -0.012619019, 0.013847351, 0.053771973, 0.042510986, -0.0418396, 0.0010471344, -0.020263672, 0.0033359528, -0.025466919, -0.00041031837, -0.043182373, -0.011932373, 0.026153564, -0.021713257, 0.084228516, -0.008033752, 0.037475586, 0.06201172, -0.03378296, -0.03866577, 0.038879395, 0.037109375, 0.035949707, 0.01751709, -0.047027588, 0.008972168, -0.025299072, -0.06262207, 0.019439697, -0.0067825317, -0.03869629, 0.023483276, 0.008926392, 0.07501221, -0.058685303, 0.029968262, 0.024978638, -0.03488159, 0.06286621, 0.010948181, 0.0418396, 0.0035514832, 0.005630493, -0.05001831, 0.020019531, -0.015052795, -0.029907227, 0.04675293, 0.01398468, -0.011909485, 0.017623901, 0.044525146, -0.006767273, -0.014884949, -0.004043579, -0.038330078, 0.046844482, 0.009773254, 0.014907837, -0.035736084, -0.02897644, 0.055603027, -0.044677734, -0.049041748, 0.028671265, 0.035308838, 0.02420044, 0.061279297, -0.056518555, -0.022460938, 0.002696991, 0.010917664, 0.059143066, -0.019500732, 0.028671265, -0.020019531, 0.03842163, -0.070617676, 0.0256958, -0.06286621, 0.05706787, 0.0032615662, -0.013954163, -0.0028324127, -0.02407837, -0.035186768, 0.004337311, -0.05090332, 0.010726929, 0.028869629, -0.04257202, -0.05355835, -0.039398193, -0.03970337, 0.040618896, -0.038238525, 0.013389587, -0.00932312, -0.0054626465, 0.0335083, -0.08898926, 0.037078857, -0.025360107, 0.02822876, -0.018936157, 0.0040626526, 0.018203735, -0.03451538, 0.070617676, -0.023880005, -0.018966675, 0.0026893616, 0.024276733, 0.012893677, 0.019165039, -0.018371582, 8.4877014e-05, 0.055999756, 0.06072998, -0.00084877014, -0.008590698, -0.036895752, 0.006542206, -0.04071045, -0.007019043, 0.020111084, 0.006790161, -0.030929565, -0.030807495, -0.08355713, 0.0046081543, 0.03250122, 0.035308838, -0.01448822, 0.02458191, 0.050842285, -0.024932861, 0.036834717, 0.006778717, 0.012481689, 0.0008029938, 0.048919678, -0.020614624, -0.0020809174, 0.030654907, -0.01763916, -0.002401352, 0.043426514, 0.0063934326, 0.020721436, 0.033691406, 0.02406311, 0.016540527, -0.02078247, -0.08074951, 0.010787964, 0.036132812, -0.039367676, 0.03262329, 0.016647339, 0.06286621, -0.03665161, -0.014083862, -0.054992676, -0.02243042, 0.0055389404, -0.015991211, 0.031402588, 0.040618896, 0.024978638, 0.0042648315, 0.05041504, -0.051971436, 0.034576416, 0.012718201, -0.04220581, -0.0015439987, 0.023361206, -0.031982422, -0.062316895, -0.03881836, 0.006767273, -0.03326416, 0.0435791, 0.0124435425, -0.003929138, 0.04046631, 0.0025730133, 0.02645874, -0.009239197, -0.047424316, 0.026672363, -0.002527237, -0.03111267, 0.05645752, -0.0072898865, -0.0055618286, -0.02671814, 0.017059326, 0.015319824, 0.06201172, 0.036224365, -0.0038814545, -0.015235901, 0.017623901, -0.010925293, 0.09588623, 0.029296875, -0.02784729, 0.039978027, -0.040618896, 0.037017822, -0.060638428, 0.066467285, 0.015266418, 0.020385742, 0.056427002, -0.047912598, 0.005645752, -0.04638672, -0.017990112, -0.050323486, 0.009414673, 0.027877808, -0.003479004, 0.026931763, 0.009841919, -0.02104187, 0.042877197, 0.03262329, -0.027923584, -0.0519104, -0.006351471, 0.0065231323, -0.033416748, 0.012565613, -0.008171082, 0.05041504, 0.0625, 0.034057617, -0.0068092346, -0.010620117, -0.012138367, -0.026885986, -0.024658203, -0.0052757263, -0.0045280457, -0.013938904, -0.067993164, 0.03881836, -0.035736084, -0.015289307, -0.0062408447, -0.057922363, 0.016403198, 0.05859375, 0.015357971, -0.022109985, 0.037597656, -0.01235199, 0.024108887, -0.0048599243, -0.030258179, 0.026275635, 0.051757812, 0.03982544, 0.061401367, 0.008308411, 0.044525146, -0.053131104, 0.014579773, 0.021011353, 0.0013828278, 0.01574707, -0.083740234, -0.034057617, -0.05960083, 0.024993896, 0.028305054, -0.0036392212, 0.01940918, 0.0055274963, -0.0037765503, -0.031555176, 0.0073509216, -0.045288086, 0.013534546, -0.0029392242, 0.00024437904, -0.02935791, -0.04031372, 0.0317688, 0.03491211, -0.045654297, 0.04348755, 0.037139893, 0.025939941, 0.05218506, -0.05831909, -0.0635376, -0.008033752, 0.0044403076, 0.031143188, 0.06427002, -0.048797607, -0.019897461, 0.020492554, 0.0065956116, -0.008392334, 0.011543274, 0.009773254, -0.020446777, -0.00969696, -0.010406494, 0.076660156, -0.008392334, -0.058380127, 0.00497818, 0.021118164, 0.06451416, -0.0049476624, 0.0014133453, 0.0127334595, 0.050048828, 0.01966858, -0.008232117, 0.028137207, -0.05126953, -0.010848999, 0.037353516, 0.026611328, 0.0005097389, -0.070739746, -0.028137207, 0.046875, 0.027954102, 0.03491211, 0.010147095, 0.035461426, -0.050750732, -0.038909912, -0.034729004, 0.007774353, 0.09057617, 0.00198555, -0.016906738, -0.03955078, 0.018051147, -0.0030345917, -0.017471313, 0.024658203, -0.00090551376, 0.08935547, -0.05053711, 0.02293396, 0.01977539, 0.006023407, 0.029251099, 0.024246216, 0.0154418945, -0.00060129166, 0.020706177, 0.015464783, -0.010604858, 0.026367188, -0.027694702, 0.01158905, 0.109375, -0.01335907, -0.016418457, 0.01826477, -0.05041504, -0.015975952, -0.021484375, -0.022018433, 0.021209717, 0.005405426, 0.023849487, 0.032348633, -0.018310547, -0.058410645, -0.074035645, 0.02645874, 0.0018424988, 0.028823853, -0.022994995, 0.018676758, -0.010360718, -0.006137848, 0.036499023, -0.0059318542, -0.00015592575, -0.028289795, -0.015975952, -0.05480957, 0.034301758, 0.06286621, 0.008728027, 0.055664062, 0.012763977, -0.006416321, -0.011528015, 0.0021953583, -0.051849365, 0.038208008, -0.064575195, -0.028747559, -0.021240234, 0.014579773, 0.03994751, 0.0004119873, 0.03970337, 0.0385437, -0.04345703, 0.03869629, 0.009017944, -0.049041748, 0.01777649, -0.03756714, -0.043151855, -0.0067100525, -0.020233154, -0.022476196, 0.009414673, 0.0005979538, -0.011383057, -0.0060768127, -0.023162842, 0.0061035156, 0.04736328, 0.0047416687, -0.0051994324, 0.02067566, -0.024917603, -0.028793335, 0.038360596, -0.002729416, 0.018493652, -0.0256958, 0.0025520325, -0.035308838, -0.006290436, 0.036376953, 0.0019235611, -0.019439697, 0.047668457, -0.00067567825, -0.06185913, 0.04949951, -0.01322937, -0.011184692, -0.020065308, 0.018203735, -0.046569824, 0.0046691895, -0.03086853, -0.023651123, -0.04156494, 0.009010315, -0.0095825195, 0.055480957, 0.024139404, 0.029647827, -0.037750244, -0.0019369125, -0.02003479, 0.011367798, 0.035705566, -0.02168274, -0.0357666, -0.029312134, -0.007537842, -0.012138367, -0.0047912598, 0.013648987, -0.030578613, -0.05117798, 0.0012283325, -0.033233643, -0.046173096, 0.009712219, 0.030593872, -0.010147095, -0.008903503, -0.03640747, -0.03945923, 0.05065918, -0.03189087, -0.040893555, 0.03152466, 0.015640259, -0.002319336, -0.024139404, 0.039520264, -0.05291748, 0.0008029938, -0.003452301, -2.026558e-05, 0.0034885406, 0.016815186, 0.0647583, -0.06567383, -0.021606445, 0.008422852, -0.032470703, 0.033294678, -0.0037117004, -0.046417236, 0.017410278, 0.0065841675, 0.04812622, -0.0034713745, 0.042419434, -0.014953613, 0.017822266, 0.001572609, 0.015350342, -0.056915283, 0.0008854866, -0.027877808, 0.014335632, -0.046813965, 0.0050354004, 0.03100586, -0.04232788, -0.06109619, -0.024276733, 0.039093018, -0.0028419495, 0.016845703, -0.064819336, -0.07019043, -0.019500732, 0.026901245, -0.036621094, 0.0032482147, -0.021713257, 0.031097412, 0.023284912, -0.008758545, 0.019500732, 0.032562256, 0.045318604, -0.030700684, 0.0256958, 0.08190918, 0.02507019, -0.030670166, 0.09918213, 0.046844482, 0.046844482, 8.3744526e-05, 0.0064201355, -0.009635925, 0.02192688, -0.028640747, -0.07104492, -0.024459839, -0.013114929, -0.027160645, -0.014671326, -0.017074585, 0.009269714, -0.050811768, -0.04244995, 0.027542114, -0.021514893, -0.051208496, -0.00046396255, -0.003627777, 0.004009247, -0.0149383545, -0.011711121, 0.025436401, 0.006839752, 0.034698486, -0.018417358, -2.0682812e-05, 0.022125244, 0.007633209, 0.03491211, -0.018875122, -0.0027008057, -0.005168915, 0.050323486, -0.051086426, -0.011756897, -0.06939697, -0.010887146, -0.039367676, -0.004802704, -0.021621704, 0.024124146, 0.012458801, -0.026168823, 0.0036563873, -0.082092285, 0.034301758, -0.04046631, 0.059509277, 0.0071105957, 0.02319336, 0.015716553, 0.0074920654, -0.0018205643, -0.0032234192, -0.009254456, -0.04324341, -0.021377563, 0.01689148, -0.009414673, 0.08404541, -0.009101868, 0.038635254, -0.023849487, -0.05050659, 0.022247314, 0.022567749, 0.015411377, -0.0063056946, -0.026000977, -0.03463745, 0.0013694763, -4.1365623e-05, 0.0065307617, -0.03591919, -0.04663086, 0.023284912, 0.0154953, -0.010864258, -0.0881958, 0.05493164, -0.0017118454, 0.011924744, -0.011245728, -0.016784668, -0.008392334, -0.04067993, -0.05633545, 0.058624268, 0.024383545, 0.066467285, -0.0052337646, -0.019638062, -0.060943604, 0.0124435425, 0.009773254, -0.024093628, 0.010391235, 0.017745972, 0.0023021698, 0.0112838745, -0.048675537, 0.023422241, -0.0006222725, 0.06512451, 0.117248535, 0.020980835, -0.0054244995, -0.024459839, 0.048614502, 0.0008749962, 0.00095558167, 0.0021190643, -0.033477783, -0.026794434], [-0.027160645, -0.024520874, -0.16796875, -0.042175293, 0.016586304, -0.05545044, -0.01802063, -0.029006958, -0.033416748, -0.051727295, -0.033294678, 0.038635254, 0.03768921, 0.0043029785, 0.053649902, -0.04019165, 0.017364502, -0.053100586, 0.023757935, 0.009284973, -0.021759033, -0.011276245, -0.06689453, -0.066589355, 0.082214355, 0.019622803, 0.021987915, -0.019363403, -0.06085205, -0.034698486, 0.0079574585, -0.03967285, -0.02545166, -0.039916992, -0.033813477, -0.09033203, 0.05117798, -0.0018634796, -0.07116699, 0.047058105, 0.023086548, 0.024734497, -0.0022697449, -0.00046038628, 0.032440186, -0.031799316, 0.014541626, 0.02494812, 0.08477783, -0.072631836, 0.009689331, -0.031341553, -0.037628174, 0.033081055, 0.072631836, 0.031082153, 0.010940552, -0.040008545, -0.014595032, -0.021133423, 0.14331055, 0.057922363, -0.011398315, 0.09832764, 0.06060791, -0.016403198, -0.015304565, 0.030548096, 0.0029067993, -0.017974854, 0.04446411, -0.008514404, 0.027862549, -0.046783447, -0.035736084, -0.04095459, -0.034210205, -0.03375244, 0.019699097, 0.039276123, -0.0042381287, 0.009643555, 0.064453125, -0.0077819824, 0.015670776, 0.008224487, -0.039642334, 0.012268066, -0.068115234, 0.07989502, 0.041748047, -0.025543213, 0.016143799, -0.026229858, -0.113708496, 0.030227661, -0.01146698, 0.011543274, -0.004245758, -0.0440979, -0.073913574, -0.020217896, 0.021209717, 0.009803772, 0.039642334, 0.06524658, 0.020217896, -0.0020542145, -0.0010509491, 0.0015363693, -0.02999878, 0.041259766, -0.041412354, 0.012420654, 0.0057525635, -0.036102295, 0.095336914, -0.0126571655, 0.054138184, 0.05834961, -0.043823242, -0.01751709, 0.0067329407, 0.020965576, -0.00021123886, 0.02217102, -0.05908203, 0.012001038, 0.01737976, -0.054504395, -0.004306793, 0.004840851, -0.047668457, 0.023269653, 0.009864807, 0.09240723, -0.042816162, 0.0054473877, 0.057678223, -0.012771606, 0.023651123, -0.0049552917, 0.01663208, -0.0055885315, 0.015083313, -0.072265625, 0.016479492, -0.0057754517, -0.007648468, 0.036590576, 0.010536194, 0.0051002502, 0.0052833557, 0.039123535, 0.006713867, -0.008117676, -0.00484848, -0.03543091, 0.036956787, 0.01977539, 0.0070648193, -0.02760315, -0.03729248, 0.046539307, -0.06317139, -0.048980713, 0.031921387, 0.048187256, 0.010063171, 0.04425049, -0.027374268, -0.006954193, -0.025527954, -0.0061683655, 0.062164307, -0.011962891, 0.0014076233, -0.0011291504, 0.036621094, -0.046966553, 0.001958847, -0.061553955, 0.025894165, 0.02406311, -0.047302246, -0.0048332214, -0.02267456, -0.039794922, -0.007106781, -0.024154663, -0.008010864, 0.060699463, -0.033447266, -0.039978027, -0.048828125, -0.03201294, 0.039916992, -0.019180298, 0.019897461, -0.029876709, -0.052703857, 0.008583069, -0.06951904, 0.033935547, -0.044799805, 0.026977539, 0.012397766, 0.025238037, 0.0151901245, -0.0025920868, 0.064697266, -0.030883789, -0.009849548, -0.0049858093, 0.029312134, 0.0019626617, 0.012176514, -0.029067993, -0.016983032, 0.059814453, 0.045043945, -0.0018358231, 0.0015716553, -0.025100708, 0.02268982, -0.039764404, -0.031707764, -0.012886047, -0.018829346, 0.0027236938, -0.022750854, -0.10424805, 0.02947998, 0.037139893, 0.011054993, -0.008880615, -0.0020866394, 0.044891357, 0.0044670105, 0.019302368, 0.0075569153, -0.009094238, 0.029342651, 0.029296875, -0.031555176, 0.01171875, 0.0032138824, -0.024765015, 0.0067367554, 0.05886841, 0.0026855469, 0.015007019, 0.022277832, 0.036834717, 0.02017212, -0.0048713684, -0.03564453, 0.009635925, 0.038269043, -0.025405884, 0.011756897, 0.0032405853, 0.0647583, -0.041992188, -0.0015115738, -0.01499939, -0.02935791, 0.035980225, 0.0031261444, 0.015510559, 0.019012451, 0.0054244995, -0.0023517609, 0.03643799, -0.025894165, 0.042144775, 0.02822876, -0.029464722, -0.0026988983, 0.038970947, -0.018249512, -0.088378906, -0.019363403, 0.0039978027, -0.031433105, 0.04095459, -0.02330017, 0.025100708, 0.059387207, 0.009918213, 0.031921387, -0.019989014, -0.030670166, 0.016586304, 0.019485474, -0.027160645, 0.06707764, 0.04699707, 0.001200676, -0.03781128, 0.02746582, 0.033691406, 0.05026245, 0.0059814453, -0.031799316, -0.0154800415, 0.033203125, 0.008056641, 0.068115234, 0.053497314, -0.03262329, 0.03363037, -0.012084961, 0.03326416, -0.065979004, 0.037017822, 0.022338867, 0.012908936, 0.019363403, -0.020690918, 0.023529053, -0.043640137, -0.046844482, -0.08306885, -0.010368347, 0.010223389, -0.02859497, 0.030883789, 0.02029419, -0.018341064, 0.025009155, 0.04837036, -0.020904541, -0.039398193, 0.023010254, 0.0079422, -0.016433716, 0.02798462, -0.018569946, 0.029312134, 0.070495605, -0.0033893585, -0.0022449493, -0.002609253, -0.0090408325, -0.03970337, -0.03353882, -0.0060310364, -0.0059661865, -0.009475708, -0.029586792, 0.018676758, -0.047058105, 0.027633667, 0.037841797, -0.037139893, 0.015129089, 0.059631348, 0.04034424, -0.01828003, 0.06591797, 0.01007843, 0.014717102, 0.020874023, -0.027236938, 0.008171082, 0.04638672, 0.04788208, 0.039215088, 0.023391724, 0.05340576, -0.011306763, 0.015113831, 0.03363037, -0.034118652, -0.0060195923, -0.11273193, -0.02532959, -0.04067993, 0.041107178, 0.016967773, -0.019592285, 0.016220093, 0.013641357, 0.0045700073, -0.05480957, 0.011795044, 0.0071144104, 0.016189575, -4.529953e-06, -0.035339355, -0.04650879, -0.03439331, 0.024093628, 0.0054893494, -0.055999756, 0.04296875, 0.03201294, 0.013595581, 0.057281494, -0.08654785, -0.056152344, 0.010177612, 0.021133423, 0.008102417, 0.09613037, -0.0038261414, -0.028533936, 0.026519775, 0.021957397, 0.032104492, -0.010910034, 0.008514404, -0.015541077, 0.01461792, 0.020507812, 0.05142212, 0.005077362, -0.05657959, 0.020202637, 0.03237915, 0.041381836, 0.01713562, -0.02532959, 0.018447876, 0.022644043, 0.0463562, 0.019012451, 0.008399963, -0.054351807, -0.03451538, 0.013534546, 0.027038574, 0.005168915, -0.038879395, -0.041137695, 0.0340271, 0.015960693, 0.012840271, 0.030059814, 0.058746338, -0.07611084, -0.038848877, -0.047027588, -0.0015792847, 0.083618164, 0.019897461, -0.03225708, -0.028198242, -0.0036792755, 0.01612854, 0.0049476624, 0.012687683, -0.008094788, 0.1295166, -0.05718994, 0.04095459, 0.013916016, 0.040100098, 0.029083252, 0.025924683, 0.003107071, -0.026809692, -0.03286743, 0.017105103, -0.013877869, 0.0031642914, -0.02658081, 0.026397705, 0.09893799, -0.027053833, -0.016708374, 0.037628174, -0.033172607, 0.004196167, -0.015991211, 0.019180298, 0.026153564, 0.0051345825, -0.006790161, 0.032440186, -0.021713257, -0.07147217, -0.0602417, 0.017501831, -0.02357483, 0.009407043, -0.060455322, 0.012046814, -0.0034561157, 0.02645874, 0.048309326, -0.0074691772, 0.037078857, -0.05142212, -0.0077819824, -0.06677246, 0.04058838, 0.0418396, -0.008018494, 0.062683105, 0.0103302, 0.008041382, -0.0049438477, 0.0061912537, -0.079956055, 0.042877197, -0.045898438, -0.05999756, 0.022384644, 0.014419556, 0.04446411, -0.039794922, 0.031234741, 0.03717041, -0.042510986, 0.040863037, 0.022155762, -0.034698486, 0.032226562, -0.044433594, -0.032592773, 0.03866577, -0.0020503998, -0.019592285, -0.016479492, 0.022598267, -0.02041626, 0.004886627, -0.047912598, 0.018569946, 0.016540527, 0.0023498535, -0.021713257, 0.0021629333, -0.018936157, -0.015266418, 0.03390503, 0.010437012, 0.026123047, -0.040252686, -0.044921875, -0.012359619, -0.0043296814, 0.041809082, -0.011459351, -0.02619934, 0.046569824, -0.0013771057, -0.072753906, 0.05279541, -0.04034424, -0.018508911, -0.038391113, 0.02947998, -0.04724121, 0.028823853, -0.018371582, 0.0028953552, -0.037078857, 0.030227661, 0.011291504, 0.06512451, 0.027862549, 0.027755737, -0.051849365, -0.0047454834, -0.008895874, 0.036132812, 0.040618896, -0.023620605, -0.037261963, -0.03387451, 0.0012254715, -0.012565613, -0.0037345886, 0.04095459, -0.017868042, -0.050048828, 0.00048971176, -0.0052719116, -0.06982422, 0.018417358, 0.028823853, -0.021484375, -0.00056505203, -0.03213501, -0.035736084, 0.008407593, -0.06750488, -0.039245605, 0.018463135, 0.02078247, -0.0018358231, -0.0021457672, 0.030548096, -0.041015625, -0.0052986145, 0.000890255, -0.041259766, -0.0010614395, 0.010635376, 0.053497314, -0.03137207, -0.026367188, 0.029418945, -0.04147339, 0.02178955, -0.020431519, -0.029830933, 0.008766174, 0.014144897, 0.02947998, 0.009552002, 0.046295166, 0.005962372, -0.009170532, 0.00020802021, -0.0030651093, -0.04446411, 0.0056533813, -0.01979065, 0.043151855, -0.021270752, 0.024276733, 0.009544373, -0.037628174, -0.0574646, -0.017211914, 0.062561035, -0.016036987, 0.014038086, -0.062042236, -0.04522705, -0.045410156, 0.03289795, -0.041870117, -0.031234741, -0.01335144, 0.02078247, 0.028549194, 0.005580902, 0.013534546, 0.040771484, 0.05706787, 0.0024356842, 0.025924683, 0.041992188, 0.05316162, -0.052856445, 0.07879639, 0.052856445, 0.029525757, -0.016403198, -0.00868988, -0.018234253, 0.030441284, -0.04043579, -0.07684326, -0.009963989, -0.009933472, -0.007095337, -0.02078247, -0.032287598, 0.012802124, -0.023010254, -0.041015625, -0.014152527, -0.03781128, -0.023529053, -0.008125305, 0.014533997, 0.0012512207, -0.0033683777, 0.008377075, 0.022384644, -0.0044898987, 0.042541504, -0.041778564, -0.009315491, -0.013801575, -0.024108887, 0.015823364, -0.036376953, 0.004562378, -0.018051147, 0.05343628, -0.04043579, -0.008666992, -0.065979004, -0.021575928, -0.06762695, 0.008430481, -0.046966553, 0.035339355, 0.04034424, -0.016906738, -0.0050239563, -0.06878662, 0.04989624, -0.04611206, 0.057556152, -0.034179688, 0.046020508, 0.006626129, 0.0003490448, 0.0037708282, 0.006046295, -0.010848999, -0.04296875, -0.00094890594, 0.012687683, -0.020904541, 0.048828125, -0.0024166107, 0.049713135, 0.0033988953, -0.04650879, -0.010612488, 0.016845703, 0.030090332, 0.012336731, -0.03164673, -0.015686035, -0.005130768, -0.002380371, 0.010231018, -0.029693604, -0.033355713, 0.010124207, 0.031982422, -0.0015916824, -0.04071045, 0.054351807, -0.005996704, -0.0002465248, -0.00217247, -0.019058228, -0.027175903, -0.010559082, -0.06970215, 0.06665039, -0.027893066, 0.03942871, 0.0075645447, -0.006023407, -0.025268555, -0.0023651123, 0.039642334, -0.024414062, -0.030883789, 0.005958557, -0.012748718, 0.015808105, -0.036956787, 0.010429382, 0.020355225, 0.07208252, 0.12817383, 0.021255493, -0.004753113, 0.0068855286, 0.012748718, -0.016311646, 0.0067596436, -0.014419556, -0.024627686, -0.026824951]], node_map={'b15f9889-237d-4b42-b28a-5979569f5f14': Node(page_content='LangGraph: Multi-Agent WorkflowsSkip to contentBy LangChainRelease NotesCase StudiesLangChainGitHubDocsSign inSubscribeLangGraph: Multi-Agent WorkflowsBy LangChain6 min readJan 23, 2024LinksPython ExamplesJS ExamplesYouTubeLast week we highlighted LangGraph - a new package (available in both Python and JS) to better enable creation of LLM workflows containing cycles, which are a critical component of most agent runtimes. As a part of the launch, we highlighted two simple runtimes: one that is', metadata={'source': 'https://blog.langchain.dev/langgraph-multi-agent-workflows/', 'title': 'LangGraph: Multi-Agent Workflows', 'language': 'en', 'file_name': 'https://blog.langchain.dev/langgraph-multi-agent-workflows/'}, doc_id='b15f9889-237d-4b42-b28a-5979569f5f14', wins=4), 'ee57b68f-fdbf-4d4e-a012-01ab41c166cc': Node(page_content='we highlighted two simple runtimes: one that is the equivalent of the AgentExecutor in langchain, and a second that was a version of that aimed at message passing and chat models.Today, we\\'re excited to highlight a second set of use cases for langgraph - multi-agent workflows. In this blog we will cover:What does \"multi-agent\" mean?Why are \"multi-agent\" workflows interesting?Three concrete examples of using LangGraph for multi-agent workflowsTwo examples of third-party applications built on top', metadata={'source': 'https://blog.langchain.dev/langgraph-multi-agent-workflows/', 'title': 'LangGraph: Multi-Agent Workflows', 'language': 'en', 'file_name': 'https://blog.langchain.dev/langgraph-multi-agent-workflows/'}, doc_id='ee57b68f-fdbf-4d4e-a012-01ab41c166cc', wins=3), '7bdd7bba-39ca-4b4d-abde-8aecf5f58b07': Node(page_content='examples of third-party applications built on top of LangGraph using multi-agent workflows (GPT-Newspaper and CrewAI)Comparison to other frameworks (Autogen and CrewAI)What is \"multi-agent\"?ðŸ’¡When we are talking about \"multi-agent\", we are talking about multiple independent actors powered by language models connected in a specific way.Each agent can have its own prompt, LLM, tools, and other custom code to best collaborate with the other agents. That means there are two main considerations', metadata={'source': 'https://blog.langchain.dev/langgraph-multi-agent-workflows/', 'title': 'LangGraph: Multi-Agent Workflows', 'language': 'en', 'file_name': 'https://blog.langchain.dev/langgraph-multi-agent-workflows/'}, doc_id='7bdd7bba-39ca-4b4d-abde-8aecf5f58b07', wins=3), 'dc321d28-6a0a-481b-b18f-752d0e4c7d27': Node(page_content=\"That means there are two main considerations when thinking about different multi-agent workflows:What are the multiple independent agents?How are those agents connected?This thinking lends itself incredibly well to a graph representation, such as that provided by langgraph. In this approach, each agent is a node in the graph, and their connections are represented as an edge. The control flow is managed by edges, and they communicate by adding to the graph's state.Note: a very related concept\", metadata={'source': 'https://blog.langchain.dev/langgraph-multi-agent-workflows/', 'title': 'LangGraph: Multi-Agent Workflows', 'language': 'en', 'file_name': 'https://blog.langchain.dev/langgraph-multi-agent-workflows/'}, doc_id='dc321d28-6a0a-481b-b18f-752d0e4c7d27', wins=3), '30df4734-0c41-4c09-81cb-7c14d6ec73cc': Node(page_content='to the graph\\'s state.Note: a very related concept here is the concept of state machines, which we explicitly called out as a category of cognitive architectures. When viewed in this way, the independent agent nodes become the states, and how those agents are connected is the transition matrices. Since a state machine can be viewed as a labeled, directed graph, we will think of these things in the same way.Benefits of multi-agent designs\"If one agent can\\'t work well, then why is multi-agent', metadata={'source': 'https://blog.langchain.dev/langgraph-multi-agent-workflows/', 'title': 'LangGraph: Multi-Agent Workflows', 'language': 'en', 'file_name': 'https://blog.langchain.dev/langgraph-multi-agent-workflows/'}, doc_id='30df4734-0c41-4c09-81cb-7c14d6ec73cc', wins=1), 'afcb343b-0a8c-4fba-836d-a8e3084ab467': Node(page_content='agent can\\'t work well, then why is multi-agent useful?\"Grouping tools/responsibilities can give better results. An agent is more likely to succeed on a focused task than if it has to select from dozens of tools.Separate prompts can give better results. Each prompt can have its own instructions and few-shot examples. Each agent could even be powered by a separate fine-tuned LLM!Helpful conceptual model to develop. You can evaluate and improve each agent individually without breaking the larger', metadata={'source': 'https://blog.langchain.dev/langgraph-multi-agent-workflows/', 'title': 'LangGraph: Multi-Agent Workflows', 'language': 'en', 'file_name': 'https://blog.langchain.dev/langgraph-multi-agent-workflows/'}, doc_id='afcb343b-0a8c-4fba-836d-a8e3084ab467', wins=2), 'f5636177-473e-4589-b9ac-d25ab7f23b90': Node(page_content=\"agent individually without breaking the larger application. Multi-agent designs allow you to divide complicated problems into tractable units of work that can be targeted by specialized agents and LLM programs.Multi-agent examplesWe've added three separate example of multi-agent workflows to the langgraph repo. Each of these has slightly different answers for the above two questions, which we will go over when we highlight the examples. It's important to note that these three examples are only\", metadata={'source': 'https://blog.langchain.dev/langgraph-multi-agent-workflows/', 'title': 'LangGraph: Multi-Agent Workflows', 'language': 'en', 'file_name': 'https://blog.langchain.dev/langgraph-multi-agent-workflows/'}, doc_id='f5636177-473e-4589-b9ac-d25ab7f23b90', wins=2), 'db222c84-0c63-4dc4-b8c2-df99f6056a16': Node(page_content='to note that these three examples are only a few of the possible examples we could highlight - there are almost assuredly other examples out there and we look forward to seeing what the community comes up with!Multi Agent CollaborationCode links:PythonJSIn this example, the different agents collaborate on a shared scratchpad of messages. This means that all the work either of them do is visible to the other. This has the benefit that other agents can see all the individual steps done. This has', metadata={'source': 'https://blog.langchain.dev/langgraph-multi-agent-workflows/', 'title': 'LangGraph: Multi-Agent Workflows', 'language': 'en', 'file_name': 'https://blog.langchain.dev/langgraph-multi-agent-workflows/'}, doc_id='db222c84-0c63-4dc4-b8c2-df99f6056a16', wins=2), '88978e60-8ce3-4ce4-85f6-e50d5efcfc07': Node(page_content='can see all the individual steps done. This has the downside that sometimes is it overly verbose and unnecessary to pass ALL this information along, and sometimes only the final answer from an agent is needed. We call this collaboration because of the shared nature the scratchpad.What are the multiple independent agents?In this case, the independent agents are actually just a single LLM call. Specifically, they are a specific prompt template (to format inputs in a specific way with a specific', metadata={'source': 'https://blog.langchain.dev/langgraph-multi-agent-workflows/', 'title': 'LangGraph: Multi-Agent Workflows', 'language': 'en', 'file_name': 'https://blog.langchain.dev/langgraph-multi-agent-workflows/'}, doc_id='88978e60-8ce3-4ce4-85f6-e50d5efcfc07', wins=8), '70f03f63-2f8e-4766-aac0-18dae78332b0': Node(page_content='format inputs in a specific way with a specific system message) plus an LLM call.How are those agents connected?Here is a visualization of how these agents are connected:The main thing controlling the state transitions is the router, but it is a rule-based router and so is rather quite simple. Basically, after each LLM call it looks at the output. If a tool is invoked, then it calls that tool. If no tool is called and the LLM responds \"FINAL ANSWER\" then it returns to the user. Otherwise (if no', metadata={'source': 'https://blog.langchain.dev/langgraph-multi-agent-workflows/', 'title': 'LangGraph: Multi-Agent Workflows', 'language': 'en', 'file_name': 'https://blog.langchain.dev/langgraph-multi-agent-workflows/'}, doc_id='70f03f63-2f8e-4766-aac0-18dae78332b0', wins=2), '7aaee10d-9103-4a02-b930-eed092d262b8': Node(page_content='then it returns to the user. Otherwise (if no tool is called and the LLM does not respond \"FINAL ANSWER\") then it goes to the other LLM.Agent SupervisorExamples:PythonJSIn this example, multiple agents are connected, but compared to above they do NOT share a shared scratchpad. Rather, they have their own independent scratchpads, and then their final responses are appended to a global scratchpad.What are the multiple independent agents?In this case, the independent agents are a LangChain agent.', metadata={'source': 'https://blog.langchain.dev/langgraph-multi-agent-workflows/', 'title': 'LangGraph: Multi-Agent Workflows', 'language': 'en', 'file_name': 'https://blog.langchain.dev/langgraph-multi-agent-workflows/'}, doc_id='7aaee10d-9103-4a02-b930-eed092d262b8', wins=3), '17b3d0d0-8fde-4a5f-a079-aa2f886c2da5': Node(page_content=\"video to walk through these three examples. Hopefully this helps makes these complex topics a little easier to understand!Third Party ApplicationsAs part of this launch, we're also excited to highlight a few applications built on top of LangGraph that utilize the concept of multiple agents.GPT-NewspaperThis is a new project by the minds by GPT-Researcher. GPT-Newspaper is an innovative autonomous agent designed to create personalized newspapers tailored to user preferences. GPT Newspaper\", metadata={'source': 'https://blog.langchain.dev/langgraph-multi-agent-workflows/', 'title': 'LangGraph: Multi-Agent Workflows', 'language': 'en', 'file_name': 'https://blog.langchain.dev/langgraph-multi-agent-workflows/'}, doc_id='17b3d0d0-8fde-4a5f-a079-aa2f886c2da5', wins=2), '371b65c6-1ecb-4561-ac80-fd4ff74864cb': Node(page_content='tailored to user preferences. GPT Newspaper revolutionizes the way we consume news by leveraging the power of AI to curate, write, design, and edit content based on individual tastes and interests. The architecture consists of six specialized sub-agents. There is one key step - a writer <> critique loop which adds in a helpful cycle.Crew AI exampleJoao Moura put together a great example of using CrewAI\\xa0with LangChain and LangGraph to automate the process of automatically checking emails and', metadata={'source': 'https://blog.langchain.dev/langgraph-multi-agent-workflows/', 'title': 'LangGraph: Multi-Agent Workflows', 'language': 'en', 'file_name': 'https://blog.langchain.dev/langgraph-multi-agent-workflows/'}, doc_id='371b65c6-1ecb-4561-ac80-fd4ff74864cb', wins=7), 'b2e456cd-fd54-4818-8d6e-9dbc31f66e60': Node(page_content='the process of automatically checking emails and creating drafts. CrewAI orchestrates autonomous AI agents, enabling them to collaborate and execute complex tasks efficiently.The graph in this example looks like the below:He also worked on a fantastic YouTube video showing this in action.Other FrameworksLangGraph is not the first framework to support multi-agent workflows. Most of the difference between these frameworks largely lies in the mental models and concepts they', metadata={'source': 'https://blog.langchain.dev/langgraph-multi-agent-workflows/', 'title': 'LangGraph: Multi-Agent Workflows', 'language': 'en', 'file_name': 'https://blog.langchain.dev/langgraph-multi-agent-workflows/'}, doc_id='b2e456cd-fd54-4818-8d6e-9dbc31f66e60', wins=3), '8662bfe5-77b5-49ce-89e4-48a3bb73542f': Node(page_content='lies in the mental models and concepts they introduce.AutogenAutogen emerged as perhaps the first multi-agent framework. The biggest difference in mental model between LangGraph and Autogen is in construction of the agents. LangGraph prefers an approach where you explicitly define different agents and transition probabilities, preferring to represent it as a graph. Autogen frames it more as a \"conversation\". We believe that this \"graph\" framing makes it more intuitive and provides better', metadata={'source': 'https://blog.langchain.dev/langgraph-multi-agent-workflows/', 'title': 'LangGraph: Multi-Agent Workflows', 'language': 'en', 'file_name': 'https://blog.langchain.dev/langgraph-multi-agent-workflows/'}, doc_id='8662bfe5-77b5-49ce-89e4-48a3bb73542f', wins=4), '18cef0c6-4685-44cf-9279-8c978f638db5': Node(page_content='makes it more intuitive and provides better developer experience for constructing more complex and opinionated workflows where you really want to control the transition probabilities between nodes. It also supports workflows that aren\\'t explicitly captured by \"conversations.\"Another key difference between Autogen and LangGraph is that LangGraph is fully integrated into the LangChain ecosystem, meaning you take fully advantage of all the LangChain integrations and LangSmith', metadata={'source': 'https://blog.langchain.dev/langgraph-multi-agent-workflows/', 'title': 'LangGraph: Multi-Agent Workflows', 'language': 'en', 'file_name': 'https://blog.langchain.dev/langgraph-multi-agent-workflows/'}, doc_id='18cef0c6-4685-44cf-9279-8c978f638db5', wins=4), '693286ee-9480-404b-a68d-ef6087255c58': Node(page_content='of all the LangChain integrations and LangSmith observability.CrewAIAnother key framework we want to highlight is CrewAI. CrewAI has emerged recently as a popular way to create multi-agent \"teams\". Compared to LangGraph, CrewAI is a higher-level framework. In fact, we are actively working with the CrewAI team to integration LangGraph into CrewAI! We think CrewAI has arrived at an awesome higher level DevEx and we want to support that.TagsBy LangChainJoin our newsletterUpdates from the LangChain', metadata={'source': 'https://blog.langchain.dev/langgraph-multi-agent-workflows/', 'title': 'LangGraph: Multi-Agent Workflows', 'language': 'en', 'file_name': 'https://blog.langchain.dev/langgraph-multi-agent-workflows/'}, doc_id='693286ee-9480-404b-a68d-ef6087255c58', wins=1), '5682978d-5554-4832-9d54-e63a63e0eddb': Node(page_content='our newsletterUpdates from the LangChain team and communityEnter your emailSubscribeProcessing your application...Success! Please check your inbox and click the link to confirm your subscription.Sorry, something went wrong. Please try again.You might also likeReflection Agentsagents6 min readPlan-and-Execute AgentsBy LangChain5 min read[Week of 2/19] LangChain Release NotesBy LangChain1 min readRakuten Group builds with LangChain and LangSmith to deliver premium products for its business', metadata={'source': 'https://blog.langchain.dev/langgraph-multi-agent-workflows/', 'title': 'LangGraph: Multi-Agent Workflows', 'language': 'en', 'file_name': 'https://blog.langchain.dev/langgraph-multi-agent-workflows/'}, doc_id='5682978d-5554-4832-9d54-e63a63e0eddb', wins=2), '69d87c59-9ed5-4f3c-9f41-8a5460310089': Node(page_content='to deliver premium products for its business clients and employeesBy LangChain3 min read[Week of 2/5] LangChain Release NotesBy LangChain4 min readLangChain Partners with CommandBar on their Copilot User AssistantBy LangChain2 min readSign upÂ© LangChain Blog 2024', metadata={'source': 'https://blog.langchain.dev/langgraph-multi-agent-workflows/', 'title': 'LangGraph: Multi-Agent Workflows', 'language': 'en', 'file_name': 'https://blog.langchain.dev/langgraph-multi-agent-workflows/'}, doc_id='69d87c59-9ed5-4f3c-9f41-8a5460310089')}, run_config=RunConfig(timeout=60, max_retries=15, max_wait=90, max_workers=16, exception_types=<class 'openai.RateLimitError'>)), node_filter=NodeFilter(llm=LangchainLLMWrapper(run_config=RunConfig(timeout=60, max_retries=15, max_wait=90, max_workers=16, exception_types=<class 'openai.RateLimitError'>)), threshold=1.5, context_scoring_prompt=Prompt(name='score_context', instruction='\\n    Given a context, perform the following task and output the answer in VALID JSON format: Assess the provided context and assign a numerical score of 1 (Low), 2 (Medium), or 3 (High) for each of the following criteria in your JSON response:\\n\\nclarity: Evaluate the precision and understandability of the information presented. High scores (3) are reserved for contexts that are both precise in their information and easy to understand. Low scores (1) are for contexts where the information is vague or hard to comprehend.\\ndepth: Determine the level of detailed examination and the inclusion of innovative insights within the context. A high score indicates a comprehensive and insightful analysis, while a low score suggests a superficial treatment of the topic.\\nstructure: Assess how well the content is organized and whether it flows logically. High scores are awarded to contexts that demonstrate coherent organization and logical progression, whereas low scores indicate a lack of structure or clarity in progression.\\nrelevance: Judge the pertinence of the content to the main topic, awarding high scores to contexts tightly focused on the subject without unnecessary digressions, and low scores to those that are cluttered with irrelevant information.\\nStructure your JSON output to reflect these criteria as keys with their corresponding scores as values\\n    ', output_format_instruction='The output should be a well-formatted JSON instance that conforms to the JSON schema below.\\n\\nAs an example, for the schema {\"properties\": {\"foo\": {\"title\": \"Foo\", \"description\": \"a list of strings\", \"type\": \"array\", \"items\": {\"type\": \"string\"}}}, \"required\": [\"foo\"]}\\nthe object {\"foo\": [\"bar\", \"baz\"]} is a well-formatted instance of the schema. The object {\"properties\": {\"foo\": [\"bar\", \"baz\"]}} is not well-formatted.\\n\\nHere is the output JSON schema:\\n```\\n{\"type\": \"object\", \"properties\": {\"clarity\": {\"title\": \"Clarity\", \"type\": \"integer\"}, \"depth\": {\"title\": \"Depth\", \"type\": \"integer\"}, \"structure\": {\"title\": \"Structure\", \"type\": \"integer\"}, \"relevance\": {\"title\": \"Relevance\", \"type\": \"integer\"}}, \"required\": [\"clarity\", \"depth\", \"structure\", \"relevance\"]}\\n```\\n\\nDo not return any preamble or explanations, return only a pure JSON string surrounded by triple backticks (```).', examples=[{'context': 'The Pythagorean theorem is a fundamental principle in geometry. It states that in a right-angled triangle, the square of the length of the hypotenuse (the side opposite the right angle) is equal to the sum of the squares of the lengths of the other two sides. This can be written as a^2 + b^2 = c^2 where c represents the length of the hypotenuse, and a and b represent the lengths of the other two sides.', 'output': {'clarity': 3, 'depth': 1, 'structure': 3, 'relevance': 3}}, {'context': 'Albert Einstein (14 March 1879 - 18 April 1955) was a German-born theoretical physicist who is widely held to be one of the greatest and most influential scientists of all time.', 'output': {'clarity': 3, 'depth': 2, 'structure': 3, 'relevance': 3}}, {'context': \"I love chocolate. It's really tasty. Oh, and by the way, the earth orbits the sun, not the other way around. Also, my favorite color is blue.\", 'output': {'clarity': 2, 'depth': 1, 'structure': 1, 'relevance': 1}}], input_keys=['context'], output_key='output', output_type='json', language='english')), question_filter=QuestionFilter(llm=LangchainLLMWrapper(run_config=RunConfig(timeout=60, max_retries=15, max_wait=90, max_workers=16, exception_types=<class 'openai.RateLimitError'>)), filter_question_prompt=Prompt(name='filter_question', instruction='\\nAsses the given question for clarity and answerability given enough domain knowledge, consider the following criteria:\\n1.Independence: Can the question be understood and answered without needing additional context or access to external references not provided within the question itself? Questions should be self-contained, meaning they do not rely on specific documents, tables, or prior knowledge not shared within the question.\\n2.Clear Intent: Is it clear what type of answer or information the question seeks? The question should convey its purpose without ambiguity, allowing for a direct and relevant response.\\nBased on these criteria, assign a verdict of \"1\" if a question is specific, independent, and has a clear intent, making it understandable and answerable based on the details provided. Assign \"0\" if it fails to meet one or more of these criteria due to vagueness, reliance on external references, or ambiguity in intent.\\nProvide feedback and a verdict in JSON format, including suggestions for improvement if the question is deemed unclear. Highlight aspects of the question that contribute to its clarity or lack thereof, and offer advice on how it could be reframed or detailed for better understanding and answerability.\\n', output_format_instruction='The output should be a well-formatted JSON instance that conforms to the JSON schema below.\\n\\nAs an example, for the schema {\"properties\": {\"foo\": {\"title\": \"Foo\", \"description\": \"a list of strings\", \"type\": \"array\", \"items\": {\"type\": \"string\"}}}, \"required\": [\"foo\"]}\\nthe object {\"foo\": [\"bar\", \"baz\"]} is a well-formatted instance of the schema. The object {\"properties\": {\"foo\": [\"bar\", \"baz\"]}} is not well-formatted.\\n\\nHere is the output JSON schema:\\n```\\n{\"type\": \"object\", \"properties\": {\"feedback\": {\"title\": \"Feedback\", \"type\": \"string\"}, \"verdict\": {\"title\": \"Verdict\", \"type\": \"integer\"}}, \"required\": [\"feedback\", \"verdict\"]}\\n```\\n\\nDo not return any preamble or explanations, return only a pure JSON string surrounded by triple backticks (```).', examples=[{'question': 'What is the discovery about space?', 'output': {'feedback': \"The question is too vague and broad, asking for a 'discovery about space' without specifying any particular aspect, time frame, or context of interest. This could refer to a wide range of topics, from the discovery of new celestial bodies to advancements in space travel technology. To improve clarity and answerability, the question could specify the type of discovery (e.g., astronomical, technological), the time frame (e.g., recent, historical), or the context (e.g., within a specific research study or space mission).\", 'verdict': 0}}, {'question': \"How does ALMA-13B-R perform compared to other translation models in the WMT'23 study, based on the results in context1 and context2?\", 'output': {'feedback': \"This question asks for a comparison of the ALMA-13B-R model's performance against other translation models within the WMT'23 study, specifically referring to results in 'context1' and 'context2'. While it clearly specifies the model of interest (ALMA-13B-R) and the study (WMT'23), it assumes access to and understanding of 'context1' and 'context2' without explaining what these contexts entail. This makes the question unclear for those not familiar with the WMT'23 study or these specific contexts. To improve clarity and answerability for a broader audience, the question could benefit from defining or describing 'context1' and 'context2' or explaining the criteria used for comparison in these contexts.\", 'verdict': 0}}, {'question': 'How do KIWI-XXL and XCOMET compare to the gold standard references in Table 1 in terms of evaluation scores, translation model performance, and success rate in surpassing the references?', 'output': {'feedback': \"The question requests a comparison between KIWI-XXL and XCOMET models and gold standard references in 'Table 1', focusing on evaluation scores, translation model performance, and success rates in surpassing the references. It specifies the models and criteria for comparison, making the intent clear. However, the question assumes access to 'Table 1' without providing its content or context, making it unclear for those without direct access to the source material. To be clearer and more answerable for a general audience, the question could include a brief description of the content or key findings of 'Table 1', or alternatively, frame the question in a way that does not rely on specific, unpublished documents.\", 'verdict': 0}}, {'question': 'What is the configuration of UL2 training objective in OpenMoE and why is it a better choice for pre-training?', 'output': {'feedback': 'The question asks for the configuration of the UL2 training objective within the OpenMoE framework and the rationale behind its suitability for pre-training. It is clear in specifying the topic of interest (UL2 training objective, OpenMoE) and seeks detailed information on both the configuration and the reasons for its effectiveness in pre-training. However, the question might be challenging for those unfamiliar with the specific terminology or the context of OpenMoE and UL2. For broader clarity and answerability, it would be helpful if the question included a brief explanation or context about OpenMoE and the UL2 training objective, or clarified the aspects of pre-training effectiveness it refers to (e.g., efficiency, accuracy, generalization).', 'verdict': 1}}, {'question': 'What is the detailed configuration of the UL2 training objective in OpenMoE, based on the provided context?', 'output': {'feedback': \"The question seeks detailed information on the UL2 training objective's configuration within the OpenMoE framework, mentioning 'the provided context' without actually including or describing this context within the query. This makes the question unclear for those who do not have access to the unspecified context. For the question to be clear and answerable, it needs to either include the relevant context directly within the question or be framed in a way that does not require external information. Detailing the specific aspects of the configuration of interest (e.g., loss functions, data augmentation techniques) could also help clarify the query.\", 'verdict': 0}}], input_keys=['question'], output_key='output', output_type='json', language='english')), question_answer_prompt=Prompt(name='answer_formulate', instruction=\"Answer the question using the information from the given context. Output verdict as '1' if answer is present '-1' if answer is not present in the context.\", output_format_instruction='', examples=[{'context': 'Climate change is significantly influenced by human activities, notably the emission of greenhouse gases from burning fossil fuels. The increased greenhouse gas concentration in the atmosphere traps more heat, leading to global warming and changes in weather patterns.', 'question': 'How do human activities contribute to climate change?', 'answer': {'answer': 'Human activities contribute to climate change primarily through the emission of greenhouse gases from burning fossil fuels. These emissions increase the concentration of greenhouse gases in the atmosphere, which traps more heat and leads to global warming and altered weather patterns.', 'verdict': '1'}}, {'context': 'The concept of artificial intelligence (AI) has evolved over time, but it fundamentally refers to machines designed to mimic human cognitive functions. AI can learn, reason, perceive, and, in some instances, react like humans, making it pivotal in fields ranging from healthcare to autonomous vehicles.', 'question': 'What are the key capabilities of artificial intelligence?', 'answer': {'answer': 'Artificial intelligence is designed to mimic human cognitive functions, with key capabilities including learning, reasoning, perception, and reacting to the environment in a manner similar to humans. These capabilities make AI pivotal in various fields, including healthcare and autonomous driving.', 'verdict': '1'}}, {'context': 'The novel \"Pride and Prejudice\" by Jane Austen revolves around the character Elizabeth Bennet and her family. The story is set in the 19th century in rural England and deals with issues of marriage, morality, and misconceptions.', 'question': \"What year was 'Pride and Prejudice' published?\", 'answer': {'answer': 'The answer to given question is not present in context', 'verdict': '-1'}}], input_keys=['context', 'question'], output_key='answer', output_type='json', language='english'), find_relevant_context_prompt=Prompt(name='find_relevant_context', instruction='Given a question and set of contexts, find the most relevant contexts to answer the question.', output_format_instruction='', examples=[{'question': 'What is the capital of France?', 'contexts': ['1. France is a country in Western Europe. It has several cities, including Paris, Lyon, and Marseille. Paris is not only known for its cultural landmarks like the Eiffel Tower and the Louvre Museum but also as the administrative center.', '2. The capital of France is Paris. It is also the most populous city in France, with a population of over 2 million people. Paris is known for its cultural landmarks like the Eiffel Tower and the Louvre Museum.', '3. Paris is the capital of France. It is also the most populous city in France, with a population of over 2 million people. Paris is known for its cultural landmarks like the Eiffel Tower and the Louvre Museum.'], 'output': {'relevant_contexts': [1, 2]}}, {'question': 'How does caffeine affect the body and what are its common sources?', 'contexts': ['1. Caffeine is a central nervous system stimulant. It can temporarily ward off drowsiness and restore alertness. It primarily affects the brain, where it alters the function of neurotransmitters.', '2. Regular physical activity is essential for maintaining good health. It can help control weight, combat health conditions, boost energy, and promote better sleep.', '3. Common sources of caffeine include coffee, tea, cola, and energy drinks. These beverages are consumed worldwide and are known for providing a quick boost of energy.'], 'output': {'relevant_contexts': [1, 2]}}], input_keys=['question', 'contexts'], output_key='output', output_type='json', language='english'), rewrite_invalid_question_prompt=Prompt(name='rewrite_question', instruction='Given a context, question and feedback, rewrite the question to improve its clarity and answerability based on the feedback provided.', output_format_instruction='', examples=[{'context': \"The Eiffel Tower was constructed using iron and was originally intended as a temporary exhibit for the 1889 World's Fair held in Paris. Despite its initial temporary purpose, the Eiffel Tower quickly became a symbol of Parisian ingenuity and an iconic landmark of the city, attracting millions of visitors each year. The tower's design, created by Gustave Eiffel, was initially met with criticism from some French artists and intellectuals, but it has since been celebrated as a masterpiece of structural engineering and architectural design.\", 'question': 'Who created the design for the Tower?', 'feedback': \"The question asks about the creator of the design for 'the Tower', but it does not specify which tower it refers to. There are many towers worldwide, and without specifying the exact tower, the question is unclear and unanswerable. To improve the question, it should include the name or a clear description of the specific tower in question.\", 'output': 'Who created the design for the Eiffel Tower?'}, {'context': \"'Exploring Zero-Shot Learning in Neural Networks' was published by Smith and Lee in 2021, focusing on the application of zero-shot learning techniques in artificial intelligence.\", 'question': 'What datasets were used for the zero-shot evaluations in this study?', 'feedback': \"The question asks about the datasets used for zero-shot evaluations in 'this study', without specifying or providing any details about the study in question. This makes the question unclear for those who do not have access to or knowledge of the specific study. To improve clarity and answerability, the question should specify the study it refers to, or provide enough context about the study for the question to be understood and answered independently.\", 'output': 'What datasets were used for the zero-shot evaluations Exploring Zero-Shot Learning in Neural Networks paper?'}], input_keys=['context', 'question', 'feedback'], output_key='output', output_type='str', language='english'), max_tries=5, is_async=True, seed_question_prompt=Prompt(name='seed_question', instruction='Generate a question that can be fully answered from given context. The question should be formed using topic', output_format_instruction='', examples=[{'context': 'Photosynthesis in plants involves converting light energy into chemical energy, using chlorophyll and other pigments to absorb light. This process is crucial for plant growth and the production of oxygen.', 'keyphrase': 'Photosynthesis', 'question': 'What is the role of photosynthesis in plant growth?'}, {'context': 'The Industrial Revolution, starting in the 18th century, marked a major turning point in history as it led to the development of factories and urbanization.', 'keyphrase': 'Industrial Revolution', 'question': 'How did the Industrial Revolution mark a major turning point in history?'}, {'context': 'The process of evaporation plays a crucial role in the water cycle, converting water from liquid to vapor and allowing it to rise into the atmosphere.', 'keyphrase': 'Evaporation', 'question': 'Why is evaporation important in the water cycle?'}], input_keys=['context', 'keyphrase'], output_key='question', output_type='str', language='english'))\n"
          ]
        }
      ]
    },
    {
      "cell_type": "code",
      "source": [
        "testset.to_pandas()"
      ],
      "metadata": {
        "colab": {
          "base_uri": "https://localhost:8080/",
          "height": 98
        },
        "id": "3958ourKcb8Z",
        "outputId": "2c47a632-5f68-423b-9007-f3c40fef1a07"
      },
      "execution_count": 48,
      "outputs": [
        {
          "output_type": "execute_result",
          "data": {
            "text/plain": [
              "                                            question  \\\n",
              "0  What's the deal with routers operating based o...   \n",
              "\n",
              "                                            contexts  \\\n",
              "0  [format inputs in a specific way with a specif...   \n",
              "\n",
              "                                        ground_truth evolution_type  \\\n",
              "0  The router is the component that mainly contro...      reasoning   \n",
              "\n",
              "                                            metadata  episode_done  \n",
              "0  [{'source': 'https://blog.langchain.dev/langgr...          True  "
            ],
            "text/html": [
              "\n",
              "  <div id=\"df-632e32f2-76dc-4603-85cc-6490cfd96edc\" class=\"colab-df-container\">\n",
              "    <div>\n",
              "<style scoped>\n",
              "    .dataframe tbody tr th:only-of-type {\n",
              "        vertical-align: middle;\n",
              "    }\n",
              "\n",
              "    .dataframe tbody tr th {\n",
              "        vertical-align: top;\n",
              "    }\n",
              "\n",
              "    .dataframe thead th {\n",
              "        text-align: right;\n",
              "    }\n",
              "</style>\n",
              "<table border=\"1\" class=\"dataframe\">\n",
              "  <thead>\n",
              "    <tr style=\"text-align: right;\">\n",
              "      <th></th>\n",
              "      <th>question</th>\n",
              "      <th>contexts</th>\n",
              "      <th>ground_truth</th>\n",
              "      <th>evolution_type</th>\n",
              "      <th>metadata</th>\n",
              "      <th>episode_done</th>\n",
              "    </tr>\n",
              "  </thead>\n",
              "  <tbody>\n",
              "    <tr>\n",
              "      <th>0</th>\n",
              "      <td>What's the deal with routers operating based o...</td>\n",
              "      <td>[format inputs in a specific way with a specif...</td>\n",
              "      <td>The router is the component that mainly contro...</td>\n",
              "      <td>reasoning</td>\n",
              "      <td>[{'source': 'https://blog.langchain.dev/langgr...</td>\n",
              "      <td>True</td>\n",
              "    </tr>\n",
              "  </tbody>\n",
              "</table>\n",
              "</div>\n",
              "    <div class=\"colab-df-buttons\">\n",
              "\n",
              "  <div class=\"colab-df-container\">\n",
              "    <button class=\"colab-df-convert\" onclick=\"convertToInteractive('df-632e32f2-76dc-4603-85cc-6490cfd96edc')\"\n",
              "            title=\"Convert this dataframe to an interactive table.\"\n",
              "            style=\"display:none;\">\n",
              "\n",
              "  <svg xmlns=\"http://www.w3.org/2000/svg\" height=\"24px\" viewBox=\"0 -960 960 960\">\n",
              "    <path d=\"M120-120v-720h720v720H120Zm60-500h600v-160H180v160Zm220 220h160v-160H400v160Zm0 220h160v-160H400v160ZM180-400h160v-160H180v160Zm440 0h160v-160H620v160ZM180-180h160v-160H180v160Zm440 0h160v-160H620v160Z\"/>\n",
              "  </svg>\n",
              "    </button>\n",
              "\n",
              "  <style>\n",
              "    .colab-df-container {\n",
              "      display:flex;\n",
              "      gap: 12px;\n",
              "    }\n",
              "\n",
              "    .colab-df-convert {\n",
              "      background-color: #E8F0FE;\n",
              "      border: none;\n",
              "      border-radius: 50%;\n",
              "      cursor: pointer;\n",
              "      display: none;\n",
              "      fill: #1967D2;\n",
              "      height: 32px;\n",
              "      padding: 0 0 0 0;\n",
              "      width: 32px;\n",
              "    }\n",
              "\n",
              "    .colab-df-convert:hover {\n",
              "      background-color: #E2EBFA;\n",
              "      box-shadow: 0px 1px 2px rgba(60, 64, 67, 0.3), 0px 1px 3px 1px rgba(60, 64, 67, 0.15);\n",
              "      fill: #174EA6;\n",
              "    }\n",
              "\n",
              "    .colab-df-buttons div {\n",
              "      margin-bottom: 4px;\n",
              "    }\n",
              "\n",
              "    [theme=dark] .colab-df-convert {\n",
              "      background-color: #3B4455;\n",
              "      fill: #D2E3FC;\n",
              "    }\n",
              "\n",
              "    [theme=dark] .colab-df-convert:hover {\n",
              "      background-color: #434B5C;\n",
              "      box-shadow: 0px 1px 3px 1px rgba(0, 0, 0, 0.15);\n",
              "      filter: drop-shadow(0px 1px 2px rgba(0, 0, 0, 0.3));\n",
              "      fill: #FFFFFF;\n",
              "    }\n",
              "  </style>\n",
              "\n",
              "    <script>\n",
              "      const buttonEl =\n",
              "        document.querySelector('#df-632e32f2-76dc-4603-85cc-6490cfd96edc button.colab-df-convert');\n",
              "      buttonEl.style.display =\n",
              "        google.colab.kernel.accessAllowed ? 'block' : 'none';\n",
              "\n",
              "      async function convertToInteractive(key) {\n",
              "        const element = document.querySelector('#df-632e32f2-76dc-4603-85cc-6490cfd96edc');\n",
              "        const dataTable =\n",
              "          await google.colab.kernel.invokeFunction('convertToInteractive',\n",
              "                                                    [key], {});\n",
              "        if (!dataTable) return;\n",
              "\n",
              "        const docLinkHtml = 'Like what you see? Visit the ' +\n",
              "          '<a target=\"_blank\" href=https://colab.research.google.com/notebooks/data_table.ipynb>data table notebook</a>'\n",
              "          + ' to learn more about interactive tables.';\n",
              "        element.innerHTML = '';\n",
              "        dataTable['output_type'] = 'display_data';\n",
              "        await google.colab.output.renderOutput(dataTable, element);\n",
              "        const docLink = document.createElement('div');\n",
              "        docLink.innerHTML = docLinkHtml;\n",
              "        element.appendChild(docLink);\n",
              "      }\n",
              "    </script>\n",
              "  </div>\n",
              "\n",
              "\n",
              "    </div>\n",
              "  </div>\n"
            ],
            "application/vnd.google.colaboratory.intrinsic+json": {
              "type": "dataframe",
              "summary": "{\n  \"name\": \"testset\",\n  \"rows\": 1,\n  \"fields\": [\n    {\n      \"column\": \"question\",\n      \"properties\": {\n        \"dtype\": \"string\",\n        \"num_unique_values\": 1,\n        \"samples\": [\n          \"What's the deal with routers operating based on sys msg and tool relationship?\"\n        ],\n        \"semantic_type\": \"\",\n        \"description\": \"\"\n      }\n    },\n    {\n      \"column\": \"contexts\",\n      \"properties\": {\n        \"dtype\": \"object\",\n        \"semantic_type\": \"\",\n        \"description\": \"\"\n      }\n    },\n    {\n      \"column\": \"ground_truth\",\n      \"properties\": {\n        \"dtype\": \"string\",\n        \"num_unique_values\": 1,\n        \"samples\": [\n          \"The router is the component that mainly controls the state transitions. After each LLM call, it checks the output. If a tool is invoked, it calls that tool. If the LLM provides a final answer, it returns it to the user. If no tool is called and the LLM doesn't provide a final answer, it transitions to the next state.\"\n        ],\n        \"semantic_type\": \"\",\n        \"description\": \"\"\n      }\n    },\n    {\n      \"column\": \"evolution_type\",\n      \"properties\": {\n        \"dtype\": \"string\",\n        \"num_unique_values\": 1,\n        \"samples\": [\n          \"reasoning\"\n        ],\n        \"semantic_type\": \"\",\n        \"description\": \"\"\n      }\n    },\n    {\n      \"column\": \"metadata\",\n      \"properties\": {\n        \"dtype\": \"object\",\n        \"semantic_type\": \"\",\n        \"description\": \"\"\n      }\n    },\n    {\n      \"column\": \"episode_done\",\n      \"properties\": {\n        \"dtype\": \"boolean\",\n        \"num_unique_values\": 1,\n        \"samples\": [\n          true\n        ],\n        \"semantic_type\": \"\",\n        \"description\": \"\"\n      }\n    }\n  ]\n}"
            }
          },
          "metadata": {},
          "execution_count": 48
        }
      ]
    },
    {
      "cell_type": "code",
      "source": [
        "%%capture\n",
        "pip install chromadb"
      ],
      "metadata": {
        "id": "QdnVxiTYc5gf"
      },
      "execution_count": 49,
      "outputs": []
    },
    {
      "cell_type": "code",
      "source": [
        "from langchain_openai.embeddings import OpenAIEmbeddings\n",
        "\n",
        "from langchain_community.vectorstores import Chroma\n",
        "from langchain_openai import ChatOpenAI\n",
        "\n",
        "embedding = OpenAIEmbeddings()\n",
        "model = ChatOpenAI()\n",
        "\n",
        "vectorstore = Chroma.from_documents(chunks, embedding)\n",
        "retriever = vectorstore.as_retriever()"
      ],
      "metadata": {
        "id": "hpXK06xjcfIA"
      },
      "execution_count": 50,
      "outputs": []
    },
    {
      "cell_type": "code",
      "source": [
        "from langchain_core.prompts import PromptTemplate\n",
        "\n",
        "template = \"\"\"Answer the question based only on the following context:\n",
        "{context}\n",
        "\n",
        "Question: {question}\n",
        "\"\"\"\n",
        "\n",
        "prompt = PromptTemplate(\n",
        "    template=template,\n",
        "    input_variables=[\"context\",\"question\"]\n",
        "  )"
      ],
      "metadata": {
        "id": "jUZMAF5rc3pp"
      },
      "execution_count": 51,
      "outputs": []
    },
    {
      "cell_type": "code",
      "source": [
        "from langchain.schema.runnable import RunnablePassthrough\n",
        "from langchain.schema.output_parser import StrOutputParser\n",
        "\n",
        "rag_chain = (\n",
        "    {\"context\": retriever,  \"question\": RunnablePassthrough()}\n",
        "    | prompt\n",
        "    | model\n",
        "    | StrOutputParser()\n",
        ")"
      ],
      "metadata": {
        "id": "6jJa2dIzdOyP"
      },
      "execution_count": 52,
      "outputs": []
    },
    {
      "cell_type": "code",
      "source": [
        "questions = testset.to_pandas()[\"question\"].to_list()\n",
        "ground_truth = testset.to_pandas()[\"ground_truth\"].to_list()"
      ],
      "metadata": {
        "id": "qoe9GFoCdQ3G"
      },
      "execution_count": 53,
      "outputs": []
    },
    {
      "cell_type": "code",
      "source": [
        "questions"
      ],
      "metadata": {
        "colab": {
          "base_uri": "https://localhost:8080/"
        },
        "id": "uZd-lyBDdUMc",
        "outputId": "2cb95ded-58a9-4d83-af25-a2f185da99db"
      },
      "execution_count": 54,
      "outputs": [
        {
          "output_type": "execute_result",
          "data": {
            "text/plain": [
              "[\"What's the deal with routers operating based on sys msg and tool relationship?\"]"
            ]
          },
          "metadata": {},
          "execution_count": 54
        }
      ]
    },
    {
      "cell_type": "code",
      "source": [
        "from datasets import Dataset\n",
        "\n",
        "questions = testset.to_pandas()[\"question\"].to_list()\n",
        "ground_truth = testset.to_pandas()[\"ground_truth\"].to_list()\n",
        "\n",
        "data = {\"question\": [], \"answer\": [], \"contexts\": [], \"ground_truth\": ground_truth}\n",
        "\n",
        "for query in questions:\n",
        "    data[\"question\"].append(query)\n",
        "    data[\"answer\"].append(rag_chain.invoke(query))\n",
        "    data[\"contexts\"].append([doc.page_content for doc in retriever.get_relevant_documents(query)])\n",
        "\n",
        "dataset = Dataset.from_dict(data)"
      ],
      "metadata": {
        "id": "DVrbrB4gdVex",
        "colab": {
          "base_uri": "https://localhost:8080/"
        },
        "outputId": "bd12aa70-b0a8-4b89-a206-a84c2b83a88d"
      },
      "execution_count": 55,
      "outputs": [
        {
          "output_type": "stream",
          "name": "stderr",
          "text": [
            "/usr/local/lib/python3.10/dist-packages/langchain_core/_api/deprecation.py:119: LangChainDeprecationWarning: The method `BaseRetriever.get_relevant_documents` was deprecated in langchain-core 0.1.46 and will be removed in 0.3.0. Use invoke instead.\n",
            "  warn_deprecated(\n"
          ]
        }
      ]
    },
    {
      "cell_type": "code",
      "source": [
        "dataset"
      ],
      "metadata": {
        "colab": {
          "base_uri": "https://localhost:8080/"
        },
        "id": "W05C3IokdeSd",
        "outputId": "8077f21e-d549-4bc1-810a-6f695cace05a"
      },
      "execution_count": 56,
      "outputs": [
        {
          "output_type": "execute_result",
          "data": {
            "text/plain": [
              "Dataset({\n",
              "    features: ['question', 'answer', 'contexts', 'ground_truth'],\n",
              "    num_rows: 1\n",
              "})"
            ]
          },
          "metadata": {},
          "execution_count": 56
        }
      ]
    },
    {
      "cell_type": "code",
      "source": [
        "from ragas import evaluate\n",
        "from ragas.metrics import (\n",
        "    faithfulness,\n",
        "    answer_relevancy,\n",
        "    context_relevancy,\n",
        "    context_recall,\n",
        "    context_precision,\n",
        ")\n",
        "\n",
        "result = evaluate(\n",
        "    dataset = dataset,\n",
        "    metrics=[\n",
        "        context_relevancy,\n",
        "        context_precision,\n",
        "        context_recall,\n",
        "        faithfulness,\n",
        "        answer_relevancy,\n",
        "    ],\n",
        ")"
      ],
      "metadata": {
        "colab": {
          "base_uri": "https://localhost:8080/",
          "height": 49,
          "referenced_widgets": [
            "014b14ccd1bd44c299900e13a7bd59ee",
            "e3e6a35f4f3b44d6b5bbc1a665c0421f",
            "4711bd7ae7cb488f91e2833a8fe5dc72",
            "43ce032a037444dc99d94d098bf5692f",
            "3f92b7843d934a59bb720462b0d6cf6d",
            "3fc67a2cdbad444eba946c76cd82f404",
            "b507cd7fc5c8404991da8fd850c60de7",
            "b499e4c9be0147428378f38ef0065703",
            "10b34c01fb984795958448314d69125d",
            "36e8d316641144e0981b70d5b6387607",
            "529af38014c843a791c0f857272f8aa2"
          ]
        },
        "id": "E2oJDPepdiTX",
        "outputId": "4b275015-0af4-4a68-a468-341f68899c02"
      },
      "execution_count": 57,
      "outputs": [
        {
          "output_type": "display_data",
          "data": {
            "text/plain": [
              "Evaluating:   0%|          | 0/5 [00:00<?, ?it/s]"
            ],
            "application/vnd.jupyter.widget-view+json": {
              "version_major": 2,
              "version_minor": 0,
              "model_id": "014b14ccd1bd44c299900e13a7bd59ee"
            }
          },
          "metadata": {}
        }
      ]
    },
    {
      "cell_type": "code",
      "source": [
        "result.to_pandas()"
      ],
      "metadata": {
        "colab": {
          "base_uri": "https://localhost:8080/",
          "height": 115
        },
        "id": "yMT4lNB9dls_",
        "outputId": "3a07d41f-d6c9-4662-b08d-6e05deafe2c3"
      },
      "execution_count": 58,
      "outputs": [
        {
          "output_type": "execute_result",
          "data": {
            "text/plain": [
              "                                            question  \\\n",
              "0  What's the deal with routers operating based o...   \n",
              "\n",
              "                                              answer  \\\n",
              "0  The routers operate based on system messages a...   \n",
              "\n",
              "                                            contexts  \\\n",
              "0  [format inputs in a specific way with a specif...   \n",
              "\n",
              "                                        ground_truth  context_relevancy  \\\n",
              "0  The router is the component that mainly contro...                0.0   \n",
              "\n",
              "   context_precision  context_recall  faithfulness  answer_relevancy  \n",
              "0                1.0             1.0           1.0          0.770274  "
            ],
            "text/html": [
              "\n",
              "  <div id=\"df-b4aeaa56-27b8-43d6-97f7-9964c5f9d533\" class=\"colab-df-container\">\n",
              "    <div>\n",
              "<style scoped>\n",
              "    .dataframe tbody tr th:only-of-type {\n",
              "        vertical-align: middle;\n",
              "    }\n",
              "\n",
              "    .dataframe tbody tr th {\n",
              "        vertical-align: top;\n",
              "    }\n",
              "\n",
              "    .dataframe thead th {\n",
              "        text-align: right;\n",
              "    }\n",
              "</style>\n",
              "<table border=\"1\" class=\"dataframe\">\n",
              "  <thead>\n",
              "    <tr style=\"text-align: right;\">\n",
              "      <th></th>\n",
              "      <th>question</th>\n",
              "      <th>answer</th>\n",
              "      <th>contexts</th>\n",
              "      <th>ground_truth</th>\n",
              "      <th>context_relevancy</th>\n",
              "      <th>context_precision</th>\n",
              "      <th>context_recall</th>\n",
              "      <th>faithfulness</th>\n",
              "      <th>answer_relevancy</th>\n",
              "    </tr>\n",
              "  </thead>\n",
              "  <tbody>\n",
              "    <tr>\n",
              "      <th>0</th>\n",
              "      <td>What's the deal with routers operating based o...</td>\n",
              "      <td>The routers operate based on system messages a...</td>\n",
              "      <td>[format inputs in a specific way with a specif...</td>\n",
              "      <td>The router is the component that mainly contro...</td>\n",
              "      <td>0.0</td>\n",
              "      <td>1.0</td>\n",
              "      <td>1.0</td>\n",
              "      <td>1.0</td>\n",
              "      <td>0.770274</td>\n",
              "    </tr>\n",
              "  </tbody>\n",
              "</table>\n",
              "</div>\n",
              "    <div class=\"colab-df-buttons\">\n",
              "\n",
              "  <div class=\"colab-df-container\">\n",
              "    <button class=\"colab-df-convert\" onclick=\"convertToInteractive('df-b4aeaa56-27b8-43d6-97f7-9964c5f9d533')\"\n",
              "            title=\"Convert this dataframe to an interactive table.\"\n",
              "            style=\"display:none;\">\n",
              "\n",
              "  <svg xmlns=\"http://www.w3.org/2000/svg\" height=\"24px\" viewBox=\"0 -960 960 960\">\n",
              "    <path d=\"M120-120v-720h720v720H120Zm60-500h600v-160H180v160Zm220 220h160v-160H400v160Zm0 220h160v-160H400v160ZM180-400h160v-160H180v160Zm440 0h160v-160H620v160ZM180-180h160v-160H180v160Zm440 0h160v-160H620v160Z\"/>\n",
              "  </svg>\n",
              "    </button>\n",
              "\n",
              "  <style>\n",
              "    .colab-df-container {\n",
              "      display:flex;\n",
              "      gap: 12px;\n",
              "    }\n",
              "\n",
              "    .colab-df-convert {\n",
              "      background-color: #E8F0FE;\n",
              "      border: none;\n",
              "      border-radius: 50%;\n",
              "      cursor: pointer;\n",
              "      display: none;\n",
              "      fill: #1967D2;\n",
              "      height: 32px;\n",
              "      padding: 0 0 0 0;\n",
              "      width: 32px;\n",
              "    }\n",
              "\n",
              "    .colab-df-convert:hover {\n",
              "      background-color: #E2EBFA;\n",
              "      box-shadow: 0px 1px 2px rgba(60, 64, 67, 0.3), 0px 1px 3px 1px rgba(60, 64, 67, 0.15);\n",
              "      fill: #174EA6;\n",
              "    }\n",
              "\n",
              "    .colab-df-buttons div {\n",
              "      margin-bottom: 4px;\n",
              "    }\n",
              "\n",
              "    [theme=dark] .colab-df-convert {\n",
              "      background-color: #3B4455;\n",
              "      fill: #D2E3FC;\n",
              "    }\n",
              "\n",
              "    [theme=dark] .colab-df-convert:hover {\n",
              "      background-color: #434B5C;\n",
              "      box-shadow: 0px 1px 3px 1px rgba(0, 0, 0, 0.15);\n",
              "      filter: drop-shadow(0px 1px 2px rgba(0, 0, 0, 0.3));\n",
              "      fill: #FFFFFF;\n",
              "    }\n",
              "  </style>\n",
              "\n",
              "    <script>\n",
              "      const buttonEl =\n",
              "        document.querySelector('#df-b4aeaa56-27b8-43d6-97f7-9964c5f9d533 button.colab-df-convert');\n",
              "      buttonEl.style.display =\n",
              "        google.colab.kernel.accessAllowed ? 'block' : 'none';\n",
              "\n",
              "      async function convertToInteractive(key) {\n",
              "        const element = document.querySelector('#df-b4aeaa56-27b8-43d6-97f7-9964c5f9d533');\n",
              "        const dataTable =\n",
              "          await google.colab.kernel.invokeFunction('convertToInteractive',\n",
              "                                                    [key], {});\n",
              "        if (!dataTable) return;\n",
              "\n",
              "        const docLinkHtml = 'Like what you see? Visit the ' +\n",
              "          '<a target=\"_blank\" href=https://colab.research.google.com/notebooks/data_table.ipynb>data table notebook</a>'\n",
              "          + ' to learn more about interactive tables.';\n",
              "        element.innerHTML = '';\n",
              "        dataTable['output_type'] = 'display_data';\n",
              "        await google.colab.output.renderOutput(dataTable, element);\n",
              "        const docLink = document.createElement('div');\n",
              "        docLink.innerHTML = docLinkHtml;\n",
              "        element.appendChild(docLink);\n",
              "      }\n",
              "    </script>\n",
              "  </div>\n",
              "\n",
              "\n",
              "    </div>\n",
              "  </div>\n"
            ],
            "application/vnd.google.colaboratory.intrinsic+json": {
              "type": "dataframe",
              "summary": "{\n  \"name\": \"result\",\n  \"rows\": 1,\n  \"fields\": [\n    {\n      \"column\": \"question\",\n      \"properties\": {\n        \"dtype\": \"string\",\n        \"num_unique_values\": 1,\n        \"samples\": [\n          \"What's the deal with routers operating based on sys msg and tool relationship?\"\n        ],\n        \"semantic_type\": \"\",\n        \"description\": \"\"\n      }\n    },\n    {\n      \"column\": \"answer\",\n      \"properties\": {\n        \"dtype\": \"string\",\n        \"num_unique_values\": 1,\n        \"samples\": [\n          \"The routers operate based on system messages and tool relationships. After each LLM call, the router looks at the output. If a tool is invoked, it calls that tool. If no tool is called and the LLM responds \\\"FINAL ANSWER,\\\" then it returns to the user. If no tool is called and the LLM does not respond \\\"FINAL ANSWER,\\\" then it goes to another LLM.\"\n        ],\n        \"semantic_type\": \"\",\n        \"description\": \"\"\n      }\n    },\n    {\n      \"column\": \"contexts\",\n      \"properties\": {\n        \"dtype\": \"object\",\n        \"semantic_type\": \"\",\n        \"description\": \"\"\n      }\n    },\n    {\n      \"column\": \"ground_truth\",\n      \"properties\": {\n        \"dtype\": \"string\",\n        \"num_unique_values\": 1,\n        \"samples\": [\n          \"The router is the component that mainly controls the state transitions. After each LLM call, it checks the output. If a tool is invoked, it calls that tool. If the LLM provides a final answer, it returns it to the user. If no tool is called and the LLM doesn't provide a final answer, it transitions to the next state.\"\n        ],\n        \"semantic_type\": \"\",\n        \"description\": \"\"\n      }\n    },\n    {\n      \"column\": \"context_relevancy\",\n      \"properties\": {\n        \"dtype\": \"number\",\n        \"std\": null,\n        \"min\": 0.0,\n        \"max\": 0.0,\n        \"num_unique_values\": 1,\n        \"samples\": [\n          0.0\n        ],\n        \"semantic_type\": \"\",\n        \"description\": \"\"\n      }\n    },\n    {\n      \"column\": \"context_precision\",\n      \"properties\": {\n        \"dtype\": \"number\",\n        \"std\": null,\n        \"min\": 0.999999999975,\n        \"max\": 0.999999999975,\n        \"num_unique_values\": 1,\n        \"samples\": [\n          0.999999999975\n        ],\n        \"semantic_type\": \"\",\n        \"description\": \"\"\n      }\n    },\n    {\n      \"column\": \"context_recall\",\n      \"properties\": {\n        \"dtype\": \"number\",\n        \"std\": null,\n        \"min\": 1.0,\n        \"max\": 1.0,\n        \"num_unique_values\": 1,\n        \"samples\": [\n          1.0\n        ],\n        \"semantic_type\": \"\",\n        \"description\": \"\"\n      }\n    },\n    {\n      \"column\": \"faithfulness\",\n      \"properties\": {\n        \"dtype\": \"number\",\n        \"std\": null,\n        \"min\": 1.0,\n        \"max\": 1.0,\n        \"num_unique_values\": 1,\n        \"samples\": [\n          1.0\n        ],\n        \"semantic_type\": \"\",\n        \"description\": \"\"\n      }\n    },\n    {\n      \"column\": \"answer_relevancy\",\n      \"properties\": {\n        \"dtype\": \"number\",\n        \"std\": null,\n        \"min\": 0.7702743712767445,\n        \"max\": 0.7702743712767445,\n        \"num_unique_values\": 1,\n        \"samples\": [\n          0.7702743712767445\n        ],\n        \"semantic_type\": \"\",\n        \"description\": \"\"\n      }\n    }\n  ]\n}"
            }
          },
          "metadata": {},
          "execution_count": 58
        }
      ]
    },
    {
      "cell_type": "code",
      "source": [
        "%%capture\n",
        "pip install seaborn"
      ],
      "metadata": {
        "id": "gW4PIL0ddqxG"
      },
      "execution_count": 59,
      "outputs": []
    },
    {
      "cell_type": "code",
      "source": [
        "%%capture\n",
        "pip install matplotlib"
      ],
      "metadata": {
        "id": "AMVgsNTsd2qS"
      },
      "execution_count": 60,
      "outputs": []
    },
    {
      "cell_type": "code",
      "source": [
        "import seaborn as sns\n",
        "import matplotlib.pyplot as plt\n",
        "from matplotlib.colors import LinearSegmentedColormap\n",
        "\n",
        "df = result.to_pandas()\n",
        "\n",
        "heatmap_data = df[['context_relevancy', 'context_precision', 'context_recall', 'faithfulness', 'answer_relevancy']]\n",
        "\n",
        "cmap = LinearSegmentedColormap.from_list('green_red', ['red', 'green'])\n",
        "\n",
        "plt.figure(figsize=(10, 8))\n",
        "sns.heatmap(heatmap_data, annot=True, fmt=\".2f\", linewidths=.5, cmap=cmap)\n",
        "\n",
        "plt.yticks(ticks=range(len(df['question'])), labels=df['question'], rotation=0)\n",
        "\n",
        "plt.show()"
      ],
      "metadata": {
        "colab": {
          "base_uri": "https://localhost:8080/",
          "height": 796
        },
        "id": "ZtBkfbead_H9",
        "outputId": "3acabf7d-f930-4892-a307-2ac081bc7a76"
      },
      "execution_count": 61,
      "outputs": [
        {
          "output_type": "display_data",
          "data": {
            "text/plain": [
              "<Figure size 1000x800 with 2 Axes>"
            ],
            "image/png": "[encoded data removed]"
          },
          "metadata": {}
        }
      ]
    },
    {
      "cell_type": "code",
      "source": [],
      "metadata": {
        "id": "Jfu5mncUyAvQ"
      },
      "execution_count": null,
      "outputs": []
    }
  ]
}